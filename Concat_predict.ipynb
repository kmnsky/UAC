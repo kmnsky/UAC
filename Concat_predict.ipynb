{
 "cells": [
  {
   "cell_type": "markdown",
   "id": "aaf264a8",
   "metadata": {},
   "source": [
    "## Concat"
   ]
  },
  {
   "cell_type": "markdown",
   "id": "b2f743c3",
   "metadata": {},
   "source": [
    "### Import"
   ]
  },
  {
   "cell_type": "code",
   "execution_count": 1,
   "id": "65fd8a52",
   "metadata": {},
   "outputs": [],
   "source": [
    "# data analysis and wrangling\n",
    "import pandas as pd\n",
    "import numpy as np\n",
    "import re\n",
    "import datetime as dt\n",
    "\n",
    "# # visualization\n",
    "# import seaborn as sns\n",
    "# import matplotlib.pyplot as plt\n",
    "# %matplotlib inline\n",
    "\n",
    "# Writing multiple dataframes to worksheets using Pandas and XlsxWriter\n",
    "import xlsxwriter\n",
    "import glob"
   ]
  },
  {
   "cell_type": "markdown",
   "id": "604393cf",
   "metadata": {},
   "source": [
    "### Naming"
   ]
  },
  {
   "cell_type": "code",
   "execution_count": 2,
   "id": "ff4b6bee",
   "metadata": {},
   "outputs": [],
   "source": [
    "try:\n",
    "    xls= pd.ExcelFile(r'C:\\Users\\u1-510\\Desktop\\Model_Time\\Naming\\Google_naming.xlsx')\n",
    "    naming = pd.read_excel(xls, 'Google_nameng')\n",
    "    replace_naming = pd.read_excel(xls, 'Replace')\n",
    "    df_app = pd.read_excel(xls, 'App')\n",
    "except:\n",
    "    print('Файл отсутствует')"
   ]
  },
  {
   "cell_type": "code",
   "execution_count": 3,
   "id": "a1a9c292",
   "metadata": {},
   "outputs": [],
   "source": [
    "replace_naming.drop_duplicates(subset=['Stock_Campaign'], keep='last', inplace = True)"
   ]
  },
  {
   "cell_type": "code",
   "execution_count": 4,
   "id": "a65303e9",
   "metadata": {},
   "outputs": [],
   "source": [
    "df_app.drop_duplicates(subset=['App'], inplace = True)"
   ]
  },
  {
   "cell_type": "code",
   "execution_count": 5,
   "id": "03bf3764",
   "metadata": {},
   "outputs": [],
   "source": [
    "# Замена пробелов\n",
    "replace_naming['Stock_Campaign'].replace(r'\\s+','',regex=True, inplace=True)\n",
    "replace_naming['Replace'].replace(r'\\s+','',regex=True, inplace=True)"
   ]
  },
  {
   "cell_type": "code",
   "execution_count": 6,
   "id": "e00a2fbc",
   "metadata": {},
   "outputs": [],
   "source": [
    "Google_nameng = replace_naming['Replace'].tolist()\n",
    "Stock_Campaign = replace_naming['Stock_Campaign'].tolist()"
   ]
  },
  {
   "cell_type": "markdown",
   "id": "143c9958",
   "metadata": {},
   "source": [
    "### Reading files"
   ]
  },
  {
   "cell_type": "code",
   "execution_count": 7,
   "id": "2f0f5214",
   "metadata": {},
   "outputs": [],
   "source": [
    "df_cost = pd.concat([pd.read_csv(f, sep='\\t', skiprows=2, \n",
    "                                 encoding='UTF-16 LE', header = None) for f in \n",
    "                     glob.glob(r'C:\\Users\\u1-510\\Desktop\\Model_Time\\Join\\cost*.csv')])"
   ]
  },
  {
   "cell_type": "code",
   "execution_count": 8,
   "id": "125f6d6b",
   "metadata": {},
   "outputs": [],
   "source": [
    "df_result = pd.concat([pd.read_csv(f, sep='\\t', skiprows=2, \n",
    "                                   encoding='UTF-16 LE', header = None) for f in \n",
    "                       glob.glob(r'C:\\Users\\u1-510\\Desktop\\Model_Time\\Join\\result*.csv')])"
   ]
  },
  {
   "cell_type": "code",
   "execution_count": 9,
   "id": "49e6afa0",
   "metadata": {},
   "outputs": [],
   "source": [
    "сols = list(df_cost.columns)\n",
    "сols[0] = 'Campaign'\n",
    "сols[1] = 'Ad_group'\n",
    "сols[2] = 'Date'\n",
    "сols[3] = 'Ad_group_target_CPA'\n",
    "сols[4] = 'Network'\n",
    "сols[5] = 'Currency'\n",
    "сols[6] = 'Cost'\n",
    "сols[7] = 'Show'\n",
    "сols[8] = 'Clicks'\n",
    "df_cost.columns = сols"
   ]
  },
  {
   "cell_type": "code",
   "execution_count": 10,
   "id": "c19716e9",
   "metadata": {},
   "outputs": [],
   "source": [
    "сols_result = list(df_result.columns)\n",
    "сols_result[0] = 'Action_conversion'\n",
    "сols_result[1] = 'Campaign'\n",
    "сols_result[2] = 'Ad_group'\n",
    "сols_result[3] = 'Date'\n",
    "сols_result[4] = 'Ad_group_target_CPA'\n",
    "сols_result[5] = 'Network'\n",
    "сols_result[6] = 'Currency'\n",
    "сols_result[7] = 'All_conv'\n",
    "df_result.columns = сols_result"
   ]
  },
  {
   "cell_type": "code",
   "execution_count": 11,
   "id": "0a81ce75",
   "metadata": {},
   "outputs": [],
   "source": [
    "# Фильтр заголовков\n",
    "df_cost = df_cost[df_cost['Campaign'].map(len) > 20]\n",
    "df_result = df_result[df_result['Campaign'].map(len) > 20]"
   ]
  },
  {
   "cell_type": "markdown",
   "id": "d9921907",
   "metadata": {},
   "source": [
    "### Changing formats"
   ]
  },
  {
   "cell_type": "code",
   "execution_count": 14,
   "id": "0c8613bc",
   "metadata": {},
   "outputs": [],
   "source": [
    "# Нижний регистр\n",
    "df_result['Action_conversion'] = df_result['Action_conversion'].str.lower()"
   ]
  },
  {
   "cell_type": "code",
   "execution_count": 15,
   "id": "9385ead2",
   "metadata": {},
   "outputs": [],
   "source": [
    "# Сбросить индексы\n",
    "df_result.reset_index(drop=True, inplace=True)\n",
    "df_cost.reset_index(drop=True, inplace=True)"
   ]
  },
  {
   "cell_type": "code",
   "execution_count": 16,
   "id": "df40d30e",
   "metadata": {},
   "outputs": [],
   "source": [
    "# Замена значений\n",
    "df_result['Action_conversion'].loc[df_result['Action_conversion']\n",
    "                                   .str.contains(r'\\bвстановлення додатк|встановлення|установк|instal|installs\\b')] = 'Install'\n",
    "df_result['Action_conversion'].loc[df_result['Action_conversion'].str.contains(r'\\bsession_start\\b')] = 'Session start'\n",
    "df_result['Action_conversion'].loc[df_result['Action_conversion'].str.contains(r'\\bfirst_open\\b')] = 'First open'\n",
    "df_result['Action_conversion'].loc[df_result['Action_conversion'].str.contains(r'\\bsign_up\\b')] = 'Registration'\n",
    "df_result['Action_conversion'].loc[df_result['Action_conversion'].str.contains(r'\\bin_app_purchase\\b')] = 'FTD'"
   ]
  },
  {
   "cell_type": "code",
   "execution_count": 17,
   "id": "ea8b92f9",
   "metadata": {},
   "outputs": [],
   "source": [
    "# Изменение форматов \n",
    "df_result['Ad_group_target_CPA'].replace(r'\\s+','',regex=True, inplace=True)\n",
    "df_result['Ad_group_target_CPA'] = df_result['Ad_group_target_CPA'].apply(lambda x: x.replace(',','.'))\n",
    "df_result['Ad_group_target_CPA'] = df_result['Ad_group_target_CPA'].astype(float)\n",
    "df_result['Ad_group_target_CPA'] = df_result['Ad_group_target_CPA'].astype(int)\n",
    "df_result['Ad_group_target_CPA'] = df_result['Ad_group_target_CPA'].astype(str)\n",
    "\n",
    "df_result['All_conv'].replace(r'\\s+','',regex=True, inplace=True)\n",
    "df_result['All_conv'] = df_result['All_conv'].apply(lambda x: x.replace(',','.'))\n",
    "df_result['All_conv'] = df_result['All_conv'].astype(float)\n",
    "df_result['All_conv'] = df_result['All_conv'].astype(int)"
   ]
  },
  {
   "cell_type": "code",
   "execution_count": 18,
   "id": "3b98afae",
   "metadata": {},
   "outputs": [],
   "source": [
    "# Замена пробелов\n",
    "df_cost['Show'].replace(r'\\s+','',regex=True, inplace=True)\n",
    "df_cost['Cost'].replace(r'\\s+','',regex=True, inplace=True)\n",
    "df_cost['Clicks'].replace(r'\\s+','',regex=True, inplace=True)"
   ]
  },
  {
   "cell_type": "code",
   "execution_count": 19,
   "id": "72e341c8",
   "metadata": {},
   "outputs": [],
   "source": [
    "# Изменение форматов\n",
    "df_cost['Ad_group_target_CPA'].replace(r'\\s+','',regex=True, inplace=True)\n",
    "df_cost['Ad_group_target_CPA'] = df_cost['Ad_group_target_CPA'].apply(lambda x: x.replace(',','.'))\n",
    "df_cost['Ad_group_target_CPA'] = df_cost['Ad_group_target_CPA'].astype(float)\n",
    "df_cost['Ad_group_target_CPA'] = df_cost['Ad_group_target_CPA'].astype(int)\n",
    "df_cost['Ad_group_target_CPA'] = df_cost['Ad_group_target_CPA'].astype(str)\n",
    "\n",
    "df_cost['Show'] = df_cost['Show'].apply(lambda x: x.replace(',',''))\n",
    "df_cost['Show'] = df_cost['Show'].astype(int)\n",
    "df_cost['Cost'] = df_cost['Cost'].apply(lambda x: x.replace(',','.'))\n",
    "df_cost['Cost'] = df_cost['Cost'].astype(float)\n",
    "df_cost['Clicks'] = df_cost['Clicks'].astype(int)"
   ]
  },
  {
   "cell_type": "code",
   "execution_count": 20,
   "id": "dd25cb2a",
   "metadata": {},
   "outputs": [],
   "source": [
    "# Преобразование даты\n",
    "df_cost['Date'] = pd.to_datetime(df_cost['Date'])\n",
    "df_cost['Date'] = df_cost['Date'].apply(lambda x: x.date())\n",
    "\n",
    "df_result['Date'] = pd.to_datetime(df_result['Date'])\n",
    "df_result['Date'] = df_result['Date'].apply(lambda x: x.date())"
   ]
  },
  {
   "cell_type": "markdown",
   "id": "b787e443",
   "metadata": {},
   "source": [
    "### Currency conversion"
   ]
  },
  {
   "cell_type": "code",
   "execution_count": 21,
   "id": "e2fa061d",
   "metadata": {},
   "outputs": [],
   "source": [
    "# получение курса RUB на сегодняшнюю дату\n",
    "import requests\n",
    "try:\n",
    "    r = requests.get('https://bank.gov.ua/NBUStatService/v1/statdirectory/exchange?valcode=RUB&json').json()\n",
    "    RUB_ = r[0]['rate']\n",
    "    r_USD = requests.get('https://bank.gov.ua/NBUStatService/v1/statdirectory/exchange?valcode=USD&json').json()\n",
    "    USD_ = r_USD[0]['rate']\n",
    "except:\n",
    "    RUB_ = 0.4\n",
    "    USD_ = 27"
   ]
  },
  {
   "cell_type": "code",
   "execution_count": 22,
   "id": "f10a4611",
   "metadata": {},
   "outputs": [],
   "source": [
    "#RUB\n",
    "df_cost_rub = df_cost.loc[df_cost.Currency == 'RUB']\n",
    "df_cost_rub = df_cost_rub.assign(Cost = df_cost_rub.Cost*RUB_)\n",
    "df_cost_uah = df_cost.loc[df_cost.Currency != 'RUB']\n",
    "f_cost = pd.concat([df_cost_uah, df_cost_rub])"
   ]
  },
  {
   "cell_type": "code",
   "execution_count": 23,
   "id": "ea9b49ba",
   "metadata": {},
   "outputs": [],
   "source": [
    "# #USD\n",
    "df_cost_usd = df_cost.loc[df_cost.Currency == 'USD']\n",
    "df_cost_usd = df_cost_usd.assign(Cost = df_cost_usd.Cost*USD_)\n",
    "df_cost_usd = df_cost_usd.round(decimals=2)\n",
    "df_cost_uah = df_cost.loc[df_cost.Currency == 'UAH']\n",
    "df_cost = pd.concat([df_cost_uah, df_cost_usd])"
   ]
  },
  {
   "cell_type": "markdown",
   "id": "0833cf71",
   "metadata": {},
   "source": [
    "### Sorting"
   ]
  },
  {
   "cell_type": "code",
   "execution_count": 26,
   "id": "57cc9963",
   "metadata": {},
   "outputs": [],
   "source": [
    "# Сортировка по убыванию\n",
    "df_cost = df_cost.sort_values(by = ['Cost'], axis = 0, ascending=False)"
   ]
  },
  {
   "cell_type": "code",
   "execution_count": 27,
   "id": "b655c072",
   "metadata": {},
   "outputs": [],
   "source": [
    "# Сортировка от Я до А\n",
    "df_result = df_result.sort_values(by = ['Action_conversion', 'All_conv'], axis = 0, ascending=[True, False])"
   ]
  },
  {
   "cell_type": "code",
   "execution_count": 28,
   "id": "d541e8e3",
   "metadata": {
    "scrolled": true
   },
   "outputs": [
    {
     "data": {
      "text/plain": [
       "array(['FTD', 'First open', 'Install', 'Registration', 'Session start'],\n",
       "      dtype=object)"
      ]
     },
     "execution_count": 28,
     "metadata": {},
     "output_type": "execute_result"
    }
   ],
   "source": [
    "df_result['Action_conversion'].unique()"
   ]
  },
  {
   "cell_type": "markdown",
   "id": "9fa07964",
   "metadata": {},
   "source": [
    "### Page pivot result"
   ]
  },
  {
   "cell_type": "code",
   "execution_count": 29,
   "id": "caa15a7d",
   "metadata": {},
   "outputs": [],
   "source": [
    "# Фильтр по конверсиям\n",
    "df_result_filter = df_result[df_result['Action_conversion'].str.contains(r'\\bRegistration|First open|Install|Session start|FTD\\b')].copy()"
   ]
  },
  {
   "cell_type": "code",
   "execution_count": 30,
   "id": "90ca2f20",
   "metadata": {},
   "outputs": [],
   "source": [
    "# Удаление колонки\n",
    "df_result_filter.drop(['Currency'], axis=1, inplace=True)"
   ]
  },
  {
   "cell_type": "code",
   "execution_count": 31,
   "id": "80c27a34",
   "metadata": {},
   "outputs": [],
   "source": [
    "# Формирование сводной таблицы\n",
    "pivot_result = df_result_filter.pivot_table(\n",
    "    index=['Campaign', 'Ad_group', 'Ad_group_target_CPA', 'Network','Date'],\n",
    "    columns=['Action_conversion'],\n",
    "    aggfunc=np.sum,\n",
    "    fill_value=0)"
   ]
  },
  {
   "cell_type": "code",
   "execution_count": 32,
   "id": "c94bcc1e",
   "metadata": {},
   "outputs": [],
   "source": [
    "# Удаление уровня Action_conversion\n",
    "pivot_result.columns = pivot_result.columns.droplevel()"
   ]
  },
  {
   "cell_type": "markdown",
   "id": "0f809da7",
   "metadata": {},
   "source": [
    "### Page pivot final"
   ]
  },
  {
   "cell_type": "code",
   "execution_count": 33,
   "id": "90ecea02",
   "metadata": {},
   "outputs": [],
   "source": [
    "# Объединение\n",
    "df_cost_result = pd.merge(df_cost, pivot_result, \n",
    "                    how ='left',  \n",
    "                    left_on=(['Campaign', 'Ad_group', 'Ad_group_target_CPA', 'Network', 'Date']), \n",
    "                    right_index=True)"
   ]
  },
  {
   "cell_type": "code",
   "execution_count": 34,
   "id": "6915a252",
   "metadata": {},
   "outputs": [],
   "source": [
    "try:\n",
    "    df_cost_result = df_cost_result[['Campaign', 'Ad_group', 'Date', 'Ad_group_target_CPA', 'Network',\n",
    "       'Currency', 'Cost', 'Show', 'Clicks', 'First open', 'FTD', 'Install',\n",
    "       'Registration', 'Session start']]\n",
    "except:\n",
    "    try:\n",
    "        df_cost_result['FTD'] = 0\n",
    "        df_cost_result = df_cost_result[['Campaign', 'Ad_group', 'Date', 'Ad_group_target_CPA', 'Network',\n",
    "           'Currency', 'Cost', 'Show', 'Clicks', 'First open', 'FTD', 'Install',\n",
    "           'Registration', 'Session start']]\n",
    "    except:\n",
    "        df_cost_result['FTD'] = 0\n",
    "        df_cost_result['Registration'] = 0\n",
    "        df_cost_result = df_cost_result[['Campaign', 'Ad_group', 'Date', 'Ad_group_target_CPA', 'Network',\n",
    "           'Currency', 'Cost', 'Show', 'Clicks', 'First open', 'FTD', 'Install',\n",
    "           'Registration', 'Session start']]        "
   ]
  },
  {
   "cell_type": "code",
   "execution_count": 35,
   "id": "5642cc0c",
   "metadata": {},
   "outputs": [],
   "source": [
    "pivot_result = pivot_result.reset_index()"
   ]
  },
  {
   "cell_type": "code",
   "execution_count": 36,
   "id": "677416d3",
   "metadata": {},
   "outputs": [],
   "source": [
    "# Замена NaN\n",
    "df_cost_result.replace(np.nan, 0, inplace=True)"
   ]
  },
  {
   "cell_type": "code",
   "execution_count": 37,
   "id": "ed0be5b3",
   "metadata": {},
   "outputs": [],
   "source": [
    "df_final = df_cost_result.copy()"
   ]
  },
  {
   "cell_type": "markdown",
   "id": "ed73e945",
   "metadata": {},
   "source": [
    "### Time"
   ]
  },
  {
   "cell_type": "code",
   "execution_count": 38,
   "id": "e7904567",
   "metadata": {},
   "outputs": [],
   "source": [
    "df_time = naming.copy()"
   ]
  },
  {
   "cell_type": "code",
   "execution_count": 39,
   "id": "13b8376a",
   "metadata": {},
   "outputs": [],
   "source": [
    "# Переименование колонок\n",
    "df_time = df_time.rename(columns=\n",
    "                       {'Время прохождения модерации': 'Moderation_time',\n",
    "                        'Stock_Campaign': 'Campaign',\n",
    "                        'Дата запуска': 'Start_date',\n",
    "                        'Время запуска': 'Start_time'\n",
    "                       })"
   ]
  },
  {
   "cell_type": "code",
   "execution_count": 40,
   "id": "a609a2e5",
   "metadata": {},
   "outputs": [],
   "source": [
    "# Удаление пустых строк\n",
    "df_time.dropna(subset=['Start_date'], inplace=True)\n",
    "df_time.dropna(subset=['Start_time'], inplace=True)\n",
    "df_time.dropna(subset=['Campaign'], inplace=True)"
   ]
  },
  {
   "cell_type": "code",
   "execution_count": 41,
   "id": "781f776b",
   "metadata": {},
   "outputs": [],
   "source": [
    "# Замена точки на двоеточие\n",
    "df_time['Start_time'] = df_time['Start_time'].astype(str)\n",
    "df_time['Start_time'] = df_time['Start_time'].apply(lambda x: x.replace('.',':'))\n",
    "df_time['Start_time'] = df_time['Start_time'].apply(lambda x: x.replace(',',':'))\n",
    "df_time['Start_time'] = df_time['Start_time'].apply(lambda x: x.replace(';',':'))"
   ]
  },
  {
   "cell_type": "code",
   "execution_count": 43,
   "id": "5feee461",
   "metadata": {},
   "outputs": [],
   "source": [
    "df_time['Start_date'] = pd.to_datetime(df_time['Start_date'], format='%Y-%m-%dT')"
   ]
  },
  {
   "cell_type": "code",
   "execution_count": 44,
   "id": "c94c7640",
   "metadata": {},
   "outputs": [],
   "source": [
    "# Создание timestamp\n",
    "df_time['DateTime'] = df_time['Start_date'].astype(str) + ' ' + df_time['Start_time'].astype(str)"
   ]
  },
  {
   "cell_type": "code",
   "execution_count": 45,
   "id": "a1735ae5",
   "metadata": {},
   "outputs": [],
   "source": [
    "df_time['DateTime'] = pd.to_datetime(df_time['DateTime'])\n",
    "# df_time['timestamp'] = df.datetime.values.astype(np.int64) // 10 ** 9"
   ]
  },
  {
   "cell_type": "code",
   "execution_count": 49,
   "id": "5f73f9b8",
   "metadata": {},
   "outputs": [],
   "source": [
    "# Округление времени\n",
    "def rounder(t):\n",
    "    if t.minute >= 30:\n",
    "        return t.replace(second=0, microsecond=0, minute=0, hour=t.hour+1).strftime('%H:%M')\n",
    "    else:\n",
    "        return t.replace(second=0, microsecond=0, minute=0).strftime('%H:%M')\n",
    "\n",
    "df_time['Time'] = df_time['DateTime'].map(rounder)"
   ]
  },
  {
   "cell_type": "code",
   "execution_count": 50,
   "id": "407c7991",
   "metadata": {},
   "outputs": [],
   "source": [
    "# Округление времени\n",
    "def encoding_time(t):\n",
    "    if t.hour >= 10 and t.hour < 13:\n",
    "        return '10-13'\n",
    "    elif t.hour >= 13 and t.hour < 16:\n",
    "        return '13-16'\n",
    "    elif t.hour >= 16 and t.hour < 19:\n",
    "        return '16-19'\n",
    "    elif t.hour >= 19 and t.hour <= 22:\n",
    "        return '19-22'\n",
    "    elif t.hour >= 0 and t.hour < 1:\n",
    "        return '00-00'\n",
    "    elif t.hour >= 1 and t.hour < 5:\n",
    "        return '01-05'\n",
    "    elif t.hour >= 5 and t.hour < 10:\n",
    "        return '05-10'\n",
    "    else:\n",
    "        return 'unknown'\n",
    "    \n",
    "    \n",
    "df_time['Time_code'] = df_time['DateTime'].map(encoding_time)"
   ]
  },
  {
   "cell_type": "code",
   "execution_count": 51,
   "id": "8824e9a9",
   "metadata": {},
   "outputs": [],
   "source": [
    "df_time['Start_date'] = df_time['Start_date'].astype(str)"
   ]
  },
  {
   "cell_type": "code",
   "execution_count": 52,
   "id": "e7459ce8",
   "metadata": {},
   "outputs": [],
   "source": [
    "df_time = df_time[['Campaign', 'Start_date', 'Moderation_time', 'Start_time', 'Time_code']]"
   ]
  },
  {
   "cell_type": "code",
   "execution_count": 53,
   "id": "47cbe735",
   "metadata": {},
   "outputs": [],
   "source": [
    "# Без этого файл двоит\n",
    "df_time.drop_duplicates(subset=['Campaign'], keep='first', inplace=True)"
   ]
  },
  {
   "cell_type": "code",
   "execution_count": 54,
   "id": "13be29e4",
   "metadata": {},
   "outputs": [],
   "source": [
    "df_final = df_final.merge(df_time, how='left', on=[\"Campaign\"])"
   ]
  },
  {
   "cell_type": "markdown",
   "id": "ffce2b28",
   "metadata": {},
   "source": [
    "### Split"
   ]
  },
  {
   "cell_type": "code",
   "execution_count": 55,
   "id": "531ac723",
   "metadata": {},
   "outputs": [],
   "source": [
    "df_final['Campaign_OPI'] = df_final['Campaign']\n",
    "# Замена значений\n",
    "df_final['Campaign_OPI'].replace(Stock_Campaign, Google_nameng, inplace=True)"
   ]
  },
  {
   "cell_type": "code",
   "execution_count": 56,
   "id": "5f488d08",
   "metadata": {},
   "outputs": [],
   "source": [
    "# Обрезать до OPI\n",
    "df_final['Campaign_OPI'] = df_final['Campaign_OPI'].str.findall(r'OP\\S+').str[-1]\n",
    "# Текст по столбцам\n",
    "df_cost_split = df_final['Campaign_OPI'].str.split(r'\\_|\\-', expand=True)\n",
    "# Переименование колонок\n",
    "df_cost_split = df_cost_split.rename(columns=\n",
    "                                     {0: 'Optimization',\n",
    "                                      1: 'Geo',\n",
    "                                      2: 'Brand',\n",
    "                                      3: 'Page',\n",
    "                                      4: 'ADS',\n",
    "                                      5: 'Camp',\n",
    "                                      6: 'Adset',\n",
    "                                      7: 'Creo',\n",
    "                                      8: 'txt',\n",
    "                                      9: 'App',\n",
    "                                      10: 'OwnerApp',\n",
    "                                      11: 'Stream'\n",
    "                                     })"
   ]
  },
  {
   "cell_type": "code",
   "execution_count": 57,
   "id": "3addb0f1",
   "metadata": {},
   "outputs": [],
   "source": [
    "df_final = pd.concat([df_final,df_cost_split],axis=1)"
   ]
  },
  {
   "cell_type": "code",
   "execution_count": 58,
   "id": "d62ba40b",
   "metadata": {},
   "outputs": [],
   "source": [
    "#Замена значений\n",
    "df_final['Ad_group'].replace(regex='Ad group 1', value='adset1', inplace=True)\n",
    "df_final['Ad_group'].replace(regex='Ad group 2', value='adset2', inplace=True)\n",
    "df_final['Ad_group'].replace(regex='Ad group 3', value='adset3', inplace=True)\n",
    "df_final['Ad_group'].replace(regex='Ad group 4', value='adset4', inplace=True)"
   ]
  },
  {
   "cell_type": "code",
   "execution_count": 59,
   "id": "02f4273e",
   "metadata": {},
   "outputs": [],
   "source": [
    "# Удаление пробелов\n",
    "df_final['Ad_group'].replace(r'\\s+','',regex=True, inplace=True)"
   ]
  },
  {
   "cell_type": "markdown",
   "id": "a3fb0ddd",
   "metadata": {},
   "source": [
    "### Replace creo"
   ]
  },
  {
   "cell_type": "code",
   "execution_count": 60,
   "id": "b3b8a7b7",
   "metadata": {},
   "outputs": [],
   "source": [
    "df_final['Creo_new'] = df_final['Ad_group'].str.findall(r'-\\w+').str[-1].str[1:]"
   ]
  },
  {
   "cell_type": "code",
   "execution_count": 61,
   "id": "4dc57647",
   "metadata": {},
   "outputs": [],
   "source": [
    "#Замена пустых полей\n",
    "# None to Nan\n",
    "df_final.Creo_new.fillna(value=np.nan, inplace=True)"
   ]
  },
  {
   "cell_type": "code",
   "execution_count": 62,
   "id": "67379831",
   "metadata": {},
   "outputs": [],
   "source": [
    "df_final['Creo_new'] = df_final['Creo_new'].fillna(df_final['Creo'])"
   ]
  },
  {
   "cell_type": "code",
   "execution_count": 63,
   "id": "59cfa80e",
   "metadata": {},
   "outputs": [],
   "source": [
    "# Удаление колонок\n",
    "df_final.drop('Creo', axis=1, inplace=True)"
   ]
  },
  {
   "cell_type": "code",
   "execution_count": 64,
   "id": "a173ce5a",
   "metadata": {},
   "outputs": [],
   "source": [
    "# Переименование колонок\n",
    "df_final = df_final.rename(columns= {'Creo_new': 'Creo'})"
   ]
  },
  {
   "cell_type": "code",
   "execution_count": 65,
   "id": "b77ea9ba",
   "metadata": {},
   "outputs": [],
   "source": [
    "# Нижний регистр\n",
    "df_final['Ad_group'] = df_final['Ad_group'].str.lower()"
   ]
  },
  {
   "cell_type": "markdown",
   "id": "94305def",
   "metadata": {},
   "source": [
    "### Info App"
   ]
  },
  {
   "cell_type": "code",
   "execution_count": 66,
   "id": "1cfd31fb",
   "metadata": {},
   "outputs": [],
   "source": [
    "# Удаление колонок\n",
    "df_app.drop(['Скрин', 'Link', 'Разработчик', 'Обновлено', 'Базовое кол-во установок'], axis=1, inplace=True)"
   ]
  },
  {
   "cell_type": "code",
   "execution_count": 67,
   "id": "e3793432",
   "metadata": {},
   "outputs": [],
   "source": [
    "# Изменение форматов\n",
    "df_app.replace(np.nan, 0, inplace=True)\n",
    "df_app['Размер'] = df_app['Размер'].astype(int)\n",
    "df_app['К-во белых прил'] = df_app['К-во белых прил'].astype(int)\n",
    "df_app['К-во казиношных прил'] = df_app['К-во казиношных прил'].astype(int)"
   ]
  },
  {
   "cell_type": "code",
   "execution_count": 68,
   "id": "25d3bcc7",
   "metadata": {},
   "outputs": [],
   "source": [
    "#Замена на Main\n",
    "df_final['Stream'].replace('Main|sub3', 'Main', inplace=True)"
   ]
  },
  {
   "cell_type": "code",
   "execution_count": 69,
   "id": "96d5b6be",
   "metadata": {},
   "outputs": [],
   "source": [
    "df_final = df_final.merge(df_app, how='left', on=[\"App\"])"
   ]
  },
  {
   "cell_type": "code",
   "execution_count": 70,
   "id": "c595f485",
   "metadata": {},
   "outputs": [],
   "source": [
    "# # Сортировка по возростанию\n",
    "df_final = df_final.sort_values(by = ['Campaign'], axis = 0, ascending=True)"
   ]
  },
  {
   "cell_type": "code",
   "execution_count": 71,
   "id": "7be7654c",
   "metadata": {},
   "outputs": [],
   "source": [
    "df_final = df_final.assign(Cost_USD =  df_final.Cost/USD_)"
   ]
  },
  {
   "cell_type": "code",
   "execution_count": 72,
   "id": "29f417af",
   "metadata": {},
   "outputs": [],
   "source": [
    "# Два знака после запятой\n",
    "df_final['Cost_USD'] = df_final['Cost_USD'].round(decimals=2)"
   ]
  },
  {
   "cell_type": "code",
   "execution_count": 73,
   "id": "363ff03f",
   "metadata": {},
   "outputs": [],
   "source": [
    "df_final = df_final[['Campaign', 'Ad_group', 'Date', 'Time_code', 'Ad_group_target_CPA', 'Network',\n",
    "       'Currency','Cost_USD', 'Cost', 'Show', 'Clicks', 'First open', 'FTD', 'Install',\n",
    "       'Registration', 'Session start', 'Optimization', 'Geo', 'Brand', 'Page',\n",
    "       'ADS', 'Camp', 'Adset', 'Creo', 'txt', 'App', 'Сategory GP', 'Age limit', 'Type', 'Subtype', 'Android', \n",
    "        'Размер', 'К-во белых прил', 'К-во казиношных прил',\n",
    "        'OwnerApp', 'Stream', 'Start_date', 'Moderation_time', 'Start_time']]"
   ]
  },
  {
   "cell_type": "markdown",
   "id": "8867ecc7",
   "metadata": {},
   "source": [
    "### Pivot table"
   ]
  },
  {
   "cell_type": "code",
   "execution_count": 76,
   "id": "4f42d583",
   "metadata": {},
   "outputs": [],
   "source": [
    "df_youtube = df_final.query(\"Network =='Видео на YouTube'\")"
   ]
  },
  {
   "cell_type": "code",
   "execution_count": 77,
   "id": "61740c34",
   "metadata": {},
   "outputs": [],
   "source": [
    "#Pivot Geo and Place\n",
    "pivot = df_youtube.groupby(['Geo', 'OwnerApp', 'Optimization', 'Creo', 'Brand', \n",
    "                          'Ad_group_target_CPA', 'ADS', 'Camp', 'Ad_group', 'App', 'Date'], as_index=False).sum()"
   ]
  },
  {
   "cell_type": "code",
   "execution_count": 78,
   "id": "0d3bc0ba",
   "metadata": {},
   "outputs": [],
   "source": [
    "# Вычисление\n",
    "pivot = pivot.assign(Cost_USD =  pivot.Cost/USD_)\n",
    "pivot = pivot.assign(Inst_cost =  pivot.Cost_USD/ pivot.Install)\n",
    "pivot = pivot.assign(Open_cost =  pivot.Cost_USD/ pivot['First open'])\n",
    "pivot = pivot.assign(Reg_cost =  pivot.Cost_USD/ pivot.Registration)\n",
    "pivot = pivot.assign(FTD_cost =  pivot.Cost_USD/ pivot.FTD)\n",
    "pivot = pivot.assign(CPM = pivot.Cost_USD/pivot.Show*1000)\n",
    "pivot = pivot.assign(CPC = pivot.Cost_USD/pivot.Clicks)\n",
    "pivot = pivot.assign(CTR = pivot.Clicks/pivot.Show*100)\n",
    "pivot = pivot.assign(CR_click_inst = pivot.Clicks/pivot.Install)\n",
    "pivot = pivot.assign(CR_inst_open = pivot.Install/pivot['First open'])\n",
    "pivot = pivot.assign(CR_open_reg = pivot['First open']/pivot.Registration)\n",
    "pivot = pivot.assign(CR_reg_ftd = pivot.Registration/pivot.FTD)\n",
    "\n",
    "# Замена Inf\n",
    "pivot.replace([np.inf, -np.inf, np.nan], 0, inplace=True)\n",
    "# Два знака после запятой\n",
    "pivot = pivot.round(decimals=2)"
   ]
  },
  {
   "cell_type": "code",
   "execution_count": 79,
   "id": "03beeb8c",
   "metadata": {},
   "outputs": [],
   "source": [
    "pivot['Ad_group_target_CPA'] = pivot['Ad_group_target_CPA'].astype(int)"
   ]
  },
  {
   "cell_type": "code",
   "execution_count": 80,
   "id": "4b5dd920",
   "metadata": {},
   "outputs": [],
   "source": [
    "pivot = pivot.query(\"Cost > 0\")"
   ]
  },
  {
   "cell_type": "code",
   "execution_count": 81,
   "id": "baba292a",
   "metadata": {},
   "outputs": [],
   "source": [
    "# CPM сегмент\n",
    "def cpa_segment(el):\n",
    "    if el <= 40 and el != 0:\n",
    "        return '0 - 40'\n",
    "    elif el == 0:\n",
    "        return 'Auto'\n",
    "    elif el >= 41 and el <= 50:\n",
    "        return '41 - 50'\n",
    "    elif el >= 51 and el <= 60:\n",
    "        return '51 - 60'\n",
    "    elif el >= 61 and el <= 70:\n",
    "        return '61 - 70'\n",
    "    elif el >= 71 and el <= 80:\n",
    "        return '71 - 80'\n",
    "    elif el >= 81 and el <= 90:\n",
    "        return '81 - 90'\n",
    "    elif el >= 91 and el <= 100:\n",
    "        return '91 - 100'\n",
    "    elif el >= 101 and el <= 110:\n",
    "        return '101 - 110'\n",
    "    elif el >= 111 and el <= 120:\n",
    "        return '111 - 120'\n",
    "    elif el >= 121 and el <= 130:\n",
    "        return '121 - 130'\n",
    "    elif el >= 131 and el <= 140:\n",
    "        return '131 - 140'\n",
    "    elif el >= 141 and el <= 150:\n",
    "        return '141 - 150'\n",
    "    elif el >= 150 and el <= 999:\n",
    "        return el\n",
    "    else:\n",
    "        return 'Больше 1000'"
   ]
  },
  {
   "cell_type": "code",
   "execution_count": 82,
   "id": "4b6fac38",
   "metadata": {},
   "outputs": [],
   "source": [
    "# CPM сегмент\n",
    "def cpm_segment(el):\n",
    "    if el <= 3 and el != 0:\n",
    "        return '0 - 3.00'\n",
    "    elif el == 0:\n",
    "        return 'Нет конверсий'\n",
    "    elif el >= 3.01 and el <= 4:\n",
    "        return '3.01 - 4.00'\n",
    "    elif el >= 4.01 and el <= 5:\n",
    "        return '4.01 - 5.00'\n",
    "    elif el >= 5.01 and el <= 6:\n",
    "        return '5.01 - 6.00'\n",
    "    else:\n",
    "        return 'Больше 6.00'"
   ]
  },
  {
   "cell_type": "code",
   "execution_count": 83,
   "id": "5d1203d3",
   "metadata": {},
   "outputs": [],
   "source": [
    "# CPC сегмент\n",
    "def cpc_segment(el):\n",
    "    if el <= 0.10 and el!=0:\n",
    "        return '0 - 0.10'\n",
    "    elif el == 0:\n",
    "        return 'Нет конверсий'\n",
    "    elif el >= 0.11 and el <= 0.20:\n",
    "        return '0,11 - 0,20'\n",
    "    elif el >= 0.21 and el <= 0.30:\n",
    "        return '0.21 - 0.30'\n",
    "    elif el >= 0.31 and el <= 0.40:\n",
    "        return '0.31 - 0.40'\n",
    "    elif el >= 0.41 and el <= 0.50:\n",
    "        return '0.41 - 0.50'\n",
    "    elif el >= 0.51 and el <= 0.60:\n",
    "        return '0.51 - 0.60'\n",
    "    elif el >= 0.61 and el <= 0.70:\n",
    "        return '0.61 - 0.70'\n",
    "    elif el >= 0.71 and el <= 0.80:\n",
    "        return '0,71 - 0,80'\n",
    "    elif el >= 0.81 and el <= 0.90:\n",
    "        return '0.81 - 0.90'\n",
    "    elif el >= 0.91 and el <= 1.00:\n",
    "        return '0.91 - 1.00'\n",
    "    else:\n",
    "        return 'Больше 1.01'"
   ]
  },
  {
   "cell_type": "code",
   "execution_count": 84,
   "id": "bc8a815d",
   "metadata": {},
   "outputs": [],
   "source": [
    "# Inst.cost сегмент\n",
    "def inst_cost_segment(el):\n",
    "    if el <= 1 and el!=0:\n",
    "        return '0.00 - 1.00'\n",
    "    elif el == 0:\n",
    "        return 'Нет конверсий'\n",
    "    elif el >= 1 and el <= 1.5:\n",
    "        return '1.00 - 1.50'\n",
    "    elif el >= 1.51 and el <= 2:\n",
    "        return '1.51 - 2.00'\n",
    "    elif el >= 2.01 and el <= 2.50:\n",
    "        return '2.01 - 2.50'\n",
    "    elif el >= 2.51 and el <= 3.00:\n",
    "        return '2.51 - 3.00'\n",
    "    else:\n",
    "        return 'Больше 3.01'"
   ]
  },
  {
   "cell_type": "code",
   "execution_count": 85,
   "id": "34bf7c16",
   "metadata": {},
   "outputs": [],
   "source": [
    "# Inst.cost сегмент\n",
    "def inst_cost_segment_AU_DE(el):\n",
    "    if el <= 3 and el!=0:\n",
    "        return '0.00 - 3.00'\n",
    "    elif el == 0:\n",
    "        return 'Нет конверсий'\n",
    "    elif el >= 3.01 and el <= 6:\n",
    "        return '3.01 - 6.00'\n",
    "    elif el >= 6.01 and el <= 9:\n",
    "        return '6.01 - 9.00'\n",
    "    elif el >= 9.01 and el <= 12:\n",
    "        return '9.01 - 12.00'\n",
    "    elif el >= 12.01 and el <= 15:\n",
    "        return '12.01 - 15.00'\n",
    "    elif el >= 15.01 and el <= 19:\n",
    "        return '15.01 - 19.00'\n",
    "    else:\n",
    "        return 'Больше 19.01'"
   ]
  },
  {
   "cell_type": "code",
   "execution_count": 86,
   "id": "fa4f6c57",
   "metadata": {},
   "outputs": [],
   "source": [
    "# Reg cost сегмент\n",
    "def reg_cost_segment(el):\n",
    "    if el <= 2 and el!=0:\n",
    "        return '0.00 - 2.00'\n",
    "    elif el == 0:\n",
    "        return 'Нет конверсий'\n",
    "    elif el >= 2.01 and el <= 3:\n",
    "        return '2.01 - 3.00'\n",
    "    elif el >= 3.01 and el <= 4:\n",
    "        return '3.01 - 4.00'\n",
    "    elif el >= 4.01 and el <= 5:\n",
    "        return '4.01 - 5.00'\n",
    "    elif el >= 5.01 and el <= 6:\n",
    "        return '5.01 - 6.01'\n",
    "    elif el >= 7.01 and el <= 8:\n",
    "        return '7.01 - 8.00'\n",
    "    elif el >= 8.01 and el <= 9:\n",
    "        return '8.01 - 9.00'\n",
    "    elif el >= 9.01 and el <= 10:\n",
    "        return '9.01 - 10.00'\n",
    "    else:\n",
    "        return 'Больше 10.01'"
   ]
  },
  {
   "cell_type": "code",
   "execution_count": 87,
   "id": "2b93a5ee",
   "metadata": {},
   "outputs": [],
   "source": [
    "# Reg cost сегмент\n",
    "def reg_cost_segment_AU_DE(el):\n",
    "    if el <= 5 and el!=0:\n",
    "        return '0.00 - 5.00'\n",
    "    elif el == 0:\n",
    "        return 'Нет конверсий'\n",
    "    elif el >= 5.01 and el <= 10:\n",
    "        return '5.01 - 10.00'\n",
    "    elif el >= 10.01 and el <= 15:\n",
    "        return '10.01 - 15.00'\n",
    "    elif el >= 15.01 and el <= 20:\n",
    "        return '15.01 - 20.00'\n",
    "    elif el >= 20.01 and el <= 25:\n",
    "        return '20.01 - 25.00'\n",
    "    elif el >= 25.01 and el <= 30:\n",
    "        return '25.01 - 30.00'\n",
    "    elif el >= 30.01 and el <= 35:\n",
    "        return '30.01 - 35.00'\n",
    "    elif el >= 35.01 and el <= 40:\n",
    "        return '35.01 - 40.00'\n",
    "    else:\n",
    "        return 'Больше 40.01'"
   ]
  },
  {
   "cell_type": "code",
   "execution_count": 88,
   "id": "6bd4061a",
   "metadata": {},
   "outputs": [],
   "source": [
    "#  CTR сегмент\n",
    "def CTR_segment(el):\n",
    "    if el <= 0.10 and el!=0:\n",
    "        return '0.00% - 0.10%'\n",
    "    elif el == 0:\n",
    "        return 'Нет конверсий'\n",
    "    elif el >= 0.11 and el <= 0.20:\n",
    "        return '0.11% - 0.20%'\n",
    "    elif el >= 0.21 and el <= 0.30:\n",
    "        return '0.21% - 0.30%'\n",
    "    elif el >= 0.31 and el <= 0.40:\n",
    "        return '0.31% - 0.40%'\n",
    "    elif el >= 0.41 and el <= 0.50:\n",
    "        return '0.41% - 0.50%'\n",
    "    elif el >= 0.51 and el <= 0.60:\n",
    "        return '0.51% - 0.60%'\n",
    "    elif el >= 0.61 and el <= 0.70:\n",
    "        return '0.61% - 0.70%'\n",
    "    elif el >= 0.71 and el <= 0.80:\n",
    "        return '0.71% - 0.80%'\n",
    "    elif el >= 0.81 and el <= 0.90:\n",
    "        return '0.81% - 0.90%'\n",
    "    elif el >= 0.91 and el <= 1.00:\n",
    "        return '0.91% - 1.00%'\n",
    "    elif el >= 1.01 and el <= 1.10:\n",
    "        return '1.01 - 1.10'\n",
    "    elif el >= 1.11 and el <= 1.20:\n",
    "        return '1.11 - 1.20'\n",
    "    elif el >= 1.21 and el <= 1.30:\n",
    "        return '1.21 - 1.30'\n",
    "    elif el >= 1.31 and el <= 1.40:\n",
    "        return '1.31 - 1.40'\n",
    "    elif el >= 1.41 and el <= 1.50:\n",
    "        return '1.41 - 1.50'\n",
    "    else:\n",
    "        return 'Больше 1.51%'"
   ]
  },
  {
   "cell_type": "code",
   "execution_count": 89,
   "id": "f0382b5a",
   "metadata": {},
   "outputs": [],
   "source": [
    "# Open.cost сегмент\n",
    "def open_cost_segment(el):\n",
    "    if el <= 1 and el!=0:\n",
    "        return '0.00 - 1.00'\n",
    "    elif el == 0:\n",
    "        return 'Нет конверсий'\n",
    "    elif el >= 1 and el <= 1.5:\n",
    "        return '1.00 - 1.50'\n",
    "    elif el >= 1.51 and el <= 2:\n",
    "        return '1.51 - 2.00'\n",
    "    elif el >= 2.01 and el <= 2.50:\n",
    "        return '2.01 - 2.50'\n",
    "    elif el >= 2.51 and el <= 3.00:\n",
    "        return '2.51 - 3.00'\n",
    "    else:\n",
    "        return 'Больше 3.01'"
   ]
  },
  {
   "cell_type": "code",
   "execution_count": 90,
   "id": "0fc5e985",
   "metadata": {},
   "outputs": [],
   "source": [
    "# Inst.cost сегмент\n",
    "def open_cost_segment_AU_DE(el):\n",
    "    if el <= 3 and el!=0:\n",
    "        return '0.00 - 3.00'\n",
    "    elif el == 0:\n",
    "        return 'Нет конверсий'\n",
    "    elif el >= 3.01 and el <= 6:\n",
    "        return '3.01 - 6.00'\n",
    "    elif el >= 6.01 and el <= 9:\n",
    "        return '6.01 - 9.00'\n",
    "    elif el >= 9.01 and el <= 12:\n",
    "        return '9.01 - 12.00'\n",
    "    elif el >= 12.01 and el <= 15:\n",
    "        return '12.01 - 15.00'\n",
    "    elif el >= 15.01 and el <= 19:\n",
    "        return '15.01 - 19.00'\n",
    "    elif el >= 19.01 and el <= 22:\n",
    "        return '19.01 - 22.00'\n",
    "    elif el >= 22.01 and el <= 25:\n",
    "        return '22.01 - 25.00'\n",
    "    else:\n",
    "        return 'Больше 19.01'"
   ]
  },
  {
   "cell_type": "code",
   "execution_count": 91,
   "id": "6a9ae80a",
   "metadata": {},
   "outputs": [],
   "source": [
    "# CR click/inst сегмент\n",
    "def CR_click_inst_segment(el):\n",
    "    if el <= 1.5 and el!=0:\n",
    "        return '0.00 - 1.50'\n",
    "    elif el == 0:\n",
    "        return 'Нет конверсий'\n",
    "    elif el >= 1.51 and el <= 2:\n",
    "        return '1.51 - 2.00'\n",
    "    elif el >= 2.01 and el <= 2.5:\n",
    "        return '2.01 - 2.50'\n",
    "    elif el >= 2.51 and el <= 3:\n",
    "        return '2.51 - 3.00'\n",
    "    elif el >= 3.01 and el <= 3.5:\n",
    "        return '3.01 - 3.50'\n",
    "    elif el >= 3.51 and el <= 4:\n",
    "        return '3.51 - 4.00'\n",
    "    elif el >= 4.01 and el <= 5:\n",
    "        return '4.01 - 5.00'\n",
    "    else:\n",
    "        return 'Больше 5.01'"
   ]
  },
  {
   "cell_type": "code",
   "execution_count": 92,
   "id": "f229d734",
   "metadata": {},
   "outputs": [],
   "source": [
    "#  CR open/reg сегмент\n",
    "def CR_open_reg_segment(el):\n",
    "    if el <= 1 and el!=0:\n",
    "        return '0.00 - 1.00'\n",
    "    elif el == 0:\n",
    "        return 'Нет конверсий'\n",
    "    elif el >= 1.01 and el <= 1.5:\n",
    "        return '1.01 - 1.50'\n",
    "    elif el >= 1.51 and el <= 2:\n",
    "        return '1.51 - 2.00'\n",
    "    elif el >= 2.01 and el <= 2.5:\n",
    "        return '2.01 - 2.50'\n",
    "    else:\n",
    "        return 'Больше 2.51'"
   ]
  },
  {
   "cell_type": "code",
   "execution_count": 93,
   "id": "30c80d40",
   "metadata": {},
   "outputs": [],
   "source": [
    "#  CR reg/ftd сегмент\n",
    "def CR_reg_ftd_segment(el):\n",
    "    if el <= 5 and el!=0:\n",
    "        return '0.00 - 5.00'\n",
    "    elif el == 0:\n",
    "        return 'Нет конверсий'\n",
    "    elif el >= 5.01 and el < 10:\n",
    "        return '5.01 - 10.00'\n",
    "    else:\n",
    "        return 'Больше 10.01'"
   ]
  },
  {
   "cell_type": "code",
   "execution_count": 94,
   "id": "6de053a1",
   "metadata": {},
   "outputs": [],
   "source": [
    "#  CTR сегмент\n",
    "def CTR_cost_segment(el):\n",
    "    if el <= 1 and el!=0:\n",
    "        return '0.00% - 1.00%'\n",
    "    elif el >= 1.01 and el <= 1.5:\n",
    "        return '1.01% - 1.50%'\n",
    "    elif el >= 1.51 and el <= 2:\n",
    "        return '1.51% - 2.00%'\n",
    "    elif el >= 2 and el <= 2.5:\n",
    "        return '2.01% - 2.50%'\n",
    "    elif el >= 2.5 and el <= 3:\n",
    "        return '2.51% - 3.00%'\n",
    "    else:\n",
    "        return '3.00% и больше'"
   ]
  },
  {
   "cell_type": "code",
   "execution_count": 95,
   "id": "e4ad8538",
   "metadata": {},
   "outputs": [],
   "source": [
    "# CR inst/open сегмент  \n",
    "def CR_inst_open_segment(el):\n",
    "    if el <= 1 and el!=0:\n",
    "        return '0.00 - 1.00'\n",
    "    elif el >= 1.01 and el <= 1.5:\n",
    "        return '1.01 - 1.50'\n",
    "    elif el >= 1.51 and el <= 2:\n",
    "        return '1.51 - 2.00'\n",
    "    elif el >= 2.01 and el <= 2.5:\n",
    "        return '2.01 - 2.50'\n",
    "    elif el >= 2.51 and el <= 3:\n",
    "        return '2.51 - 3.00'\n",
    "    else:\n",
    "        return '3.01 и больше'"
   ]
  },
  {
   "cell_type": "code",
   "execution_count": 96,
   "id": "aa07b2aa",
   "metadata": {},
   "outputs": [],
   "source": [
    "pivot['CPA_segment'] = pivot['Ad_group_target_CPA'].map(cpa_segment)\n",
    "pivot['CPM_segment'] = pivot['CPM'].map(cpm_segment)\n",
    "pivot['CPC_segment'] = pivot['CPC'].map(cpc_segment)\n",
    "pivot['Inst_cost_segment'] = pivot['Inst_cost'].map(inst_cost_segment)\n",
    "pivot['Inst_cost_segment_AU_DE'] = pivot['Inst_cost'].map(inst_cost_segment_AU_DE)\n",
    "pivot['Open_cost_segment'] = pivot['Open_cost'].map(open_cost_segment)\n",
    "pivot['Open_cost_segment_AU_DE'] = pivot['Open_cost'].map(open_cost_segment_AU_DE)\n",
    "pivot['Reg_cost_segment'] = pivot['Reg_cost'].map(reg_cost_segment)\n",
    "pivot['Reg_cost_segment_AU_DE'] = pivot['Reg_cost'].map(reg_cost_segment_AU_DE)\n",
    "pivot['CTR_cost_segment'] = pivot['CTR'].map(CTR_segment)\n",
    "pivot['CR_click_inst_segment'] = pivot['CR_click_inst'].map(CR_click_inst_segment)\n",
    "pivot['CR_inst_open_segment'] = pivot['CR_inst_open'].map(CR_inst_open_segment)\n",
    "pivot['CR_open_reg_segment'] = pivot['CR_open_reg'].map(CR_open_reg_segment)\n",
    "pivot['CR_reg_ftd_segment'] = pivot['CR_reg_ftd'].map(CR_reg_ftd_segment)"
   ]
  },
  {
   "cell_type": "code",
   "execution_count": 97,
   "id": "1fc98f95",
   "metadata": {
    "scrolled": true
   },
   "outputs": [],
   "source": [
    "pivot = pivot[['Geo', 'OwnerApp', 'Optimization', 'Creo', 'Brand', 'Ad_group_target_CPA', 'ADS', 'Camp', 'Ad_group',\n",
    "      'App', 'Date','Cost_USD', 'Cost', 'Show', 'Clicks', 'Install', 'First open', \n",
    "      'Registration', 'FTD', 'CPM', 'CPM_segment', 'CPC', 'CPC_segment', \n",
    "      'Inst_cost', 'Inst_cost_segment', 'Inst_cost_segment_AU_DE', 'Open_cost', 'Open_cost_segment', 'Open_cost_segment_AU_DE',\n",
    "      'Reg_cost', 'Reg_cost_segment', 'Reg_cost_segment_AU_DE', 'FTD_cost', 'CTR', 'CTR_cost_segment', \n",
    "      'CR_click_inst', 'CR_click_inst_segment', 'CR_inst_open', 'CR_inst_open_segment',\n",
    "      'CR_open_reg', 'CR_open_reg_segment', 'CR_reg_ftd', 'CR_reg_ftd_segment', 'CPA_segment']]"
   ]
  },
  {
   "cell_type": "code",
   "execution_count": 98,
   "id": "df2ccb21",
   "metadata": {},
   "outputs": [],
   "source": [
    "# Только номер креатива\n",
    "pivot['Creo_group'] = pivot['Creo'].str.split('(\\d+)([A-Za-z]+)', expand=True).loc[:,[1]]\n",
    "df_final['Creo_group'] = df_final['Creo'].str.split('(\\d+)([A-Za-z]+)', expand=True).loc[:,[1]]"
   ]
  },
  {
   "cell_type": "markdown",
   "id": "0baf29e3",
   "metadata": {},
   "source": [
    "## Standardization"
   ]
  },
  {
   "cell_type": "code",
   "execution_count": 99,
   "id": "90083806",
   "metadata": {},
   "outputs": [],
   "source": [
    "from sklearn.preprocessing import StandardScaler\n",
    "from xgboost import XGBClassifier\n",
    "import xgboost as xgb\n",
    "from sklearn.naive_bayes import GaussianNB\n",
    "import pickle"
   ]
  },
  {
   "cell_type": "code",
   "execution_count": 100,
   "id": "0cfe546d",
   "metadata": {},
   "outputs": [],
   "source": [
    "attrs_num = ['CPM', 'CPC', 'CTR', 'Inst_cost', 'Open_cost', 'Reg_cost', 'CR_click_inst', 'CR_inst_open', 'CR_open_reg']\n",
    "scl = StandardScaler()\n",
    "x_num = pd.DataFrame(scl.fit_transform(pivot[attrs_num]), columns=attrs_num)"
   ]
  },
  {
   "cell_type": "code",
   "execution_count": 101,
   "id": "7b646977",
   "metadata": {},
   "outputs": [],
   "source": [
    "train_data = x_num.copy()"
   ]
  },
  {
   "cell_type": "code",
   "execution_count": 102,
   "id": "e0150fed",
   "metadata": {},
   "outputs": [],
   "source": [
    "model = xgb.XGBClassifier()\n",
    "model.load_model(\"model.json\")"
   ]
  },
  {
   "cell_type": "code",
   "execution_count": 103,
   "id": "5322a7c5",
   "metadata": {},
   "outputs": [],
   "source": [
    "pred = model.predict(train_data)"
   ]
  },
  {
   "cell_type": "code",
   "execution_count": 104,
   "id": "57b0b39f",
   "metadata": {},
   "outputs": [],
   "source": [
    "pred_series = pd.Series(pred, name='Prediction')"
   ]
  },
  {
   "cell_type": "code",
   "execution_count": 105,
   "id": "164a1564",
   "metadata": {},
   "outputs": [],
   "source": [
    "pivot = pd.concat([pivot, pred_series], axis=1)"
   ]
  },
  {
   "cell_type": "code",
   "execution_count": 106,
   "id": "01931c52",
   "metadata": {},
   "outputs": [
    {
     "name": "stdout",
     "output_type": "stream",
     "text": [
      "GaussianNB(priors=[0.9, 0.1])\n"
     ]
    }
   ],
   "source": [
    "with open(\"GaussianNB.pkl\", 'rb') as open_file:\n",
    "    loaded_classifier = pickle.load(open_file)\n",
    "\n",
    "print(loaded_classifier)"
   ]
  },
  {
   "cell_type": "code",
   "execution_count": 107,
   "id": "46d72394",
   "metadata": {},
   "outputs": [],
   "source": [
    "pred_g = loaded_classifier.predict(train_data)"
   ]
  },
  {
   "cell_type": "code",
   "execution_count": 108,
   "id": "9a8508c7",
   "metadata": {},
   "outputs": [],
   "source": [
    "pred_series_G = pd.Series(pred_g, name='Optimistic_prediction')"
   ]
  },
  {
   "cell_type": "code",
   "execution_count": 109,
   "id": "14e6757f",
   "metadata": {},
   "outputs": [],
   "source": [
    "pivot = pd.concat([pivot, pred_series_G], axis=1)"
   ]
  },
  {
   "cell_type": "markdown",
   "id": "19d02405",
   "metadata": {},
   "source": [
    "### Save File"
   ]
  },
  {
   "cell_type": "code",
   "execution_count": 110,
   "id": "a8364fbe",
   "metadata": {
    "scrolled": true
   },
   "outputs": [],
   "source": [
    "writer = pd.ExcelWriter('Analysis_Сonversion.xlsx', engine='xlsxwriter')\n",
    "\n",
    "# Write each dataframe to a different worksheet.\n",
    "df_final.to_excel(writer, sheet_name='Pivot', index=False)\n",
    "pivot.to_excel(writer, sheet_name='Segment', index=False)\n",
    "\n",
    "\n",
    "# # Get the xlsxwriter workbook and worksheet objects.\n",
    "workbook  = writer.book\n",
    "worksheet_Pivot = writer.sheets['Pivot']\n",
    "\n",
    "# Number Format Categorie\n",
    "currency_format = workbook.add_format({'num_format': \n",
    "                                       '_-* # ##0_-;-* # ##0_-;_-* \"-\"??_-;_-@_-'})\n",
    "center = workbook.add_format({'align': 'center'})\n",
    "\n",
    "# # Set the column width and format.\n",
    "worksheet_Pivot.set_column('A:C', 12)\n",
    "worksheet_Pivot.set_column('W:W', 20)\n",
    "worksheet_Pivot.set_column('Y:AH', 12)\n",
    "worksheet_Pivot.set_column('G:G', None, center)\n",
    "writer.save()"
   ]
  },
  {
   "cell_type": "code",
   "execution_count": 111,
   "id": "c9760aa7",
   "metadata": {},
   "outputs": [
    {
     "name": "stdout",
     "output_type": "stream",
     "text": [
      "Готово\n"
     ]
    }
   ],
   "source": [
    "print('Готово')"
   ]
  }
 ],
 "metadata": {
  "kernelspec": {
   "display_name": "Python 3",
   "language": "python",
   "name": "python3"
  },
  "language_info": {
   "codemirror_mode": {
    "name": "ipython",
    "version": 3
   },
   "file_extension": ".py",
   "mimetype": "text/x-python",
   "name": "python",
   "nbconvert_exporter": "python",
   "pygments_lexer": "ipython3",
   "version": "3.8.8"
  },
  "toc": {
   "base_numbering": 1,
   "nav_menu": {},
   "number_sections": true,
   "sideBar": true,
   "skip_h1_title": false,
   "title_cell": "Table of Contents",
   "title_sidebar": "Contents",
   "toc_cell": false,
   "toc_position": {
    "height": "calc(100% - 180px)",
    "left": "10px",
    "top": "150px",
    "width": "165px"
   },
   "toc_section_display": true,
   "toc_window_display": true
  }
 },
 "nbformat": 4,
 "nbformat_minor": 5
}
