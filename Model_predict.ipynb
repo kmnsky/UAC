{
 "cells": [
  {
   "cell_type": "code",
   "execution_count": 1,
   "id": "ee74e785",
   "metadata": {},
   "outputs": [],
   "source": [
    "# data analysis and wrangling\n",
    "import pandas as pd\n",
    "import numpy as np\n",
    "import re\n",
    "import datetime as dt\n",
    "\n",
    "# # visualization\n",
    "# import seaborn as sns\n",
    "# import matplotlib.pyplot as plt\n",
    "# %matplotlib inline\n",
    "\n",
    "# Writing multiple dataframes to worksheets using Pandas and XlsxWriter\n",
    "import xlsxwriter\n",
    "import glob\n",
    "\n",
    "# !pip install xlsxwriter\n",
    "# !pip install glob"
   ]
  },
  {
   "cell_type": "code",
   "execution_count": 2,
   "id": "d931a20c",
   "metadata": {},
   "outputs": [],
   "source": [
    "xls = pd.ExcelFile(r'C:\\Users\\u1-510\\Desktop\\Python\\Untitled Folder\\Analysis_Сonversion.xlsx')\n",
    "df = pd.read_excel(xls, 'Segment')"
   ]
  },
  {
   "cell_type": "code",
   "execution_count": 3,
   "id": "211fb064",
   "metadata": {},
   "outputs": [],
   "source": [
    "import re\n",
    "df = df.rename(columns = lambda x:re.sub('[^A-Za-z0-9_]+', '', x))"
   ]
  },
  {
   "cell_type": "code",
   "execution_count": 4,
   "id": "ee3896ad",
   "metadata": {},
   "outputs": [],
   "source": [
    "df = df.query(\"(Geo=='KZ') | (Geo=='RU') | (Geo=='UA')\")"
   ]
  },
  {
   "cell_type": "code",
   "execution_count": 5,
   "id": "023e78e1",
   "metadata": {},
   "outputs": [],
   "source": [
    "df = df.query(\"Network=='Видео на YouTube'\")"
   ]
  },
  {
   "cell_type": "code",
   "execution_count": 6,
   "id": "74779049",
   "metadata": {},
   "outputs": [],
   "source": [
    "# Только номер креатива\n",
    "df['Creo_group'] = df['Creo'].str.split('(\\d+)([A-Za-z]+)', expand=True).loc[:,[1]]"
   ]
  },
  {
   "cell_type": "code",
   "execution_count": 7,
   "id": "861c9005",
   "metadata": {},
   "outputs": [],
   "source": [
    "def ftd_target(el):\n",
    "    if el > 0:\n",
    "        return 1\n",
    "    else:\n",
    "        return 0"
   ]
  },
  {
   "cell_type": "code",
   "execution_count": 8,
   "id": "6fb26e4c",
   "metadata": {},
   "outputs": [],
   "source": [
    "df['Target'] = df['FTD'].map(ftd_target)"
   ]
  },
  {
   "cell_type": "code",
   "execution_count": 9,
   "id": "c2e1d5ac",
   "metadata": {},
   "outputs": [
    {
     "data": {
      "text/plain": [
       "<AxesSubplot:>"
      ]
     },
     "execution_count": 9,
     "metadata": {},
     "output_type": "execute_result"
    },
    {
     "data": {
      "image/png": "[encoded data removed]",
      "text/plain": [
       "<Figure size 432x288 with 1 Axes>"
      ]
     },
     "metadata": {
      "needs_background": "light"
     },
     "output_type": "display_data"
    }
   ],
   "source": [
    "df['Target'].hist()"
   ]
  },
  {
   "cell_type": "code",
   "execution_count": 10,
   "id": "cefd619b",
   "metadata": {},
   "outputs": [
    {
     "data": {
      "text/html": [
       "<div>\n",
       "<style scoped>\n",
       "    .dataframe tbody tr th:only-of-type {\n",
       "        vertical-align: middle;\n",
       "    }\n",
       "\n",
       "    .dataframe tbody tr th {\n",
       "        vertical-align: top;\n",
       "    }\n",
       "\n",
       "    .dataframe thead th {\n",
       "        text-align: right;\n",
       "    }\n",
       "</style>\n",
       "<table border=\"1\" class=\"dataframe\">\n",
       "  <thead>\n",
       "    <tr style=\"text-align: right;\">\n",
       "      <th></th>\n",
       "      <th>index</th>\n",
       "      <th>Target</th>\n",
       "    </tr>\n",
       "  </thead>\n",
       "  <tbody>\n",
       "    <tr>\n",
       "      <th>0</th>\n",
       "      <td>0</td>\n",
       "      <td>12419</td>\n",
       "    </tr>\n",
       "    <tr>\n",
       "      <th>1</th>\n",
       "      <td>1</td>\n",
       "      <td>1261</td>\n",
       "    </tr>\n",
       "  </tbody>\n",
       "</table>\n",
       "</div>"
      ],
      "text/plain": [
       "   index  Target\n",
       "0      0   12419\n",
       "1      1    1261"
      ]
     },
     "execution_count": 10,
     "metadata": {},
     "output_type": "execute_result"
    }
   ],
   "source": [
    "df.Target.value_counts().reset_index()"
   ]
  },
  {
   "cell_type": "code",
   "execution_count": 11,
   "id": "e31559b2",
   "metadata": {},
   "outputs": [],
   "source": [
    "tgt_train = df.copy()"
   ]
  },
  {
   "cell_type": "code",
   "execution_count": 12,
   "id": "3ff30ba4",
   "metadata": {},
   "outputs": [],
   "source": [
    "tgt_train['Campaign'] = tgt_train['ADS'].astype(str) + ' ' +  tgt_train['Camp'].astype(str) + ' ' + tgt_train['Ad_group'].astype(str) + ' ' + tgt_train['Date'].astype(str)"
   ]
  },
  {
   "cell_type": "code",
   "execution_count": 13,
   "id": "c868034b",
   "metadata": {},
   "outputs": [],
   "source": [
    "tgt_train = tgt_train.reset_index()"
   ]
  },
  {
   "cell_type": "code",
   "execution_count": 14,
   "id": "d041f97b",
   "metadata": {},
   "outputs": [],
   "source": [
    "# Словарь класификации\n",
    "codes_cats = tgt_train.Campaign.astype('category')\n",
    "dict_cats = dict(enumerate(codes_cats.cat.categories))"
   ]
  },
  {
   "cell_type": "code",
   "execution_count": 15,
   "id": "a3171df4",
   "metadata": {},
   "outputs": [],
   "source": [
    "# Присвоенные cat.codes\n",
    "tgt_train['ID'] = tgt_train.Campaign.astype('category').cat.codes\n",
    "\n",
    "# Розшифровка\n",
    "#df_group['level_back'] = df_group['ID'].map(dict_cats)"
   ]
  },
  {
   "cell_type": "code",
   "execution_count": 16,
   "id": "07589143",
   "metadata": {},
   "outputs": [
    {
     "data": {
      "text/plain": [
       "Index(['index', 'Geo', 'Network', 'Optimization', 'Creo', 'Brand',\n",
       "       'Ad_group_target_CPA', 'ADS', 'Camp', 'Ad_group', 'App', 'Date',\n",
       "       'Cost_USD', 'Cost', 'Show', 'Clicks', 'Install', 'Firstopen',\n",
       "       'Registration', 'FTD', 'CPM', 'CPM_segment', 'CPC', 'CPC_segment',\n",
       "       'Inst_cost', 'Inst_cost_segment', 'Inst_cost_segment_AU_DE',\n",
       "       'Open_cost', 'Open_cost_segment', 'Open_cost_segment_AU_DE', 'Reg_cost',\n",
       "       'Reg_cost_segment', 'Reg_cost_segment_AU_DE', 'FTD_cost', 'CTR',\n",
       "       'CTR_cost_segment', 'CR_click_inst', 'CR_click_inst_segment',\n",
       "       'CR_inst_open', 'CR_inst_open_segment', 'CR_open_reg',\n",
       "       'CR_open_reg_segment', 'CR_reg_ftd', 'CR_reg_ftd_segment',\n",
       "       'CPA_segment', 'Creo_group', 'Target', 'Campaign', 'ID'],\n",
       "      dtype='object')"
      ]
     },
     "execution_count": 16,
     "metadata": {},
     "output_type": "execute_result"
    }
   ],
   "source": [
    "tgt_train.columns"
   ]
  },
  {
   "cell_type": "code",
   "execution_count": 17,
   "id": "e2710394",
   "metadata": {},
   "outputs": [],
   "source": [
    "tgt_train.drop(['Geo', 'Network', 'Optimization', 'Creo', 'Brand', 'App', 'Date', 'ADS', 'Camp', 'Ad_group',\n",
    "       'Ad_group_target_CPA', 'Cost_USD', 'Cost', 'Show', 'Clicks', 'Install', 'Firstopen',\n",
    "       'Registration', 'FTD', 'Inst_cost_segment_AU_DE', 'Open_cost_segment_AU_DE', \n",
    "                'Reg_cost_segment_AU_DE', 'FTD_cost', 'CR_reg_ftd', 'CR_reg_ftd_segment', 'Campaign', 'CPA_segment'], axis=1, inplace=True)"
   ]
  },
  {
   "cell_type": "code",
   "execution_count": 18,
   "id": "262ffbea",
   "metadata": {},
   "outputs": [
    {
     "data": {
      "text/plain": [
       "Index(['index', 'CPM', 'CPM_segment', 'CPC', 'CPC_segment', 'Inst_cost',\n",
       "       'Inst_cost_segment', 'Open_cost', 'Open_cost_segment', 'Reg_cost',\n",
       "       'Reg_cost_segment', 'CTR', 'CTR_cost_segment', 'CR_click_inst',\n",
       "       'CR_click_inst_segment', 'CR_inst_open', 'CR_inst_open_segment',\n",
       "       'CR_open_reg', 'CR_open_reg_segment', 'Creo_group', 'Target', 'ID'],\n",
       "      dtype='object')"
      ]
     },
     "execution_count": 18,
     "metadata": {},
     "output_type": "execute_result"
    }
   ],
   "source": [
    "tgt_train.columns"
   ]
  },
  {
   "cell_type": "code",
   "execution_count": 19,
   "id": "436b5425",
   "metadata": {
    "scrolled": true
   },
   "outputs": [
    {
     "data": {
      "text/plain": [
       "count    13680.000000\n",
       "mean         0.810386\n",
       "std          1.176064\n",
       "min          0.000000\n",
       "25%          0.000000\n",
       "50%          0.000000\n",
       "75%          1.400000\n",
       "max         25.000000\n",
       "Name: CR_inst_open, dtype: float64"
      ]
     },
     "execution_count": 19,
     "metadata": {},
     "output_type": "execute_result"
    }
   ],
   "source": [
    "tgt_train.CR_inst_open.describe()"
   ]
  },
  {
   "cell_type": "code",
   "execution_count": 20,
   "id": "122b082f",
   "metadata": {},
   "outputs": [
    {
     "data": {
      "text/plain": [
       "count    13680.000000\n",
       "mean         2.123319\n",
       "std          4.937910\n",
       "min          0.000000\n",
       "25%          0.000000\n",
       "50%          0.000000\n",
       "75%          2.510000\n",
       "max        161.710000\n",
       "Name: Reg_cost, dtype: float64"
      ]
     },
     "execution_count": 20,
     "metadata": {},
     "output_type": "execute_result"
    }
   ],
   "source": [
    "tgt_train.Reg_cost.describe()"
   ]
  },
  {
   "cell_type": "code",
   "execution_count": 21,
   "id": "dba48176",
   "metadata": {},
   "outputs": [
    {
     "data": {
      "text/plain": [
       "count    13680.000000\n",
       "mean         0.756950\n",
       "std          1.234538\n",
       "min          0.000000\n",
       "25%          0.000000\n",
       "50%          0.240000\n",
       "75%          1.140000\n",
       "max         23.450000\n",
       "Name: Inst_cost, dtype: float64"
      ]
     },
     "execution_count": 21,
     "metadata": {},
     "output_type": "execute_result"
    }
   ],
   "source": [
    "tgt_train.Inst_cost.describe()"
   ]
  },
  {
   "cell_type": "markdown",
   "id": "c3a3fa29",
   "metadata": {},
   "source": [
    "## Categorical variable encoding"
   ]
  },
  {
   "cell_type": "code",
   "execution_count": 22,
   "id": "aef778a5",
   "metadata": {},
   "outputs": [],
   "source": [
    "from sklearn.preprocessing import OneHotEncoder"
   ]
  },
  {
   "cell_type": "code",
   "execution_count": 23,
   "id": "59df5c81",
   "metadata": {},
   "outputs": [],
   "source": [
    "cat = ['CPM_segment', 'CPC_segment', 'Inst_cost_segment',  'Open_cost_segment',  'Reg_cost_segment', \n",
    "                       'CTR_cost_segment', 'CR_click_inst_segment',  'CR_inst_open_segment', 'CR_open_reg_segment']"
   ]
  },
  {
   "cell_type": "code",
   "execution_count": 24,
   "id": "3debb714",
   "metadata": {},
   "outputs": [],
   "source": [
    "x_cat = pd.get_dummies(tgt_train[cat])"
   ]
  },
  {
   "cell_type": "markdown",
   "id": "6248fce3",
   "metadata": {},
   "source": [
    "## Standardization"
   ]
  },
  {
   "cell_type": "code",
   "execution_count": 25,
   "id": "bcceeadf",
   "metadata": {},
   "outputs": [],
   "source": [
    "from sklearn.preprocessing import StandardScaler\n",
    "attrs_num = ['CPM', 'CPC', 'CTR', 'Inst_cost', 'Open_cost', 'Reg_cost', 'CR_click_inst', 'CR_inst_open', 'CR_open_reg']\n",
    "scl = StandardScaler()\n",
    "x_num = pd.DataFrame(scl.fit_transform(tgt_train[attrs_num]), columns=attrs_num)"
   ]
  },
  {
   "cell_type": "code",
   "execution_count": 26,
   "id": "87964473",
   "metadata": {},
   "outputs": [],
   "source": [
    "train_data = pd.concat([tgt_train[['ID', 'Target']], x_num, x_cat], axis=1)"
   ]
  },
  {
   "cell_type": "code",
   "execution_count": 27,
   "id": "fd83d1bd",
   "metadata": {},
   "outputs": [],
   "source": [
    "train_data = train_data.rename(columns = lambda x:re.sub('[^A-Za-z0-9_]+', '', x))"
   ]
  },
  {
   "cell_type": "code",
   "execution_count": 28,
   "id": "0da0adf0",
   "metadata": {},
   "outputs": [
    {
     "data": {
      "text/html": [
       "<div>\n",
       "<style scoped>\n",
       "    .dataframe tbody tr th:only-of-type {\n",
       "        vertical-align: middle;\n",
       "    }\n",
       "\n",
       "    .dataframe tbody tr th {\n",
       "        vertical-align: top;\n",
       "    }\n",
       "\n",
       "    .dataframe thead th {\n",
       "        text-align: right;\n",
       "    }\n",
       "</style>\n",
       "<table border=\"1\" class=\"dataframe\">\n",
       "  <thead>\n",
       "    <tr style=\"text-align: right;\">\n",
       "      <th></th>\n",
       "      <th>ID</th>\n",
       "      <th>Target</th>\n",
       "      <th>CPM</th>\n",
       "      <th>CPC</th>\n",
       "      <th>CTR</th>\n",
       "      <th>Inst_cost</th>\n",
       "      <th>Open_cost</th>\n",
       "      <th>Reg_cost</th>\n",
       "      <th>CR_click_inst</th>\n",
       "      <th>CR_inst_open</th>\n",
       "      <th>...</th>\n",
       "      <th>CR_inst_open_segment_151200</th>\n",
       "      <th>CR_inst_open_segment_201250</th>\n",
       "      <th>CR_inst_open_segment_251300</th>\n",
       "      <th>CR_inst_open_segment_301</th>\n",
       "      <th>CR_open_reg_segment_000100</th>\n",
       "      <th>CR_open_reg_segment_101150</th>\n",
       "      <th>CR_open_reg_segment_151200</th>\n",
       "      <th>CR_open_reg_segment_201250</th>\n",
       "      <th>CR_open_reg_segment_251</th>\n",
       "      <th>CR_open_reg_segment_</th>\n",
       "    </tr>\n",
       "  </thead>\n",
       "  <tbody>\n",
       "    <tr>\n",
       "      <th>0</th>\n",
       "      <td>2701</td>\n",
       "      <td>1</td>\n",
       "      <td>-0.249360</td>\n",
       "      <td>0.020136</td>\n",
       "      <td>-0.007813</td>\n",
       "      <td>0.083475</td>\n",
       "      <td>0.323151</td>\n",
       "      <td>0.047933</td>\n",
       "      <td>0.301679</td>\n",
       "      <td>1.181623</td>\n",
       "      <td>...</td>\n",
       "      <td>0</td>\n",
       "      <td>1</td>\n",
       "      <td>0</td>\n",
       "      <td>0</td>\n",
       "      <td>0</td>\n",
       "      <td>1</td>\n",
       "      <td>0</td>\n",
       "      <td>0</td>\n",
       "      <td>0</td>\n",
       "      <td>0</td>\n",
       "    </tr>\n",
       "    <tr>\n",
       "      <th>1</th>\n",
       "      <td>2702</td>\n",
       "      <td>0</td>\n",
       "      <td>0.657600</td>\n",
       "      <td>1.933328</td>\n",
       "      <td>-0.161976</td>\n",
       "      <td>-0.613167</td>\n",
       "      <td>-0.533806</td>\n",
       "      <td>-0.430019</td>\n",
       "      <td>-0.639643</td>\n",
       "      <td>-0.689091</td>\n",
       "      <td>...</td>\n",
       "      <td>0</td>\n",
       "      <td>0</td>\n",
       "      <td>0</td>\n",
       "      <td>1</td>\n",
       "      <td>0</td>\n",
       "      <td>0</td>\n",
       "      <td>0</td>\n",
       "      <td>0</td>\n",
       "      <td>0</td>\n",
       "      <td>1</td>\n",
       "    </tr>\n",
       "    <tr>\n",
       "      <th>2</th>\n",
       "      <td>2703</td>\n",
       "      <td>0</td>\n",
       "      <td>-0.442647</td>\n",
       "      <td>0.020136</td>\n",
       "      <td>-0.057365</td>\n",
       "      <td>0.083475</td>\n",
       "      <td>0.149936</td>\n",
       "      <td>0.787139</td>\n",
       "      <td>0.301679</td>\n",
       "      <td>0.798977</td>\n",
       "      <td>...</td>\n",
       "      <td>1</td>\n",
       "      <td>0</td>\n",
       "      <td>0</td>\n",
       "      <td>0</td>\n",
       "      <td>0</td>\n",
       "      <td>0</td>\n",
       "      <td>0</td>\n",
       "      <td>0</td>\n",
       "      <td>1</td>\n",
       "      <td>0</td>\n",
       "    </tr>\n",
       "    <tr>\n",
       "      <th>3</th>\n",
       "      <td>2704</td>\n",
       "      <td>0</td>\n",
       "      <td>0.097565</td>\n",
       "      <td>-0.430027</td>\n",
       "      <td>0.589568</td>\n",
       "      <td>-0.532162</td>\n",
       "      <td>-0.488223</td>\n",
       "      <td>-0.409767</td>\n",
       "      <td>-0.395777</td>\n",
       "      <td>0.161234</td>\n",
       "      <td>...</td>\n",
       "      <td>0</td>\n",
       "      <td>0</td>\n",
       "      <td>0</td>\n",
       "      <td>0</td>\n",
       "      <td>1</td>\n",
       "      <td>0</td>\n",
       "      <td>0</td>\n",
       "      <td>0</td>\n",
       "      <td>0</td>\n",
       "      <td>0</td>\n",
       "    </tr>\n",
       "    <tr>\n",
       "      <th>4</th>\n",
       "      <td>2705</td>\n",
       "      <td>0</td>\n",
       "      <td>-0.452559</td>\n",
       "      <td>-0.167432</td>\n",
       "      <td>0.027975</td>\n",
       "      <td>0.269787</td>\n",
       "      <td>0.455341</td>\n",
       "      <td>0.009454</td>\n",
       "      <td>0.945486</td>\n",
       "      <td>1.011559</td>\n",
       "      <td>...</td>\n",
       "      <td>1</td>\n",
       "      <td>0</td>\n",
       "      <td>0</td>\n",
       "      <td>0</td>\n",
       "      <td>1</td>\n",
       "      <td>0</td>\n",
       "      <td>0</td>\n",
       "      <td>0</td>\n",
       "      <td>0</td>\n",
       "      <td>0</td>\n",
       "    </tr>\n",
       "    <tr>\n",
       "      <th>...</th>\n",
       "      <td>...</td>\n",
       "      <td>...</td>\n",
       "      <td>...</td>\n",
       "      <td>...</td>\n",
       "      <td>...</td>\n",
       "      <td>...</td>\n",
       "      <td>...</td>\n",
       "      <td>...</td>\n",
       "      <td>...</td>\n",
       "      <td>...</td>\n",
       "      <td>...</td>\n",
       "      <td>...</td>\n",
       "      <td>...</td>\n",
       "      <td>...</td>\n",
       "      <td>...</td>\n",
       "      <td>...</td>\n",
       "      <td>...</td>\n",
       "      <td>...</td>\n",
       "      <td>...</td>\n",
       "      <td>...</td>\n",
       "      <td>...</td>\n",
       "    </tr>\n",
       "    <tr>\n",
       "      <th>13675</th>\n",
       "      <td>1753</td>\n",
       "      <td>0</td>\n",
       "      <td>5.811909</td>\n",
       "      <td>-0.805162</td>\n",
       "      <td>-0.327150</td>\n",
       "      <td>-0.613167</td>\n",
       "      <td>-0.533806</td>\n",
       "      <td>-0.430019</td>\n",
       "      <td>-0.639643</td>\n",
       "      <td>-0.689091</td>\n",
       "      <td>...</td>\n",
       "      <td>0</td>\n",
       "      <td>0</td>\n",
       "      <td>0</td>\n",
       "      <td>1</td>\n",
       "      <td>0</td>\n",
       "      <td>0</td>\n",
       "      <td>0</td>\n",
       "      <td>0</td>\n",
       "      <td>0</td>\n",
       "      <td>1</td>\n",
       "    </tr>\n",
       "    <tr>\n",
       "      <th>13676</th>\n",
       "      <td>1754</td>\n",
       "      <td>0</td>\n",
       "      <td>2.109728</td>\n",
       "      <td>-0.805162</td>\n",
       "      <td>-0.327150</td>\n",
       "      <td>-0.613167</td>\n",
       "      <td>-0.533806</td>\n",
       "      <td>-0.430019</td>\n",
       "      <td>-0.639643</td>\n",
       "      <td>-0.689091</td>\n",
       "      <td>...</td>\n",
       "      <td>0</td>\n",
       "      <td>0</td>\n",
       "      <td>0</td>\n",
       "      <td>1</td>\n",
       "      <td>0</td>\n",
       "      <td>0</td>\n",
       "      <td>0</td>\n",
       "      <td>0</td>\n",
       "      <td>0</td>\n",
       "      <td>1</td>\n",
       "    </tr>\n",
       "    <tr>\n",
       "      <th>13677</th>\n",
       "      <td>1755</td>\n",
       "      <td>0</td>\n",
       "      <td>0.023224</td>\n",
       "      <td>-0.805162</td>\n",
       "      <td>-0.327150</td>\n",
       "      <td>-0.613167</td>\n",
       "      <td>-0.533806</td>\n",
       "      <td>-0.430019</td>\n",
       "      <td>-0.639643</td>\n",
       "      <td>-0.689091</td>\n",
       "      <td>...</td>\n",
       "      <td>0</td>\n",
       "      <td>0</td>\n",
       "      <td>0</td>\n",
       "      <td>1</td>\n",
       "      <td>0</td>\n",
       "      <td>0</td>\n",
       "      <td>0</td>\n",
       "      <td>0</td>\n",
       "      <td>0</td>\n",
       "      <td>1</td>\n",
       "    </tr>\n",
       "    <tr>\n",
       "      <th>13678</th>\n",
       "      <td>2322</td>\n",
       "      <td>0</td>\n",
       "      <td>3.195106</td>\n",
       "      <td>-0.805162</td>\n",
       "      <td>-0.327150</td>\n",
       "      <td>-0.613167</td>\n",
       "      <td>-0.533806</td>\n",
       "      <td>-0.430019</td>\n",
       "      <td>-0.639643</td>\n",
       "      <td>-0.689091</td>\n",
       "      <td>...</td>\n",
       "      <td>0</td>\n",
       "      <td>0</td>\n",
       "      <td>0</td>\n",
       "      <td>1</td>\n",
       "      <td>0</td>\n",
       "      <td>0</td>\n",
       "      <td>0</td>\n",
       "      <td>0</td>\n",
       "      <td>0</td>\n",
       "      <td>1</td>\n",
       "    </tr>\n",
       "    <tr>\n",
       "      <th>13679</th>\n",
       "      <td>3420</td>\n",
       "      <td>0</td>\n",
       "      <td>0.399885</td>\n",
       "      <td>-0.805162</td>\n",
       "      <td>-0.327150</td>\n",
       "      <td>-0.613167</td>\n",
       "      <td>-0.533806</td>\n",
       "      <td>-0.430019</td>\n",
       "      <td>-0.639643</td>\n",
       "      <td>-0.689091</td>\n",
       "      <td>...</td>\n",
       "      <td>0</td>\n",
       "      <td>0</td>\n",
       "      <td>0</td>\n",
       "      <td>1</td>\n",
       "      <td>0</td>\n",
       "      <td>0</td>\n",
       "      <td>0</td>\n",
       "      <td>0</td>\n",
       "      <td>0</td>\n",
       "      <td>1</td>\n",
       "    </tr>\n",
       "  </tbody>\n",
       "</table>\n",
       "<p>13680 rows × 90 columns</p>\n",
       "</div>"
      ],
      "text/plain": [
       "         ID  Target       CPM       CPC       CTR  Inst_cost  Open_cost  \\\n",
       "0      2701       1 -0.249360  0.020136 -0.007813   0.083475   0.323151   \n",
       "1      2702       0  0.657600  1.933328 -0.161976  -0.613167  -0.533806   \n",
       "2      2703       0 -0.442647  0.020136 -0.057365   0.083475   0.149936   \n",
       "3      2704       0  0.097565 -0.430027  0.589568  -0.532162  -0.488223   \n",
       "4      2705       0 -0.452559 -0.167432  0.027975   0.269787   0.455341   \n",
       "...     ...     ...       ...       ...       ...        ...        ...   \n",
       "13675  1753       0  5.811909 -0.805162 -0.327150  -0.613167  -0.533806   \n",
       "13676  1754       0  2.109728 -0.805162 -0.327150  -0.613167  -0.533806   \n",
       "13677  1755       0  0.023224 -0.805162 -0.327150  -0.613167  -0.533806   \n",
       "13678  2322       0  3.195106 -0.805162 -0.327150  -0.613167  -0.533806   \n",
       "13679  3420       0  0.399885 -0.805162 -0.327150  -0.613167  -0.533806   \n",
       "\n",
       "       Reg_cost  CR_click_inst  CR_inst_open  ...  \\\n",
       "0      0.047933       0.301679      1.181623  ...   \n",
       "1     -0.430019      -0.639643     -0.689091  ...   \n",
       "2      0.787139       0.301679      0.798977  ...   \n",
       "3     -0.409767      -0.395777      0.161234  ...   \n",
       "4      0.009454       0.945486      1.011559  ...   \n",
       "...         ...            ...           ...  ...   \n",
       "13675 -0.430019      -0.639643     -0.689091  ...   \n",
       "13676 -0.430019      -0.639643     -0.689091  ...   \n",
       "13677 -0.430019      -0.639643     -0.689091  ...   \n",
       "13678 -0.430019      -0.639643     -0.689091  ...   \n",
       "13679 -0.430019      -0.639643     -0.689091  ...   \n",
       "\n",
       "       CR_inst_open_segment_151200  CR_inst_open_segment_201250  \\\n",
       "0                                0                            1   \n",
       "1                                0                            0   \n",
       "2                                1                            0   \n",
       "3                                0                            0   \n",
       "4                                1                            0   \n",
       "...                            ...                          ...   \n",
       "13675                            0                            0   \n",
       "13676                            0                            0   \n",
       "13677                            0                            0   \n",
       "13678                            0                            0   \n",
       "13679                            0                            0   \n",
       "\n",
       "       CR_inst_open_segment_251300  CR_inst_open_segment_301  \\\n",
       "0                                0                         0   \n",
       "1                                0                         1   \n",
       "2                                0                         0   \n",
       "3                                0                         0   \n",
       "4                                0                         0   \n",
       "...                            ...                       ...   \n",
       "13675                            0                         1   \n",
       "13676                            0                         1   \n",
       "13677                            0                         1   \n",
       "13678                            0                         1   \n",
       "13679                            0                         1   \n",
       "\n",
       "       CR_open_reg_segment_000100  CR_open_reg_segment_101150  \\\n",
       "0                               0                           1   \n",
       "1                               0                           0   \n",
       "2                               0                           0   \n",
       "3                               1                           0   \n",
       "4                               1                           0   \n",
       "...                           ...                         ...   \n",
       "13675                           0                           0   \n",
       "13676                           0                           0   \n",
       "13677                           0                           0   \n",
       "13678                           0                           0   \n",
       "13679                           0                           0   \n",
       "\n",
       "       CR_open_reg_segment_151200  CR_open_reg_segment_201250  \\\n",
       "0                               0                           0   \n",
       "1                               0                           0   \n",
       "2                               0                           0   \n",
       "3                               0                           0   \n",
       "4                               0                           0   \n",
       "...                           ...                         ...   \n",
       "13675                           0                           0   \n",
       "13676                           0                           0   \n",
       "13677                           0                           0   \n",
       "13678                           0                           0   \n",
       "13679                           0                           0   \n",
       "\n",
       "       CR_open_reg_segment_251  CR_open_reg_segment_  \n",
       "0                            0                     0  \n",
       "1                            0                     1  \n",
       "2                            1                     0  \n",
       "3                            0                     0  \n",
       "4                            0                     0  \n",
       "...                        ...                   ...  \n",
       "13675                        0                     1  \n",
       "13676                        0                     1  \n",
       "13677                        0                     1  \n",
       "13678                        0                     1  \n",
       "13679                        0                     1  \n",
       "\n",
       "[13680 rows x 90 columns]"
      ]
     },
     "execution_count": 28,
     "metadata": {},
     "output_type": "execute_result"
    }
   ],
   "source": [
    "train_data"
   ]
  },
  {
   "cell_type": "markdown",
   "id": "3e91bf82",
   "metadata": {},
   "source": [
    "## Modeling"
   ]
  },
  {
   "cell_type": "code",
   "execution_count": 29,
   "id": "9dce82ee",
   "metadata": {},
   "outputs": [
    {
     "name": "stderr",
     "output_type": "stream",
     "text": [
      "C:\\Users\\u1-510\\Anaconda3\\lib\\site-packages\\lofo\\lofo_importance.py:3: TqdmExperimentalWarning: Using `tqdm.autonotebook.tqdm` in notebook mode. Use `tqdm.tqdm` instead to force console mode (e.g. in jupyter console)\n",
      "  from tqdm.autonotebook import tqdm\n"
     ]
    }
   ],
   "source": [
    "import matplotlib.pyplot as plt\n",
    "import seaborn as sns\n",
    "from xgboost import XGBClassifier\n",
    "import xgboost as xgb\n",
    "import lightgbm as lgb\n",
    "from lofo import LOFOImportance, Dataset, plot_importance # to install !pip install lofo-importance\n",
    "%matplotlib inline\n",
    "from sklearn.metrics import make_scorer, mean_absolute_error, f1_score, accuracy_score, confusion_matrix\n",
    "from sklearn.model_selection import train_test_split, StratifiedKFold, KFold, GridSearchCV, cross_val_score\n",
    "import itertools\n",
    "import optuna"
   ]
  },
  {
   "cell_type": "code",
   "execution_count": 30,
   "id": "f8ca3b91",
   "metadata": {},
   "outputs": [],
   "source": [
    "from sklearn.model_selection import train_test_split"
   ]
  },
  {
   "cell_type": "code",
   "execution_count": 32,
   "id": "6ff3d7bf",
   "metadata": {},
   "outputs": [
    {
     "name": "stdout",
     "output_type": "stream",
     "text": [
      "(13680, 89) (13680,) (13680, 90)\n"
     ]
    }
   ],
   "source": [
    "# test_df = train_data.sample(n=199, random_state=7)\n",
    "# id_test = test_df['ID']\n",
    "# train = train_data.query(\"ID not in @id_test\")\n",
    "\n",
    "X = train_data.drop(\"Target\",axis=1)\n",
    "y = train_data['Target']\n",
    "\n",
    "print(X.shape, y.shape, train_data.shape)"
   ]
  },
  {
   "cell_type": "code",
   "execution_count": 33,
   "id": "cf881406",
   "metadata": {},
   "outputs": [],
   "source": [
    "X_train, X_test, y_train, y_test = train_test_split(X, y, \n",
    "                                                    test_size = .3,\n",
    "                                                    random_state = 5,\n",
    "                                                    stratify = y)"
   ]
  },
  {
   "cell_type": "code",
   "execution_count": 36,
   "id": "102834d1",
   "metadata": {},
   "outputs": [
    {
     "name": "stderr",
     "output_type": "stream",
     "text": [
      "C:\\Users\\u1-510\\Anaconda3\\lib\\site-packages\\xgboost\\sklearn.py:1224: UserWarning: The use of label encoder in XGBClassifier is deprecated and will be removed in a future release. To remove this warning, do the following: 1) Pass option use_label_encoder=False when constructing XGBClassifier object; and 2) Encode your labels (y) as integers starting with 0, i.e. 0, 1, 2, ..., [num_class - 1].\n",
      "  warnings.warn(label_encoder_deprecation_msg, UserWarning)\n"
     ]
    },
    {
     "name": "stdout",
     "output_type": "stream",
     "text": [
      "[10:30:07] WARNING: C:/Users/Administrator/workspace/xgboost-win64_release_1.5.1/src/learner.cc:1115: Starting in XGBoost 1.3.0, the default evaluation metric used with the objective 'binary:logistic' was changed from 'error' to 'logloss'. Explicitly set eval_metric if you'd like to restore the old behavior.\n"
     ]
    },
    {
     "name": "stderr",
     "output_type": "stream",
     "text": [
      "C:\\Users\\u1-510\\Anaconda3\\lib\\site-packages\\xgboost\\sklearn.py:1224: UserWarning: The use of label encoder in XGBClassifier is deprecated and will be removed in a future release. To remove this warning, do the following: 1) Pass option use_label_encoder=False when constructing XGBClassifier object; and 2) Encode your labels (y) as integers starting with 0, i.e. 0, 1, 2, ..., [num_class - 1].\n",
      "  warnings.warn(label_encoder_deprecation_msg, UserWarning)\n"
     ]
    },
    {
     "name": "stdout",
     "output_type": "stream",
     "text": [
      "[10:30:10] WARNING: C:/Users/Administrator/workspace/xgboost-win64_release_1.5.1/src/learner.cc:1115: Starting in XGBoost 1.3.0, the default evaluation metric used with the objective 'binary:logistic' was changed from 'error' to 'logloss'. Explicitly set eval_metric if you'd like to restore the old behavior.\n"
     ]
    },
    {
     "name": "stderr",
     "output_type": "stream",
     "text": [
      "C:\\Users\\u1-510\\Anaconda3\\lib\\site-packages\\xgboost\\sklearn.py:1224: UserWarning: The use of label encoder in XGBClassifier is deprecated and will be removed in a future release. To remove this warning, do the following: 1) Pass option use_label_encoder=False when constructing XGBClassifier object; and 2) Encode your labels (y) as integers starting with 0, i.e. 0, 1, 2, ..., [num_class - 1].\n",
      "  warnings.warn(label_encoder_deprecation_msg, UserWarning)\n"
     ]
    },
    {
     "name": "stdout",
     "output_type": "stream",
     "text": [
      "[10:30:14] WARNING: C:/Users/Administrator/workspace/xgboost-win64_release_1.5.1/src/learner.cc:1115: Starting in XGBoost 1.3.0, the default evaluation metric used with the objective 'binary:logistic' was changed from 'error' to 'logloss'. Explicitly set eval_metric if you'd like to restore the old behavior.\n"
     ]
    },
    {
     "name": "stderr",
     "output_type": "stream",
     "text": [
      "C:\\Users\\u1-510\\Anaconda3\\lib\\site-packages\\xgboost\\sklearn.py:1224: UserWarning: The use of label encoder in XGBClassifier is deprecated and will be removed in a future release. To remove this warning, do the following: 1) Pass option use_label_encoder=False when constructing XGBClassifier object; and 2) Encode your labels (y) as integers starting with 0, i.e. 0, 1, 2, ..., [num_class - 1].\n",
      "  warnings.warn(label_encoder_deprecation_msg, UserWarning)\n"
     ]
    },
    {
     "name": "stdout",
     "output_type": "stream",
     "text": [
      "[10:30:17] WARNING: C:/Users/Administrator/workspace/xgboost-win64_release_1.5.1/src/learner.cc:1115: Starting in XGBoost 1.3.0, the default evaluation metric used with the objective 'binary:logistic' was changed from 'error' to 'logloss'. Explicitly set eval_metric if you'd like to restore the old behavior.\n"
     ]
    },
    {
     "name": "stderr",
     "output_type": "stream",
     "text": [
      "C:\\Users\\u1-510\\Anaconda3\\lib\\site-packages\\xgboost\\sklearn.py:1224: UserWarning: The use of label encoder in XGBClassifier is deprecated and will be removed in a future release. To remove this warning, do the following: 1) Pass option use_label_encoder=False when constructing XGBClassifier object; and 2) Encode your labels (y) as integers starting with 0, i.e. 0, 1, 2, ..., [num_class - 1].\n",
      "  warnings.warn(label_encoder_deprecation_msg, UserWarning)\n"
     ]
    },
    {
     "name": "stdout",
     "output_type": "stream",
     "text": [
      "[10:30:20] WARNING: C:/Users/Administrator/workspace/xgboost-win64_release_1.5.1/src/learner.cc:1115: Starting in XGBoost 1.3.0, the default evaluation metric used with the objective 'binary:logistic' was changed from 'error' to 'logloss'. Explicitly set eval_metric if you'd like to restore the old behavior.\n",
      "All of means\n",
      "[0.907098121085595, 0.9091383812010444, 0.9007832898172323, 0.9122715404699739, 0.9096605744125327]\n",
      "Mean of scores\n",
      "0.9077903813972756\n"
     ]
    }
   ],
   "source": [
    "skf = StratifiedKFold(n_splits=5)\n",
    "\n",
    "cross_val_acc = []\n",
    "\n",
    "X_train = X_train.values\n",
    "y_train = y_train.values\n",
    "\n",
    "for train, test in skf.split(X_train, y_train):\n",
    "    model.fit(X_train[train], y_train[train])\n",
    "    cross_val_acc.append(model.score(X_train[test], y_train[test]))\n",
    "    \n",
    "\n",
    "print(\"All of means\")\n",
    "print(cross_val_acc)\n",
    "\n",
    "print(\"Mean of scores\")\n",
    "print(np.mean(cross_val_acc))"
   ]
  },
  {
   "cell_type": "code",
   "execution_count": 37,
   "id": "73a40554",
   "metadata": {},
   "outputs": [
    {
     "name": "stdout",
     "output_type": "stream",
     "text": [
      "[10]\tvalid_0's binary_logloss: 0.218836\n",
      "[20]\tvalid_0's binary_logloss: 0.204491\n",
      "[30]\tvalid_0's binary_logloss: 0.199794\n",
      "[40]\tvalid_0's binary_logloss: 0.199414\n",
      "[50]\tvalid_0's binary_logloss: 0.200652\n",
      "score 91.03 %\n"
     ]
    },
    {
     "name": "stderr",
     "output_type": "stream",
     "text": [
      "C:\\Users\\u1-510\\Anaconda3\\lib\\site-packages\\lightgbm\\sklearn.py:726: UserWarning: 'early_stopping_rounds' argument is deprecated and will be removed in a future release of LightGBM. Pass 'early_stopping()' callback via 'callbacks' argument instead.\n",
      "  _log_warning(\"'early_stopping_rounds' argument is deprecated and will be removed in a future release of LightGBM. \"\n",
      "C:\\Users\\u1-510\\Anaconda3\\lib\\site-packages\\lightgbm\\sklearn.py:736: UserWarning: 'verbose' argument is deprecated and will be removed in a future release of LightGBM. Pass 'log_evaluation()' callback via 'callbacks' argument instead.\n",
      "  _log_warning(\"'verbose' argument is deprecated and will be removed in a future release of LightGBM. \"\n"
     ]
    }
   ],
   "source": [
    "gbm = lgb.LGBMClassifier(objective='binary')\n",
    "\n",
    "gbm.fit(X_train, y_train, eval_set = [(X_test, y_test)],\n",
    "        early_stopping_rounds=20,\n",
    "        verbose=10\n",
    ")\n",
    "\n",
    "pre = gbm.predict(X_test, num_iteration=gbm.best_iteration_)\n",
    "\n",
    "print('score', round(accuracy_score(y_test, pre)*100,2), '%')"
   ]
  },
  {
   "cell_type": "code",
   "execution_count": 38,
   "id": "193e4fbc",
   "metadata": {},
   "outputs": [
    {
     "name": "stdout",
     "output_type": "stream",
     "text": [
      "[10:31:04] WARNING: C:/Users/Administrator/workspace/xgboost-win64_release_1.5.1/src/learner.cc:1115: Starting in XGBoost 1.3.0, the default evaluation metric used with the objective 'binary:logistic' was changed from 'error' to 'logloss'. Explicitly set eval_metric if you'd like to restore the old behavior.\n",
      "[10:31:07] WARNING: C:/Users/Administrator/workspace/xgboost-win64_release_1.5.1/src/learner.cc:1115: Starting in XGBoost 1.3.0, the default evaluation metric used with the objective 'binary:logistic' was changed from 'error' to 'logloss'. Explicitly set eval_metric if you'd like to restore the old behavior.\n",
      "[10:31:11] WARNING: C:/Users/Administrator/workspace/xgboost-win64_release_1.5.1/src/learner.cc:1115: Starting in XGBoost 1.3.0, the default evaluation metric used with the objective 'binary:logistic' was changed from 'error' to 'logloss'. Explicitly set eval_metric if you'd like to restore the old behavior.\n",
      "[10:31:14] WARNING: C:/Users/Administrator/workspace/xgboost-win64_release_1.5.1/src/learner.cc:1115: Starting in XGBoost 1.3.0, the default evaluation metric used with the objective 'binary:logistic' was changed from 'error' to 'logloss'. Explicitly set eval_metric if you'd like to restore the old behavior.\n"
     ]
    },
    {
     "data": {
      "application/vnd.jupyter.widget-view+json": {
       "model_id": "7c9db989c37349109ab20a66c6212e93",
       "version_major": 2,
       "version_minor": 0
      },
      "text/plain": [
       "  0%|          | 0/79 [00:00<?, ?it/s]"
      ]
     },
     "metadata": {},
     "output_type": "display_data"
    },
    {
     "name": "stdout",
     "output_type": "stream",
     "text": [
      "[10:31:17] WARNING: C:/Users/Administrator/workspace/xgboost-win64_release_1.5.1/src/learner.cc:1115: Starting in XGBoost 1.3.0, the default evaluation metric used with the objective 'binary:logistic' was changed from 'error' to 'logloss'. Explicitly set eval_metric if you'd like to restore the old behavior.\n",
      "[10:31:21] WARNING: C:/Users/Administrator/workspace/xgboost-win64_release_1.5.1/src/learner.cc:1115: Starting in XGBoost 1.3.0, the default evaluation metric used with the objective 'binary:logistic' was changed from 'error' to 'logloss'. Explicitly set eval_metric if you'd like to restore the old behavior.\n",
      "[10:31:24] WARNING: C:/Users/Administrator/workspace/xgboost-win64_release_1.5.1/src/learner.cc:1115: Starting in XGBoost 1.3.0, the default evaluation metric used with the objective 'binary:logistic' was changed from 'error' to 'logloss'. Explicitly set eval_metric if you'd like to restore the old behavior.\n",
      "[10:31:28] WARNING: C:/Users/Administrator/workspace/xgboost-win64_release_1.5.1/src/learner.cc:1115: Starting in XGBoost 1.3.0, the default evaluation metric used with the objective 'binary:logistic' was changed from 'error' to 'logloss'. Explicitly set eval_metric if you'd like to restore the old behavior.\n",
      "[10:31:31] WARNING: C:/Users/Administrator/workspace/xgboost-win64_release_1.5.1/src/learner.cc:1115: Starting in XGBoost 1.3.0, the default evaluation metric used with the objective 'binary:logistic' was changed from 'error' to 'logloss'. Explicitly set eval_metric if you'd like to restore the old behavior.\n",
      "[10:31:34] WARNING: C:/Users/Administrator/workspace/xgboost-win64_release_1.5.1/src/learner.cc:1115: Starting in XGBoost 1.3.0, the default evaluation metric used with the objective 'binary:logistic' was changed from 'error' to 'logloss'. Explicitly set eval_metric if you'd like to restore the old behavior.\n",
      "[10:31:38] WARNING: C:/Users/Administrator/workspace/xgboost-win64_release_1.5.1/src/learner.cc:1115: Starting in XGBoost 1.3.0, the default evaluation metric used with the objective 'binary:logistic' was changed from 'error' to 'logloss'. Explicitly set eval_metric if you'd like to restore the old behavior.\n",
      "[10:31:41] WARNING: C:/Users/Administrator/workspace/xgboost-win64_release_1.5.1/src/learner.cc:1115: Starting in XGBoost 1.3.0, the default evaluation metric used with the objective 'binary:logistic' was changed from 'error' to 'logloss'. Explicitly set eval_metric if you'd like to restore the old behavior.\n",
      "[10:31:45] WARNING: C:/Users/Administrator/workspace/xgboost-win64_release_1.5.1/src/learner.cc:1115: Starting in XGBoost 1.3.0, the default evaluation metric used with the objective 'binary:logistic' was changed from 'error' to 'logloss'. Explicitly set eval_metric if you'd like to restore the old behavior.\n",
      "[10:31:48] WARNING: C:/Users/Administrator/workspace/xgboost-win64_release_1.5.1/src/learner.cc:1115: Starting in XGBoost 1.3.0, the default evaluation metric used with the objective 'binary:logistic' was changed from 'error' to 'logloss'. Explicitly set eval_metric if you'd like to restore the old behavior.\n",
      "[10:31:51] WARNING: C:/Users/Administrator/workspace/xgboost-win64_release_1.5.1/src/learner.cc:1115: Starting in XGBoost 1.3.0, the default evaluation metric used with the objective 'binary:logistic' was changed from 'error' to 'logloss'. Explicitly set eval_metric if you'd like to restore the old behavior.\n",
      "[10:31:55] WARNING: C:/Users/Administrator/workspace/xgboost-win64_release_1.5.1/src/learner.cc:1115: Starting in XGBoost 1.3.0, the default evaluation metric used with the objective 'binary:logistic' was changed from 'error' to 'logloss'. Explicitly set eval_metric if you'd like to restore the old behavior.\n",
      "[10:31:59] WARNING: C:/Users/Administrator/workspace/xgboost-win64_release_1.5.1/src/learner.cc:1115: Starting in XGBoost 1.3.0, the default evaluation metric used with the objective 'binary:logistic' was changed from 'error' to 'logloss'. Explicitly set eval_metric if you'd like to restore the old behavior.\n",
      "[10:32:03] WARNING: C:/Users/Administrator/workspace/xgboost-win64_release_1.5.1/src/learner.cc:1115: Starting in XGBoost 1.3.0, the default evaluation metric used with the objective 'binary:logistic' was changed from 'error' to 'logloss'. Explicitly set eval_metric if you'd like to restore the old behavior.\n",
      "[10:32:06] WARNING: C:/Users/Administrator/workspace/xgboost-win64_release_1.5.1/src/learner.cc:1115: Starting in XGBoost 1.3.0, the default evaluation metric used with the objective 'binary:logistic' was changed from 'error' to 'logloss'. Explicitly set eval_metric if you'd like to restore the old behavior.\n",
      "[10:32:09] WARNING: C:/Users/Administrator/workspace/xgboost-win64_release_1.5.1/src/learner.cc:1115: Starting in XGBoost 1.3.0, the default evaluation metric used with the objective 'binary:logistic' was changed from 'error' to 'logloss'. Explicitly set eval_metric if you'd like to restore the old behavior.\n",
      "[10:32:13] WARNING: C:/Users/Administrator/workspace/xgboost-win64_release_1.5.1/src/learner.cc:1115: Starting in XGBoost 1.3.0, the default evaluation metric used with the objective 'binary:logistic' was changed from 'error' to 'logloss'. Explicitly set eval_metric if you'd like to restore the old behavior.\n",
      "[10:32:16] WARNING: C:/Users/Administrator/workspace/xgboost-win64_release_1.5.1/src/learner.cc:1115: Starting in XGBoost 1.3.0, the default evaluation metric used with the objective 'binary:logistic' was changed from 'error' to 'logloss'. Explicitly set eval_metric if you'd like to restore the old behavior.\n",
      "[10:32:20] WARNING: C:/Users/Administrator/workspace/xgboost-win64_release_1.5.1/src/learner.cc:1115: Starting in XGBoost 1.3.0, the default evaluation metric used with the objective 'binary:logistic' was changed from 'error' to 'logloss'. Explicitly set eval_metric if you'd like to restore the old behavior.\n",
      "[10:32:23] WARNING: C:/Users/Administrator/workspace/xgboost-win64_release_1.5.1/src/learner.cc:1115: Starting in XGBoost 1.3.0, the default evaluation metric used with the objective 'binary:logistic' was changed from 'error' to 'logloss'. Explicitly set eval_metric if you'd like to restore the old behavior.\n",
      "[10:32:27] WARNING: C:/Users/Administrator/workspace/xgboost-win64_release_1.5.1/src/learner.cc:1115: Starting in XGBoost 1.3.0, the default evaluation metric used with the objective 'binary:logistic' was changed from 'error' to 'logloss'. Explicitly set eval_metric if you'd like to restore the old behavior.\n",
      "[10:32:30] WARNING: C:/Users/Administrator/workspace/xgboost-win64_release_1.5.1/src/learner.cc:1115: Starting in XGBoost 1.3.0, the default evaluation metric used with the objective 'binary:logistic' was changed from 'error' to 'logloss'. Explicitly set eval_metric if you'd like to restore the old behavior.\n",
      "[10:32:34] WARNING: C:/Users/Administrator/workspace/xgboost-win64_release_1.5.1/src/learner.cc:1115: Starting in XGBoost 1.3.0, the default evaluation metric used with the objective 'binary:logistic' was changed from 'error' to 'logloss'. Explicitly set eval_metric if you'd like to restore the old behavior.\n",
      "[10:32:37] WARNING: C:/Users/Administrator/workspace/xgboost-win64_release_1.5.1/src/learner.cc:1115: Starting in XGBoost 1.3.0, the default evaluation metric used with the objective 'binary:logistic' was changed from 'error' to 'logloss'. Explicitly set eval_metric if you'd like to restore the old behavior.\n",
      "[10:32:40] WARNING: C:/Users/Administrator/workspace/xgboost-win64_release_1.5.1/src/learner.cc:1115: Starting in XGBoost 1.3.0, the default evaluation metric used with the objective 'binary:logistic' was changed from 'error' to 'logloss'. Explicitly set eval_metric if you'd like to restore the old behavior.\n",
      "[10:32:44] WARNING: C:/Users/Administrator/workspace/xgboost-win64_release_1.5.1/src/learner.cc:1115: Starting in XGBoost 1.3.0, the default evaluation metric used with the objective 'binary:logistic' was changed from 'error' to 'logloss'. Explicitly set eval_metric if you'd like to restore the old behavior.\n",
      "[10:32:47] WARNING: C:/Users/Administrator/workspace/xgboost-win64_release_1.5.1/src/learner.cc:1115: Starting in XGBoost 1.3.0, the default evaluation metric used with the objective 'binary:logistic' was changed from 'error' to 'logloss'. Explicitly set eval_metric if you'd like to restore the old behavior.\n"
     ]
    },
    {
     "name": "stdout",
     "output_type": "stream",
     "text": [
      "[10:32:50] WARNING: C:/Users/Administrator/workspace/xgboost-win64_release_1.5.1/src/learner.cc:1115: Starting in XGBoost 1.3.0, the default evaluation metric used with the objective 'binary:logistic' was changed from 'error' to 'logloss'. Explicitly set eval_metric if you'd like to restore the old behavior.\n",
      "[10:32:54] WARNING: C:/Users/Administrator/workspace/xgboost-win64_release_1.5.1/src/learner.cc:1115: Starting in XGBoost 1.3.0, the default evaluation metric used with the objective 'binary:logistic' was changed from 'error' to 'logloss'. Explicitly set eval_metric if you'd like to restore the old behavior.\n",
      "[10:32:57] WARNING: C:/Users/Administrator/workspace/xgboost-win64_release_1.5.1/src/learner.cc:1115: Starting in XGBoost 1.3.0, the default evaluation metric used with the objective 'binary:logistic' was changed from 'error' to 'logloss'. Explicitly set eval_metric if you'd like to restore the old behavior.\n",
      "[10:33:00] WARNING: C:/Users/Administrator/workspace/xgboost-win64_release_1.5.1/src/learner.cc:1115: Starting in XGBoost 1.3.0, the default evaluation metric used with the objective 'binary:logistic' was changed from 'error' to 'logloss'. Explicitly set eval_metric if you'd like to restore the old behavior.\n",
      "[10:33:04] WARNING: C:/Users/Administrator/workspace/xgboost-win64_release_1.5.1/src/learner.cc:1115: Starting in XGBoost 1.3.0, the default evaluation metric used with the objective 'binary:logistic' was changed from 'error' to 'logloss'. Explicitly set eval_metric if you'd like to restore the old behavior.\n",
      "[10:33:07] WARNING: C:/Users/Administrator/workspace/xgboost-win64_release_1.5.1/src/learner.cc:1115: Starting in XGBoost 1.3.0, the default evaluation metric used with the objective 'binary:logistic' was changed from 'error' to 'logloss'. Explicitly set eval_metric if you'd like to restore the old behavior.\n",
      "[10:33:11] WARNING: C:/Users/Administrator/workspace/xgboost-win64_release_1.5.1/src/learner.cc:1115: Starting in XGBoost 1.3.0, the default evaluation metric used with the objective 'binary:logistic' was changed from 'error' to 'logloss'. Explicitly set eval_metric if you'd like to restore the old behavior.\n",
      "[10:33:14] WARNING: C:/Users/Administrator/workspace/xgboost-win64_release_1.5.1/src/learner.cc:1115: Starting in XGBoost 1.3.0, the default evaluation metric used with the objective 'binary:logistic' was changed from 'error' to 'logloss'. Explicitly set eval_metric if you'd like to restore the old behavior.\n",
      "[10:33:18] WARNING: C:/Users/Administrator/workspace/xgboost-win64_release_1.5.1/src/learner.cc:1115: Starting in XGBoost 1.3.0, the default evaluation metric used with the objective 'binary:logistic' was changed from 'error' to 'logloss'. Explicitly set eval_metric if you'd like to restore the old behavior.\n",
      "[10:33:21] WARNING: C:/Users/Administrator/workspace/xgboost-win64_release_1.5.1/src/learner.cc:1115: Starting in XGBoost 1.3.0, the default evaluation metric used with the objective 'binary:logistic' was changed from 'error' to 'logloss'. Explicitly set eval_metric if you'd like to restore the old behavior.\n",
      "[10:33:25] WARNING: C:/Users/Administrator/workspace/xgboost-win64_release_1.5.1/src/learner.cc:1115: Starting in XGBoost 1.3.0, the default evaluation metric used with the objective 'binary:logistic' was changed from 'error' to 'logloss'. Explicitly set eval_metric if you'd like to restore the old behavior.\n",
      "[10:33:28] WARNING: C:/Users/Administrator/workspace/xgboost-win64_release_1.5.1/src/learner.cc:1115: Starting in XGBoost 1.3.0, the default evaluation metric used with the objective 'binary:logistic' was changed from 'error' to 'logloss'. Explicitly set eval_metric if you'd like to restore the old behavior.\n",
      "[10:33:31] WARNING: C:/Users/Administrator/workspace/xgboost-win64_release_1.5.1/src/learner.cc:1115: Starting in XGBoost 1.3.0, the default evaluation metric used with the objective 'binary:logistic' was changed from 'error' to 'logloss'. Explicitly set eval_metric if you'd like to restore the old behavior.\n",
      "[10:33:35] WARNING: C:/Users/Administrator/workspace/xgboost-win64_release_1.5.1/src/learner.cc:1115: Starting in XGBoost 1.3.0, the default evaluation metric used with the objective 'binary:logistic' was changed from 'error' to 'logloss'. Explicitly set eval_metric if you'd like to restore the old behavior.\n",
      "[10:33:38] WARNING: C:/Users/Administrator/workspace/xgboost-win64_release_1.5.1/src/learner.cc:1115: Starting in XGBoost 1.3.0, the default evaluation metric used with the objective 'binary:logistic' was changed from 'error' to 'logloss'. Explicitly set eval_metric if you'd like to restore the old behavior.\n",
      "[10:33:42] WARNING: C:/Users/Administrator/workspace/xgboost-win64_release_1.5.1/src/learner.cc:1115: Starting in XGBoost 1.3.0, the default evaluation metric used with the objective 'binary:logistic' was changed from 'error' to 'logloss'. Explicitly set eval_metric if you'd like to restore the old behavior.\n",
      "[10:33:45] WARNING: C:/Users/Administrator/workspace/xgboost-win64_release_1.5.1/src/learner.cc:1115: Starting in XGBoost 1.3.0, the default evaluation metric used with the objective 'binary:logistic' was changed from 'error' to 'logloss'. Explicitly set eval_metric if you'd like to restore the old behavior.\n",
      "[10:33:48] WARNING: C:/Users/Administrator/workspace/xgboost-win64_release_1.5.1/src/learner.cc:1115: Starting in XGBoost 1.3.0, the default evaluation metric used with the objective 'binary:logistic' was changed from 'error' to 'logloss'. Explicitly set eval_metric if you'd like to restore the old behavior.\n",
      "[10:33:52] WARNING: C:/Users/Administrator/workspace/xgboost-win64_release_1.5.1/src/learner.cc:1115: Starting in XGBoost 1.3.0, the default evaluation metric used with the objective 'binary:logistic' was changed from 'error' to 'logloss'. Explicitly set eval_metric if you'd like to restore the old behavior.\n",
      "[10:33:55] WARNING: C:/Users/Administrator/workspace/xgboost-win64_release_1.5.1/src/learner.cc:1115: Starting in XGBoost 1.3.0, the default evaluation metric used with the objective 'binary:logistic' was changed from 'error' to 'logloss'. Explicitly set eval_metric if you'd like to restore the old behavior.\n",
      "[10:33:59] WARNING: C:/Users/Administrator/workspace/xgboost-win64_release_1.5.1/src/learner.cc:1115: Starting in XGBoost 1.3.0, the default evaluation metric used with the objective 'binary:logistic' was changed from 'error' to 'logloss'. Explicitly set eval_metric if you'd like to restore the old behavior.\n",
      "[10:34:02] WARNING: C:/Users/Administrator/workspace/xgboost-win64_release_1.5.1/src/learner.cc:1115: Starting in XGBoost 1.3.0, the default evaluation metric used with the objective 'binary:logistic' was changed from 'error' to 'logloss'. Explicitly set eval_metric if you'd like to restore the old behavior.\n",
      "[10:34:05] WARNING: C:/Users/Administrator/workspace/xgboost-win64_release_1.5.1/src/learner.cc:1115: Starting in XGBoost 1.3.0, the default evaluation metric used with the objective 'binary:logistic' was changed from 'error' to 'logloss'. Explicitly set eval_metric if you'd like to restore the old behavior.\n",
      "[10:34:09] WARNING: C:/Users/Administrator/workspace/xgboost-win64_release_1.5.1/src/learner.cc:1115: Starting in XGBoost 1.3.0, the default evaluation metric used with the objective 'binary:logistic' was changed from 'error' to 'logloss'. Explicitly set eval_metric if you'd like to restore the old behavior.\n",
      "[10:34:12] WARNING: C:/Users/Administrator/workspace/xgboost-win64_release_1.5.1/src/learner.cc:1115: Starting in XGBoost 1.3.0, the default evaluation metric used with the objective 'binary:logistic' was changed from 'error' to 'logloss'. Explicitly set eval_metric if you'd like to restore the old behavior.\n",
      "[10:34:16] WARNING: C:/Users/Administrator/workspace/xgboost-win64_release_1.5.1/src/learner.cc:1115: Starting in XGBoost 1.3.0, the default evaluation metric used with the objective 'binary:logistic' was changed from 'error' to 'logloss'. Explicitly set eval_metric if you'd like to restore the old behavior.\n",
      "[10:34:19] WARNING: C:/Users/Administrator/workspace/xgboost-win64_release_1.5.1/src/learner.cc:1115: Starting in XGBoost 1.3.0, the default evaluation metric used with the objective 'binary:logistic' was changed from 'error' to 'logloss'. Explicitly set eval_metric if you'd like to restore the old behavior.\n"
     ]
    },
    {
     "name": "stdout",
     "output_type": "stream",
     "text": [
      "[10:34:23] WARNING: C:/Users/Administrator/workspace/xgboost-win64_release_1.5.1/src/learner.cc:1115: Starting in XGBoost 1.3.0, the default evaluation metric used with the objective 'binary:logistic' was changed from 'error' to 'logloss'. Explicitly set eval_metric if you'd like to restore the old behavior.\n",
      "[10:34:26] WARNING: C:/Users/Administrator/workspace/xgboost-win64_release_1.5.1/src/learner.cc:1115: Starting in XGBoost 1.3.0, the default evaluation metric used with the objective 'binary:logistic' was changed from 'error' to 'logloss'. Explicitly set eval_metric if you'd like to restore the old behavior.\n",
      "[10:34:30] WARNING: C:/Users/Administrator/workspace/xgboost-win64_release_1.5.1/src/learner.cc:1115: Starting in XGBoost 1.3.0, the default evaluation metric used with the objective 'binary:logistic' was changed from 'error' to 'logloss'. Explicitly set eval_metric if you'd like to restore the old behavior.\n",
      "[10:34:33] WARNING: C:/Users/Administrator/workspace/xgboost-win64_release_1.5.1/src/learner.cc:1115: Starting in XGBoost 1.3.0, the default evaluation metric used with the objective 'binary:logistic' was changed from 'error' to 'logloss'. Explicitly set eval_metric if you'd like to restore the old behavior.\n",
      "[10:34:36] WARNING: C:/Users/Administrator/workspace/xgboost-win64_release_1.5.1/src/learner.cc:1115: Starting in XGBoost 1.3.0, the default evaluation metric used with the objective 'binary:logistic' was changed from 'error' to 'logloss'. Explicitly set eval_metric if you'd like to restore the old behavior.\n",
      "[10:34:40] WARNING: C:/Users/Administrator/workspace/xgboost-win64_release_1.5.1/src/learner.cc:1115: Starting in XGBoost 1.3.0, the default evaluation metric used with the objective 'binary:logistic' was changed from 'error' to 'logloss'. Explicitly set eval_metric if you'd like to restore the old behavior.\n",
      "[10:34:43] WARNING: C:/Users/Administrator/workspace/xgboost-win64_release_1.5.1/src/learner.cc:1115: Starting in XGBoost 1.3.0, the default evaluation metric used with the objective 'binary:logistic' was changed from 'error' to 'logloss'. Explicitly set eval_metric if you'd like to restore the old behavior.\n",
      "[10:34:46] WARNING: C:/Users/Administrator/workspace/xgboost-win64_release_1.5.1/src/learner.cc:1115: Starting in XGBoost 1.3.0, the default evaluation metric used with the objective 'binary:logistic' was changed from 'error' to 'logloss'. Explicitly set eval_metric if you'd like to restore the old behavior.\n",
      "[10:34:50] WARNING: C:/Users/Administrator/workspace/xgboost-win64_release_1.5.1/src/learner.cc:1115: Starting in XGBoost 1.3.0, the default evaluation metric used with the objective 'binary:logistic' was changed from 'error' to 'logloss'. Explicitly set eval_metric if you'd like to restore the old behavior.\n",
      "[10:34:53] WARNING: C:/Users/Administrator/workspace/xgboost-win64_release_1.5.1/src/learner.cc:1115: Starting in XGBoost 1.3.0, the default evaluation metric used with the objective 'binary:logistic' was changed from 'error' to 'logloss'. Explicitly set eval_metric if you'd like to restore the old behavior.\n",
      "[10:34:57] WARNING: C:/Users/Administrator/workspace/xgboost-win64_release_1.5.1/src/learner.cc:1115: Starting in XGBoost 1.3.0, the default evaluation metric used with the objective 'binary:logistic' was changed from 'error' to 'logloss'. Explicitly set eval_metric if you'd like to restore the old behavior.\n",
      "[10:35:00] WARNING: C:/Users/Administrator/workspace/xgboost-win64_release_1.5.1/src/learner.cc:1115: Starting in XGBoost 1.3.0, the default evaluation metric used with the objective 'binary:logistic' was changed from 'error' to 'logloss'. Explicitly set eval_metric if you'd like to restore the old behavior.\n",
      "[10:35:04] WARNING: C:/Users/Administrator/workspace/xgboost-win64_release_1.5.1/src/learner.cc:1115: Starting in XGBoost 1.3.0, the default evaluation metric used with the objective 'binary:logistic' was changed from 'error' to 'logloss'. Explicitly set eval_metric if you'd like to restore the old behavior.\n",
      "[10:35:07] WARNING: C:/Users/Administrator/workspace/xgboost-win64_release_1.5.1/src/learner.cc:1115: Starting in XGBoost 1.3.0, the default evaluation metric used with the objective 'binary:logistic' was changed from 'error' to 'logloss'. Explicitly set eval_metric if you'd like to restore the old behavior.\n",
      "[10:35:10] WARNING: C:/Users/Administrator/workspace/xgboost-win64_release_1.5.1/src/learner.cc:1115: Starting in XGBoost 1.3.0, the default evaluation metric used with the objective 'binary:logistic' was changed from 'error' to 'logloss'. Explicitly set eval_metric if you'd like to restore the old behavior.\n",
      "[10:35:14] WARNING: C:/Users/Administrator/workspace/xgboost-win64_release_1.5.1/src/learner.cc:1115: Starting in XGBoost 1.3.0, the default evaluation metric used with the objective 'binary:logistic' was changed from 'error' to 'logloss'. Explicitly set eval_metric if you'd like to restore the old behavior.\n",
      "[10:35:17] WARNING: C:/Users/Administrator/workspace/xgboost-win64_release_1.5.1/src/learner.cc:1115: Starting in XGBoost 1.3.0, the default evaluation metric used with the objective 'binary:logistic' was changed from 'error' to 'logloss'. Explicitly set eval_metric if you'd like to restore the old behavior.\n",
      "[10:35:21] WARNING: C:/Users/Administrator/workspace/xgboost-win64_release_1.5.1/src/learner.cc:1115: Starting in XGBoost 1.3.0, the default evaluation metric used with the objective 'binary:logistic' was changed from 'error' to 'logloss'. Explicitly set eval_metric if you'd like to restore the old behavior.\n",
      "[10:35:25] WARNING: C:/Users/Administrator/workspace/xgboost-win64_release_1.5.1/src/learner.cc:1115: Starting in XGBoost 1.3.0, the default evaluation metric used with the objective 'binary:logistic' was changed from 'error' to 'logloss'. Explicitly set eval_metric if you'd like to restore the old behavior.\n",
      "[10:35:28] WARNING: C:/Users/Administrator/workspace/xgboost-win64_release_1.5.1/src/learner.cc:1115: Starting in XGBoost 1.3.0, the default evaluation metric used with the objective 'binary:logistic' was changed from 'error' to 'logloss'. Explicitly set eval_metric if you'd like to restore the old behavior.\n",
      "[10:35:31] WARNING: C:/Users/Administrator/workspace/xgboost-win64_release_1.5.1/src/learner.cc:1115: Starting in XGBoost 1.3.0, the default evaluation metric used with the objective 'binary:logistic' was changed from 'error' to 'logloss'. Explicitly set eval_metric if you'd like to restore the old behavior.\n",
      "[10:35:35] WARNING: C:/Users/Administrator/workspace/xgboost-win64_release_1.5.1/src/learner.cc:1115: Starting in XGBoost 1.3.0, the default evaluation metric used with the objective 'binary:logistic' was changed from 'error' to 'logloss'. Explicitly set eval_metric if you'd like to restore the old behavior.\n",
      "[10:35:38] WARNING: C:/Users/Administrator/workspace/xgboost-win64_release_1.5.1/src/learner.cc:1115: Starting in XGBoost 1.3.0, the default evaluation metric used with the objective 'binary:logistic' was changed from 'error' to 'logloss'. Explicitly set eval_metric if you'd like to restore the old behavior.\n",
      "[10:35:42] WARNING: C:/Users/Administrator/workspace/xgboost-win64_release_1.5.1/src/learner.cc:1115: Starting in XGBoost 1.3.0, the default evaluation metric used with the objective 'binary:logistic' was changed from 'error' to 'logloss'. Explicitly set eval_metric if you'd like to restore the old behavior.\n",
      "[10:35:45] WARNING: C:/Users/Administrator/workspace/xgboost-win64_release_1.5.1/src/learner.cc:1115: Starting in XGBoost 1.3.0, the default evaluation metric used with the objective 'binary:logistic' was changed from 'error' to 'logloss'. Explicitly set eval_metric if you'd like to restore the old behavior.\n",
      "[10:35:49] WARNING: C:/Users/Administrator/workspace/xgboost-win64_release_1.5.1/src/learner.cc:1115: Starting in XGBoost 1.3.0, the default evaluation metric used with the objective 'binary:logistic' was changed from 'error' to 'logloss'. Explicitly set eval_metric if you'd like to restore the old behavior.\n",
      "[10:35:52] WARNING: C:/Users/Administrator/workspace/xgboost-win64_release_1.5.1/src/learner.cc:1115: Starting in XGBoost 1.3.0, the default evaluation metric used with the objective 'binary:logistic' was changed from 'error' to 'logloss'. Explicitly set eval_metric if you'd like to restore the old behavior.\n"
     ]
    },
    {
     "name": "stdout",
     "output_type": "stream",
     "text": [
      "[10:35:55] WARNING: C:/Users/Administrator/workspace/xgboost-win64_release_1.5.1/src/learner.cc:1115: Starting in XGBoost 1.3.0, the default evaluation metric used with the objective 'binary:logistic' was changed from 'error' to 'logloss'. Explicitly set eval_metric if you'd like to restore the old behavior.\n",
      "[10:35:59] WARNING: C:/Users/Administrator/workspace/xgboost-win64_release_1.5.1/src/learner.cc:1115: Starting in XGBoost 1.3.0, the default evaluation metric used with the objective 'binary:logistic' was changed from 'error' to 'logloss'. Explicitly set eval_metric if you'd like to restore the old behavior.\n",
      "[10:36:02] WARNING: C:/Users/Administrator/workspace/xgboost-win64_release_1.5.1/src/learner.cc:1115: Starting in XGBoost 1.3.0, the default evaluation metric used with the objective 'binary:logistic' was changed from 'error' to 'logloss'. Explicitly set eval_metric if you'd like to restore the old behavior.\n",
      "[10:36:06] WARNING: C:/Users/Administrator/workspace/xgboost-win64_release_1.5.1/src/learner.cc:1115: Starting in XGBoost 1.3.0, the default evaluation metric used with the objective 'binary:logistic' was changed from 'error' to 'logloss'. Explicitly set eval_metric if you'd like to restore the old behavior.\n",
      "[10:36:09] WARNING: C:/Users/Administrator/workspace/xgboost-win64_release_1.5.1/src/learner.cc:1115: Starting in XGBoost 1.3.0, the default evaluation metric used with the objective 'binary:logistic' was changed from 'error' to 'logloss'. Explicitly set eval_metric if you'd like to restore the old behavior.\n",
      "[10:36:13] WARNING: C:/Users/Administrator/workspace/xgboost-win64_release_1.5.1/src/learner.cc:1115: Starting in XGBoost 1.3.0, the default evaluation metric used with the objective 'binary:logistic' was changed from 'error' to 'logloss'. Explicitly set eval_metric if you'd like to restore the old behavior.\n",
      "[10:36:16] WARNING: C:/Users/Administrator/workspace/xgboost-win64_release_1.5.1/src/learner.cc:1115: Starting in XGBoost 1.3.0, the default evaluation metric used with the objective 'binary:logistic' was changed from 'error' to 'logloss'. Explicitly set eval_metric if you'd like to restore the old behavior.\n",
      "[10:36:20] WARNING: C:/Users/Administrator/workspace/xgboost-win64_release_1.5.1/src/learner.cc:1115: Starting in XGBoost 1.3.0, the default evaluation metric used with the objective 'binary:logistic' was changed from 'error' to 'logloss'. Explicitly set eval_metric if you'd like to restore the old behavior.\n",
      "[10:36:23] WARNING: C:/Users/Administrator/workspace/xgboost-win64_release_1.5.1/src/learner.cc:1115: Starting in XGBoost 1.3.0, the default evaluation metric used with the objective 'binary:logistic' was changed from 'error' to 'logloss'. Explicitly set eval_metric if you'd like to restore the old behavior.\n",
      "[10:36:27] WARNING: C:/Users/Administrator/workspace/xgboost-win64_release_1.5.1/src/learner.cc:1115: Starting in XGBoost 1.3.0, the default evaluation metric used with the objective 'binary:logistic' was changed from 'error' to 'logloss'. Explicitly set eval_metric if you'd like to restore the old behavior.\n",
      "[10:36:30] WARNING: C:/Users/Administrator/workspace/xgboost-win64_release_1.5.1/src/learner.cc:1115: Starting in XGBoost 1.3.0, the default evaluation metric used with the objective 'binary:logistic' was changed from 'error' to 'logloss'. Explicitly set eval_metric if you'd like to restore the old behavior.\n",
      "[10:36:33] WARNING: C:/Users/Administrator/workspace/xgboost-win64_release_1.5.1/src/learner.cc:1115: Starting in XGBoost 1.3.0, the default evaluation metric used with the objective 'binary:logistic' was changed from 'error' to 'logloss'. Explicitly set eval_metric if you'd like to restore the old behavior.\n",
      "[10:36:37] WARNING: C:/Users/Administrator/workspace/xgboost-win64_release_1.5.1/src/learner.cc:1115: Starting in XGBoost 1.3.0, the default evaluation metric used with the objective 'binary:logistic' was changed from 'error' to 'logloss'. Explicitly set eval_metric if you'd like to restore the old behavior.\n",
      "[10:36:40] WARNING: C:/Users/Administrator/workspace/xgboost-win64_release_1.5.1/src/learner.cc:1115: Starting in XGBoost 1.3.0, the default evaluation metric used with the objective 'binary:logistic' was changed from 'error' to 'logloss'. Explicitly set eval_metric if you'd like to restore the old behavior.\n",
      "[10:36:44] WARNING: C:/Users/Administrator/workspace/xgboost-win64_release_1.5.1/src/learner.cc:1115: Starting in XGBoost 1.3.0, the default evaluation metric used with the objective 'binary:logistic' was changed from 'error' to 'logloss'. Explicitly set eval_metric if you'd like to restore the old behavior.\n",
      "[10:36:47] WARNING: C:/Users/Administrator/workspace/xgboost-win64_release_1.5.1/src/learner.cc:1115: Starting in XGBoost 1.3.0, the default evaluation metric used with the objective 'binary:logistic' was changed from 'error' to 'logloss'. Explicitly set eval_metric if you'd like to restore the old behavior.\n",
      "[10:36:50] WARNING: C:/Users/Administrator/workspace/xgboost-win64_release_1.5.1/src/learner.cc:1115: Starting in XGBoost 1.3.0, the default evaluation metric used with the objective 'binary:logistic' was changed from 'error' to 'logloss'. Explicitly set eval_metric if you'd like to restore the old behavior.\n",
      "[10:36:54] WARNING: C:/Users/Administrator/workspace/xgboost-win64_release_1.5.1/src/learner.cc:1115: Starting in XGBoost 1.3.0, the default evaluation metric used with the objective 'binary:logistic' was changed from 'error' to 'logloss'. Explicitly set eval_metric if you'd like to restore the old behavior.\n",
      "[10:36:58] WARNING: C:/Users/Administrator/workspace/xgboost-win64_release_1.5.1/src/learner.cc:1115: Starting in XGBoost 1.3.0, the default evaluation metric used with the objective 'binary:logistic' was changed from 'error' to 'logloss'. Explicitly set eval_metric if you'd like to restore the old behavior.\n",
      "[10:37:01] WARNING: C:/Users/Administrator/workspace/xgboost-win64_release_1.5.1/src/learner.cc:1115: Starting in XGBoost 1.3.0, the default evaluation metric used with the objective 'binary:logistic' was changed from 'error' to 'logloss'. Explicitly set eval_metric if you'd like to restore the old behavior.\n",
      "[10:37:05] WARNING: C:/Users/Administrator/workspace/xgboost-win64_release_1.5.1/src/learner.cc:1115: Starting in XGBoost 1.3.0, the default evaluation metric used with the objective 'binary:logistic' was changed from 'error' to 'logloss'. Explicitly set eval_metric if you'd like to restore the old behavior.\n",
      "[10:37:08] WARNING: C:/Users/Administrator/workspace/xgboost-win64_release_1.5.1/src/learner.cc:1115: Starting in XGBoost 1.3.0, the default evaluation metric used with the objective 'binary:logistic' was changed from 'error' to 'logloss'. Explicitly set eval_metric if you'd like to restore the old behavior.\n",
      "[10:37:12] WARNING: C:/Users/Administrator/workspace/xgboost-win64_release_1.5.1/src/learner.cc:1115: Starting in XGBoost 1.3.0, the default evaluation metric used with the objective 'binary:logistic' was changed from 'error' to 'logloss'. Explicitly set eval_metric if you'd like to restore the old behavior.\n",
      "[10:37:15] WARNING: C:/Users/Administrator/workspace/xgboost-win64_release_1.5.1/src/learner.cc:1115: Starting in XGBoost 1.3.0, the default evaluation metric used with the objective 'binary:logistic' was changed from 'error' to 'logloss'. Explicitly set eval_metric if you'd like to restore the old behavior.\n",
      "[10:37:18] WARNING: C:/Users/Administrator/workspace/xgboost-win64_release_1.5.1/src/learner.cc:1115: Starting in XGBoost 1.3.0, the default evaluation metric used with the objective 'binary:logistic' was changed from 'error' to 'logloss'. Explicitly set eval_metric if you'd like to restore the old behavior.\n",
      "[10:37:22] WARNING: C:/Users/Administrator/workspace/xgboost-win64_release_1.5.1/src/learner.cc:1115: Starting in XGBoost 1.3.0, the default evaluation metric used with the objective 'binary:logistic' was changed from 'error' to 'logloss'. Explicitly set eval_metric if you'd like to restore the old behavior.\n",
      "[10:37:26] WARNING: C:/Users/Administrator/workspace/xgboost-win64_release_1.5.1/src/learner.cc:1115: Starting in XGBoost 1.3.0, the default evaluation metric used with the objective 'binary:logistic' was changed from 'error' to 'logloss'. Explicitly set eval_metric if you'd like to restore the old behavior.\n"
     ]
    },
    {
     "name": "stdout",
     "output_type": "stream",
     "text": [
      "[10:37:29] WARNING: C:/Users/Administrator/workspace/xgboost-win64_release_1.5.1/src/learner.cc:1115: Starting in XGBoost 1.3.0, the default evaluation metric used with the objective 'binary:logistic' was changed from 'error' to 'logloss'. Explicitly set eval_metric if you'd like to restore the old behavior.\n",
      "[10:37:33] WARNING: C:/Users/Administrator/workspace/xgboost-win64_release_1.5.1/src/learner.cc:1115: Starting in XGBoost 1.3.0, the default evaluation metric used with the objective 'binary:logistic' was changed from 'error' to 'logloss'. Explicitly set eval_metric if you'd like to restore the old behavior.\n",
      "[10:37:36] WARNING: C:/Users/Administrator/workspace/xgboost-win64_release_1.5.1/src/learner.cc:1115: Starting in XGBoost 1.3.0, the default evaluation metric used with the objective 'binary:logistic' was changed from 'error' to 'logloss'. Explicitly set eval_metric if you'd like to restore the old behavior.\n",
      "[10:37:39] WARNING: C:/Users/Administrator/workspace/xgboost-win64_release_1.5.1/src/learner.cc:1115: Starting in XGBoost 1.3.0, the default evaluation metric used with the objective 'binary:logistic' was changed from 'error' to 'logloss'. Explicitly set eval_metric if you'd like to restore the old behavior.\n",
      "[10:37:43] WARNING: C:/Users/Administrator/workspace/xgboost-win64_release_1.5.1/src/learner.cc:1115: Starting in XGBoost 1.3.0, the default evaluation metric used with the objective 'binary:logistic' was changed from 'error' to 'logloss'. Explicitly set eval_metric if you'd like to restore the old behavior.\n",
      "[10:37:46] WARNING: C:/Users/Administrator/workspace/xgboost-win64_release_1.5.1/src/learner.cc:1115: Starting in XGBoost 1.3.0, the default evaluation metric used with the objective 'binary:logistic' was changed from 'error' to 'logloss'. Explicitly set eval_metric if you'd like to restore the old behavior.\n",
      "[10:37:49] WARNING: C:/Users/Administrator/workspace/xgboost-win64_release_1.5.1/src/learner.cc:1115: Starting in XGBoost 1.3.0, the default evaluation metric used with the objective 'binary:logistic' was changed from 'error' to 'logloss'. Explicitly set eval_metric if you'd like to restore the old behavior.\n",
      "[10:37:53] WARNING: C:/Users/Administrator/workspace/xgboost-win64_release_1.5.1/src/learner.cc:1115: Starting in XGBoost 1.3.0, the default evaluation metric used with the objective 'binary:logistic' was changed from 'error' to 'logloss'. Explicitly set eval_metric if you'd like to restore the old behavior.\n",
      "[10:37:56] WARNING: C:/Users/Administrator/workspace/xgboost-win64_release_1.5.1/src/learner.cc:1115: Starting in XGBoost 1.3.0, the default evaluation metric used with the objective 'binary:logistic' was changed from 'error' to 'logloss'. Explicitly set eval_metric if you'd like to restore the old behavior.\n",
      "[10:38:00] WARNING: C:/Users/Administrator/workspace/xgboost-win64_release_1.5.1/src/learner.cc:1115: Starting in XGBoost 1.3.0, the default evaluation metric used with the objective 'binary:logistic' was changed from 'error' to 'logloss'. Explicitly set eval_metric if you'd like to restore the old behavior.\n",
      "[10:38:03] WARNING: C:/Users/Administrator/workspace/xgboost-win64_release_1.5.1/src/learner.cc:1115: Starting in XGBoost 1.3.0, the default evaluation metric used with the objective 'binary:logistic' was changed from 'error' to 'logloss'. Explicitly set eval_metric if you'd like to restore the old behavior.\n",
      "[10:38:06] WARNING: C:/Users/Administrator/workspace/xgboost-win64_release_1.5.1/src/learner.cc:1115: Starting in XGBoost 1.3.0, the default evaluation metric used with the objective 'binary:logistic' was changed from 'error' to 'logloss'. Explicitly set eval_metric if you'd like to restore the old behavior.\n",
      "[10:38:10] WARNING: C:/Users/Administrator/workspace/xgboost-win64_release_1.5.1/src/learner.cc:1115: Starting in XGBoost 1.3.0, the default evaluation metric used with the objective 'binary:logistic' was changed from 'error' to 'logloss'. Explicitly set eval_metric if you'd like to restore the old behavior.\n",
      "[10:38:13] WARNING: C:/Users/Administrator/workspace/xgboost-win64_release_1.5.1/src/learner.cc:1115: Starting in XGBoost 1.3.0, the default evaluation metric used with the objective 'binary:logistic' was changed from 'error' to 'logloss'. Explicitly set eval_metric if you'd like to restore the old behavior.\n",
      "[10:38:16] WARNING: C:/Users/Administrator/workspace/xgboost-win64_release_1.5.1/src/learner.cc:1115: Starting in XGBoost 1.3.0, the default evaluation metric used with the objective 'binary:logistic' was changed from 'error' to 'logloss'. Explicitly set eval_metric if you'd like to restore the old behavior.\n",
      "[10:38:20] WARNING: C:/Users/Administrator/workspace/xgboost-win64_release_1.5.1/src/learner.cc:1115: Starting in XGBoost 1.3.0, the default evaluation metric used with the objective 'binary:logistic' was changed from 'error' to 'logloss'. Explicitly set eval_metric if you'd like to restore the old behavior.\n",
      "[10:38:23] WARNING: C:/Users/Administrator/workspace/xgboost-win64_release_1.5.1/src/learner.cc:1115: Starting in XGBoost 1.3.0, the default evaluation metric used with the objective 'binary:logistic' was changed from 'error' to 'logloss'. Explicitly set eval_metric if you'd like to restore the old behavior.\n",
      "[10:38:28] WARNING: C:/Users/Administrator/workspace/xgboost-win64_release_1.5.1/src/learner.cc:1115: Starting in XGBoost 1.3.0, the default evaluation metric used with the objective 'binary:logistic' was changed from 'error' to 'logloss'. Explicitly set eval_metric if you'd like to restore the old behavior.\n",
      "[10:38:31] WARNING: C:/Users/Administrator/workspace/xgboost-win64_release_1.5.1/src/learner.cc:1115: Starting in XGBoost 1.3.0, the default evaluation metric used with the objective 'binary:logistic' was changed from 'error' to 'logloss'. Explicitly set eval_metric if you'd like to restore the old behavior.\n",
      "[10:38:35] WARNING: C:/Users/Administrator/workspace/xgboost-win64_release_1.5.1/src/learner.cc:1115: Starting in XGBoost 1.3.0, the default evaluation metric used with the objective 'binary:logistic' was changed from 'error' to 'logloss'. Explicitly set eval_metric if you'd like to restore the old behavior.\n",
      "[10:38:39] WARNING: C:/Users/Administrator/workspace/xgboost-win64_release_1.5.1/src/learner.cc:1115: Starting in XGBoost 1.3.0, the default evaluation metric used with the objective 'binary:logistic' was changed from 'error' to 'logloss'. Explicitly set eval_metric if you'd like to restore the old behavior.\n",
      "[10:38:42] WARNING: C:/Users/Administrator/workspace/xgboost-win64_release_1.5.1/src/learner.cc:1115: Starting in XGBoost 1.3.0, the default evaluation metric used with the objective 'binary:logistic' was changed from 'error' to 'logloss'. Explicitly set eval_metric if you'd like to restore the old behavior.\n",
      "[10:38:46] WARNING: C:/Users/Administrator/workspace/xgboost-win64_release_1.5.1/src/learner.cc:1115: Starting in XGBoost 1.3.0, the default evaluation metric used with the objective 'binary:logistic' was changed from 'error' to 'logloss'. Explicitly set eval_metric if you'd like to restore the old behavior.\n",
      "[10:38:49] WARNING: C:/Users/Administrator/workspace/xgboost-win64_release_1.5.1/src/learner.cc:1115: Starting in XGBoost 1.3.0, the default evaluation metric used with the objective 'binary:logistic' was changed from 'error' to 'logloss'. Explicitly set eval_metric if you'd like to restore the old behavior.\n",
      "[10:38:52] WARNING: C:/Users/Administrator/workspace/xgboost-win64_release_1.5.1/src/learner.cc:1115: Starting in XGBoost 1.3.0, the default evaluation metric used with the objective 'binary:logistic' was changed from 'error' to 'logloss'. Explicitly set eval_metric if you'd like to restore the old behavior.\n",
      "[10:38:56] WARNING: C:/Users/Administrator/workspace/xgboost-win64_release_1.5.1/src/learner.cc:1115: Starting in XGBoost 1.3.0, the default evaluation metric used with the objective 'binary:logistic' was changed from 'error' to 'logloss'. Explicitly set eval_metric if you'd like to restore the old behavior.\n",
      "[10:38:59] WARNING: C:/Users/Administrator/workspace/xgboost-win64_release_1.5.1/src/learner.cc:1115: Starting in XGBoost 1.3.0, the default evaluation metric used with the objective 'binary:logistic' was changed from 'error' to 'logloss'. Explicitly set eval_metric if you'd like to restore the old behavior.\n"
     ]
    },
    {
     "name": "stdout",
     "output_type": "stream",
     "text": [
      "[10:39:02] WARNING: C:/Users/Administrator/workspace/xgboost-win64_release_1.5.1/src/learner.cc:1115: Starting in XGBoost 1.3.0, the default evaluation metric used with the objective 'binary:logistic' was changed from 'error' to 'logloss'. Explicitly set eval_metric if you'd like to restore the old behavior.\n",
      "[10:39:06] WARNING: C:/Users/Administrator/workspace/xgboost-win64_release_1.5.1/src/learner.cc:1115: Starting in XGBoost 1.3.0, the default evaluation metric used with the objective 'binary:logistic' was changed from 'error' to 'logloss'. Explicitly set eval_metric if you'd like to restore the old behavior.\n",
      "[10:39:09] WARNING: C:/Users/Administrator/workspace/xgboost-win64_release_1.5.1/src/learner.cc:1115: Starting in XGBoost 1.3.0, the default evaluation metric used with the objective 'binary:logistic' was changed from 'error' to 'logloss'. Explicitly set eval_metric if you'd like to restore the old behavior.\n",
      "[10:39:13] WARNING: C:/Users/Administrator/workspace/xgboost-win64_release_1.5.1/src/learner.cc:1115: Starting in XGBoost 1.3.0, the default evaluation metric used with the objective 'binary:logistic' was changed from 'error' to 'logloss'. Explicitly set eval_metric if you'd like to restore the old behavior.\n",
      "[10:39:16] WARNING: C:/Users/Administrator/workspace/xgboost-win64_release_1.5.1/src/learner.cc:1115: Starting in XGBoost 1.3.0, the default evaluation metric used with the objective 'binary:logistic' was changed from 'error' to 'logloss'. Explicitly set eval_metric if you'd like to restore the old behavior.\n",
      "[10:39:19] WARNING: C:/Users/Administrator/workspace/xgboost-win64_release_1.5.1/src/learner.cc:1115: Starting in XGBoost 1.3.0, the default evaluation metric used with the objective 'binary:logistic' was changed from 'error' to 'logloss'. Explicitly set eval_metric if you'd like to restore the old behavior.\n",
      "[10:39:23] WARNING: C:/Users/Administrator/workspace/xgboost-win64_release_1.5.1/src/learner.cc:1115: Starting in XGBoost 1.3.0, the default evaluation metric used with the objective 'binary:logistic' was changed from 'error' to 'logloss'. Explicitly set eval_metric if you'd like to restore the old behavior.\n",
      "[10:39:27] WARNING: C:/Users/Administrator/workspace/xgboost-win64_release_1.5.1/src/learner.cc:1115: Starting in XGBoost 1.3.0, the default evaluation metric used with the objective 'binary:logistic' was changed from 'error' to 'logloss'. Explicitly set eval_metric if you'd like to restore the old behavior.\n",
      "[10:39:30] WARNING: C:/Users/Administrator/workspace/xgboost-win64_release_1.5.1/src/learner.cc:1115: Starting in XGBoost 1.3.0, the default evaluation metric used with the objective 'binary:logistic' was changed from 'error' to 'logloss'. Explicitly set eval_metric if you'd like to restore the old behavior.\n",
      "[10:39:33] WARNING: C:/Users/Administrator/workspace/xgboost-win64_release_1.5.1/src/learner.cc:1115: Starting in XGBoost 1.3.0, the default evaluation metric used with the objective 'binary:logistic' was changed from 'error' to 'logloss'. Explicitly set eval_metric if you'd like to restore the old behavior.\n",
      "[10:39:37] WARNING: C:/Users/Administrator/workspace/xgboost-win64_release_1.5.1/src/learner.cc:1115: Starting in XGBoost 1.3.0, the default evaluation metric used with the objective 'binary:logistic' was changed from 'error' to 'logloss'. Explicitly set eval_metric if you'd like to restore the old behavior.\n",
      "[10:39:40] WARNING: C:/Users/Administrator/workspace/xgboost-win64_release_1.5.1/src/learner.cc:1115: Starting in XGBoost 1.3.0, the default evaluation metric used with the objective 'binary:logistic' was changed from 'error' to 'logloss'. Explicitly set eval_metric if you'd like to restore the old behavior.\n",
      "[10:39:44] WARNING: C:/Users/Administrator/workspace/xgboost-win64_release_1.5.1/src/learner.cc:1115: Starting in XGBoost 1.3.0, the default evaluation metric used with the objective 'binary:logistic' was changed from 'error' to 'logloss'. Explicitly set eval_metric if you'd like to restore the old behavior.\n",
      "[10:39:47] WARNING: C:/Users/Administrator/workspace/xgboost-win64_release_1.5.1/src/learner.cc:1115: Starting in XGBoost 1.3.0, the default evaluation metric used with the objective 'binary:logistic' was changed from 'error' to 'logloss'. Explicitly set eval_metric if you'd like to restore the old behavior.\n",
      "[10:39:50] WARNING: C:/Users/Administrator/workspace/xgboost-win64_release_1.5.1/src/learner.cc:1115: Starting in XGBoost 1.3.0, the default evaluation metric used with the objective 'binary:logistic' was changed from 'error' to 'logloss'. Explicitly set eval_metric if you'd like to restore the old behavior.\n",
      "[10:39:54] WARNING: C:/Users/Administrator/workspace/xgboost-win64_release_1.5.1/src/learner.cc:1115: Starting in XGBoost 1.3.0, the default evaluation metric used with the objective 'binary:logistic' was changed from 'error' to 'logloss'. Explicitly set eval_metric if you'd like to restore the old behavior.\n",
      "[10:39:57] WARNING: C:/Users/Administrator/workspace/xgboost-win64_release_1.5.1/src/learner.cc:1115: Starting in XGBoost 1.3.0, the default evaluation metric used with the objective 'binary:logistic' was changed from 'error' to 'logloss'. Explicitly set eval_metric if you'd like to restore the old behavior.\n",
      "[10:40:01] WARNING: C:/Users/Administrator/workspace/xgboost-win64_release_1.5.1/src/learner.cc:1115: Starting in XGBoost 1.3.0, the default evaluation metric used with the objective 'binary:logistic' was changed from 'error' to 'logloss'. Explicitly set eval_metric if you'd like to restore the old behavior.\n",
      "[10:40:04] WARNING: C:/Users/Administrator/workspace/xgboost-win64_release_1.5.1/src/learner.cc:1115: Starting in XGBoost 1.3.0, the default evaluation metric used with the objective 'binary:logistic' was changed from 'error' to 'logloss'. Explicitly set eval_metric if you'd like to restore the old behavior.\n",
      "[10:40:07] WARNING: C:/Users/Administrator/workspace/xgboost-win64_release_1.5.1/src/learner.cc:1115: Starting in XGBoost 1.3.0, the default evaluation metric used with the objective 'binary:logistic' was changed from 'error' to 'logloss'. Explicitly set eval_metric if you'd like to restore the old behavior.\n",
      "[10:40:11] WARNING: C:/Users/Administrator/workspace/xgboost-win64_release_1.5.1/src/learner.cc:1115: Starting in XGBoost 1.3.0, the default evaluation metric used with the objective 'binary:logistic' was changed from 'error' to 'logloss'. Explicitly set eval_metric if you'd like to restore the old behavior.\n",
      "[10:40:14] WARNING: C:/Users/Administrator/workspace/xgboost-win64_release_1.5.1/src/learner.cc:1115: Starting in XGBoost 1.3.0, the default evaluation metric used with the objective 'binary:logistic' was changed from 'error' to 'logloss'. Explicitly set eval_metric if you'd like to restore the old behavior.\n",
      "[10:40:18] WARNING: C:/Users/Administrator/workspace/xgboost-win64_release_1.5.1/src/learner.cc:1115: Starting in XGBoost 1.3.0, the default evaluation metric used with the objective 'binary:logistic' was changed from 'error' to 'logloss'. Explicitly set eval_metric if you'd like to restore the old behavior.\n",
      "[10:40:21] WARNING: C:/Users/Administrator/workspace/xgboost-win64_release_1.5.1/src/learner.cc:1115: Starting in XGBoost 1.3.0, the default evaluation metric used with the objective 'binary:logistic' was changed from 'error' to 'logloss'. Explicitly set eval_metric if you'd like to restore the old behavior.\n",
      "[10:40:25] WARNING: C:/Users/Administrator/workspace/xgboost-win64_release_1.5.1/src/learner.cc:1115: Starting in XGBoost 1.3.0, the default evaluation metric used with the objective 'binary:logistic' was changed from 'error' to 'logloss'. Explicitly set eval_metric if you'd like to restore the old behavior.\n",
      "[10:40:28] WARNING: C:/Users/Administrator/workspace/xgboost-win64_release_1.5.1/src/learner.cc:1115: Starting in XGBoost 1.3.0, the default evaluation metric used with the objective 'binary:logistic' was changed from 'error' to 'logloss'. Explicitly set eval_metric if you'd like to restore the old behavior.\n",
      "[10:40:32] WARNING: C:/Users/Administrator/workspace/xgboost-win64_release_1.5.1/src/learner.cc:1115: Starting in XGBoost 1.3.0, the default evaluation metric used with the objective 'binary:logistic' was changed from 'error' to 'logloss'. Explicitly set eval_metric if you'd like to restore the old behavior.\n"
     ]
    },
    {
     "name": "stdout",
     "output_type": "stream",
     "text": [
      "[10:40:35] WARNING: C:/Users/Administrator/workspace/xgboost-win64_release_1.5.1/src/learner.cc:1115: Starting in XGBoost 1.3.0, the default evaluation metric used with the objective 'binary:logistic' was changed from 'error' to 'logloss'. Explicitly set eval_metric if you'd like to restore the old behavior.\n",
      "[10:40:39] WARNING: C:/Users/Administrator/workspace/xgboost-win64_release_1.5.1/src/learner.cc:1115: Starting in XGBoost 1.3.0, the default evaluation metric used with the objective 'binary:logistic' was changed from 'error' to 'logloss'. Explicitly set eval_metric if you'd like to restore the old behavior.\n",
      "[10:40:42] WARNING: C:/Users/Administrator/workspace/xgboost-win64_release_1.5.1/src/learner.cc:1115: Starting in XGBoost 1.3.0, the default evaluation metric used with the objective 'binary:logistic' was changed from 'error' to 'logloss'. Explicitly set eval_metric if you'd like to restore the old behavior.\n",
      "[10:40:45] WARNING: C:/Users/Administrator/workspace/xgboost-win64_release_1.5.1/src/learner.cc:1115: Starting in XGBoost 1.3.0, the default evaluation metric used with the objective 'binary:logistic' was changed from 'error' to 'logloss'. Explicitly set eval_metric if you'd like to restore the old behavior.\n",
      "[10:40:49] WARNING: C:/Users/Administrator/workspace/xgboost-win64_release_1.5.1/src/learner.cc:1115: Starting in XGBoost 1.3.0, the default evaluation metric used with the objective 'binary:logistic' was changed from 'error' to 'logloss'. Explicitly set eval_metric if you'd like to restore the old behavior.\n",
      "[10:40:52] WARNING: C:/Users/Administrator/workspace/xgboost-win64_release_1.5.1/src/learner.cc:1115: Starting in XGBoost 1.3.0, the default evaluation metric used with the objective 'binary:logistic' was changed from 'error' to 'logloss'. Explicitly set eval_metric if you'd like to restore the old behavior.\n",
      "[10:40:56] WARNING: C:/Users/Administrator/workspace/xgboost-win64_release_1.5.1/src/learner.cc:1115: Starting in XGBoost 1.3.0, the default evaluation metric used with the objective 'binary:logistic' was changed from 'error' to 'logloss'. Explicitly set eval_metric if you'd like to restore the old behavior.\n",
      "[10:40:59] WARNING: C:/Users/Administrator/workspace/xgboost-win64_release_1.5.1/src/learner.cc:1115: Starting in XGBoost 1.3.0, the default evaluation metric used with the objective 'binary:logistic' was changed from 'error' to 'logloss'. Explicitly set eval_metric if you'd like to restore the old behavior.\n",
      "[10:41:02] WARNING: C:/Users/Administrator/workspace/xgboost-win64_release_1.5.1/src/learner.cc:1115: Starting in XGBoost 1.3.0, the default evaluation metric used with the objective 'binary:logistic' was changed from 'error' to 'logloss'. Explicitly set eval_metric if you'd like to restore the old behavior.\n",
      "[10:41:06] WARNING: C:/Users/Administrator/workspace/xgboost-win64_release_1.5.1/src/learner.cc:1115: Starting in XGBoost 1.3.0, the default evaluation metric used with the objective 'binary:logistic' was changed from 'error' to 'logloss'. Explicitly set eval_metric if you'd like to restore the old behavior.\n",
      "[10:41:09] WARNING: C:/Users/Administrator/workspace/xgboost-win64_release_1.5.1/src/learner.cc:1115: Starting in XGBoost 1.3.0, the default evaluation metric used with the objective 'binary:logistic' was changed from 'error' to 'logloss'. Explicitly set eval_metric if you'd like to restore the old behavior.\n",
      "[10:41:13] WARNING: C:/Users/Administrator/workspace/xgboost-win64_release_1.5.1/src/learner.cc:1115: Starting in XGBoost 1.3.0, the default evaluation metric used with the objective 'binary:logistic' was changed from 'error' to 'logloss'. Explicitly set eval_metric if you'd like to restore the old behavior.\n",
      "[10:41:16] WARNING: C:/Users/Administrator/workspace/xgboost-win64_release_1.5.1/src/learner.cc:1115: Starting in XGBoost 1.3.0, the default evaluation metric used with the objective 'binary:logistic' was changed from 'error' to 'logloss'. Explicitly set eval_metric if you'd like to restore the old behavior.\n",
      "[10:41:19] WARNING: C:/Users/Administrator/workspace/xgboost-win64_release_1.5.1/src/learner.cc:1115: Starting in XGBoost 1.3.0, the default evaluation metric used with the objective 'binary:logistic' was changed from 'error' to 'logloss'. Explicitly set eval_metric if you'd like to restore the old behavior.\n",
      "[10:41:23] WARNING: C:/Users/Administrator/workspace/xgboost-win64_release_1.5.1/src/learner.cc:1115: Starting in XGBoost 1.3.0, the default evaluation metric used with the objective 'binary:logistic' was changed from 'error' to 'logloss'. Explicitly set eval_metric if you'd like to restore the old behavior.\n",
      "[10:41:27] WARNING: C:/Users/Administrator/workspace/xgboost-win64_release_1.5.1/src/learner.cc:1115: Starting in XGBoost 1.3.0, the default evaluation metric used with the objective 'binary:logistic' was changed from 'error' to 'logloss'. Explicitly set eval_metric if you'd like to restore the old behavior.\n",
      "[10:41:30] WARNING: C:/Users/Administrator/workspace/xgboost-win64_release_1.5.1/src/learner.cc:1115: Starting in XGBoost 1.3.0, the default evaluation metric used with the objective 'binary:logistic' was changed from 'error' to 'logloss'. Explicitly set eval_metric if you'd like to restore the old behavior.\n",
      "[10:41:33] WARNING: C:/Users/Administrator/workspace/xgboost-win64_release_1.5.1/src/learner.cc:1115: Starting in XGBoost 1.3.0, the default evaluation metric used with the objective 'binary:logistic' was changed from 'error' to 'logloss'. Explicitly set eval_metric if you'd like to restore the old behavior.\n",
      "[10:41:37] WARNING: C:/Users/Administrator/workspace/xgboost-win64_release_1.5.1/src/learner.cc:1115: Starting in XGBoost 1.3.0, the default evaluation metric used with the objective 'binary:logistic' was changed from 'error' to 'logloss'. Explicitly set eval_metric if you'd like to restore the old behavior.\n",
      "[10:41:40] WARNING: C:/Users/Administrator/workspace/xgboost-win64_release_1.5.1/src/learner.cc:1115: Starting in XGBoost 1.3.0, the default evaluation metric used with the objective 'binary:logistic' was changed from 'error' to 'logloss'. Explicitly set eval_metric if you'd like to restore the old behavior.\n",
      "[10:41:44] WARNING: C:/Users/Administrator/workspace/xgboost-win64_release_1.5.1/src/learner.cc:1115: Starting in XGBoost 1.3.0, the default evaluation metric used with the objective 'binary:logistic' was changed from 'error' to 'logloss'. Explicitly set eval_metric if you'd like to restore the old behavior.\n",
      "[10:41:47] WARNING: C:/Users/Administrator/workspace/xgboost-win64_release_1.5.1/src/learner.cc:1115: Starting in XGBoost 1.3.0, the default evaluation metric used with the objective 'binary:logistic' was changed from 'error' to 'logloss'. Explicitly set eval_metric if you'd like to restore the old behavior.\n",
      "[10:41:50] WARNING: C:/Users/Administrator/workspace/xgboost-win64_release_1.5.1/src/learner.cc:1115: Starting in XGBoost 1.3.0, the default evaluation metric used with the objective 'binary:logistic' was changed from 'error' to 'logloss'. Explicitly set eval_metric if you'd like to restore the old behavior.\n",
      "[10:41:54] WARNING: C:/Users/Administrator/workspace/xgboost-win64_release_1.5.1/src/learner.cc:1115: Starting in XGBoost 1.3.0, the default evaluation metric used with the objective 'binary:logistic' was changed from 'error' to 'logloss'. Explicitly set eval_metric if you'd like to restore the old behavior.\n",
      "[10:41:57] WARNING: C:/Users/Administrator/workspace/xgboost-win64_release_1.5.1/src/learner.cc:1115: Starting in XGBoost 1.3.0, the default evaluation metric used with the objective 'binary:logistic' was changed from 'error' to 'logloss'. Explicitly set eval_metric if you'd like to restore the old behavior.\n",
      "[10:42:00] WARNING: C:/Users/Administrator/workspace/xgboost-win64_release_1.5.1/src/learner.cc:1115: Starting in XGBoost 1.3.0, the default evaluation metric used with the objective 'binary:logistic' was changed from 'error' to 'logloss'. Explicitly set eval_metric if you'd like to restore the old behavior.\n",
      "[10:42:04] WARNING: C:/Users/Administrator/workspace/xgboost-win64_release_1.5.1/src/learner.cc:1115: Starting in XGBoost 1.3.0, the default evaluation metric used with the objective 'binary:logistic' was changed from 'error' to 'logloss'. Explicitly set eval_metric if you'd like to restore the old behavior.\n"
     ]
    },
    {
     "name": "stdout",
     "output_type": "stream",
     "text": [
      "[10:42:07] WARNING: C:/Users/Administrator/workspace/xgboost-win64_release_1.5.1/src/learner.cc:1115: Starting in XGBoost 1.3.0, the default evaluation metric used with the objective 'binary:logistic' was changed from 'error' to 'logloss'. Explicitly set eval_metric if you'd like to restore the old behavior.\n",
      "[10:42:11] WARNING: C:/Users/Administrator/workspace/xgboost-win64_release_1.5.1/src/learner.cc:1115: Starting in XGBoost 1.3.0, the default evaluation metric used with the objective 'binary:logistic' was changed from 'error' to 'logloss'. Explicitly set eval_metric if you'd like to restore the old behavior.\n",
      "[10:42:14] WARNING: C:/Users/Administrator/workspace/xgboost-win64_release_1.5.1/src/learner.cc:1115: Starting in XGBoost 1.3.0, the default evaluation metric used with the objective 'binary:logistic' was changed from 'error' to 'logloss'. Explicitly set eval_metric if you'd like to restore the old behavior.\n",
      "[10:42:18] WARNING: C:/Users/Administrator/workspace/xgboost-win64_release_1.5.1/src/learner.cc:1115: Starting in XGBoost 1.3.0, the default evaluation metric used with the objective 'binary:logistic' was changed from 'error' to 'logloss'. Explicitly set eval_metric if you'd like to restore the old behavior.\n",
      "[10:42:21] WARNING: C:/Users/Administrator/workspace/xgboost-win64_release_1.5.1/src/learner.cc:1115: Starting in XGBoost 1.3.0, the default evaluation metric used with the objective 'binary:logistic' was changed from 'error' to 'logloss'. Explicitly set eval_metric if you'd like to restore the old behavior.\n",
      "[10:42:25] WARNING: C:/Users/Administrator/workspace/xgboost-win64_release_1.5.1/src/learner.cc:1115: Starting in XGBoost 1.3.0, the default evaluation metric used with the objective 'binary:logistic' was changed from 'error' to 'logloss'. Explicitly set eval_metric if you'd like to restore the old behavior.\n",
      "[10:42:28] WARNING: C:/Users/Administrator/workspace/xgboost-win64_release_1.5.1/src/learner.cc:1115: Starting in XGBoost 1.3.0, the default evaluation metric used with the objective 'binary:logistic' was changed from 'error' to 'logloss'. Explicitly set eval_metric if you'd like to restore the old behavior.\n",
      "[10:42:32] WARNING: C:/Users/Administrator/workspace/xgboost-win64_release_1.5.1/src/learner.cc:1115: Starting in XGBoost 1.3.0, the default evaluation metric used with the objective 'binary:logistic' was changed from 'error' to 'logloss'. Explicitly set eval_metric if you'd like to restore the old behavior.\n",
      "[10:42:35] WARNING: C:/Users/Administrator/workspace/xgboost-win64_release_1.5.1/src/learner.cc:1115: Starting in XGBoost 1.3.0, the default evaluation metric used with the objective 'binary:logistic' was changed from 'error' to 'logloss'. Explicitly set eval_metric if you'd like to restore the old behavior.\n",
      "[10:42:38] WARNING: C:/Users/Administrator/workspace/xgboost-win64_release_1.5.1/src/learner.cc:1115: Starting in XGBoost 1.3.0, the default evaluation metric used with the objective 'binary:logistic' was changed from 'error' to 'logloss'. Explicitly set eval_metric if you'd like to restore the old behavior.\n",
      "[10:42:42] WARNING: C:/Users/Administrator/workspace/xgboost-win64_release_1.5.1/src/learner.cc:1115: Starting in XGBoost 1.3.0, the default evaluation metric used with the objective 'binary:logistic' was changed from 'error' to 'logloss'. Explicitly set eval_metric if you'd like to restore the old behavior.\n",
      "[10:42:45] WARNING: C:/Users/Administrator/workspace/xgboost-win64_release_1.5.1/src/learner.cc:1115: Starting in XGBoost 1.3.0, the default evaluation metric used with the objective 'binary:logistic' was changed from 'error' to 'logloss'. Explicitly set eval_metric if you'd like to restore the old behavior.\n",
      "[10:42:49] WARNING: C:/Users/Administrator/workspace/xgboost-win64_release_1.5.1/src/learner.cc:1115: Starting in XGBoost 1.3.0, the default evaluation metric used with the objective 'binary:logistic' was changed from 'error' to 'logloss'. Explicitly set eval_metric if you'd like to restore the old behavior.\n",
      "[10:42:52] WARNING: C:/Users/Administrator/workspace/xgboost-win64_release_1.5.1/src/learner.cc:1115: Starting in XGBoost 1.3.0, the default evaluation metric used with the objective 'binary:logistic' was changed from 'error' to 'logloss'. Explicitly set eval_metric if you'd like to restore the old behavior.\n",
      "[10:42:55] WARNING: C:/Users/Administrator/workspace/xgboost-win64_release_1.5.1/src/learner.cc:1115: Starting in XGBoost 1.3.0, the default evaluation metric used with the objective 'binary:logistic' was changed from 'error' to 'logloss'. Explicitly set eval_metric if you'd like to restore the old behavior.\n",
      "[10:42:59] WARNING: C:/Users/Administrator/workspace/xgboost-win64_release_1.5.1/src/learner.cc:1115: Starting in XGBoost 1.3.0, the default evaluation metric used with the objective 'binary:logistic' was changed from 'error' to 'logloss'. Explicitly set eval_metric if you'd like to restore the old behavior.\n",
      "[10:43:02] WARNING: C:/Users/Administrator/workspace/xgboost-win64_release_1.5.1/src/learner.cc:1115: Starting in XGBoost 1.3.0, the default evaluation metric used with the objective 'binary:logistic' was changed from 'error' to 'logloss'. Explicitly set eval_metric if you'd like to restore the old behavior.\n",
      "[10:43:05] WARNING: C:/Users/Administrator/workspace/xgboost-win64_release_1.5.1/src/learner.cc:1115: Starting in XGBoost 1.3.0, the default evaluation metric used with the objective 'binary:logistic' was changed from 'error' to 'logloss'. Explicitly set eval_metric if you'd like to restore the old behavior.\n",
      "[10:43:09] WARNING: C:/Users/Administrator/workspace/xgboost-win64_release_1.5.1/src/learner.cc:1115: Starting in XGBoost 1.3.0, the default evaluation metric used with the objective 'binary:logistic' was changed from 'error' to 'logloss'. Explicitly set eval_metric if you'd like to restore the old behavior.\n",
      "[10:43:12] WARNING: C:/Users/Administrator/workspace/xgboost-win64_release_1.5.1/src/learner.cc:1115: Starting in XGBoost 1.3.0, the default evaluation metric used with the objective 'binary:logistic' was changed from 'error' to 'logloss'. Explicitly set eval_metric if you'd like to restore the old behavior.\n",
      "[10:43:15] WARNING: C:/Users/Administrator/workspace/xgboost-win64_release_1.5.1/src/learner.cc:1115: Starting in XGBoost 1.3.0, the default evaluation metric used with the objective 'binary:logistic' was changed from 'error' to 'logloss'. Explicitly set eval_metric if you'd like to restore the old behavior.\n",
      "[10:43:19] WARNING: C:/Users/Administrator/workspace/xgboost-win64_release_1.5.1/src/learner.cc:1115: Starting in XGBoost 1.3.0, the default evaluation metric used with the objective 'binary:logistic' was changed from 'error' to 'logloss'. Explicitly set eval_metric if you'd like to restore the old behavior.\n",
      "[10:43:22] WARNING: C:/Users/Administrator/workspace/xgboost-win64_release_1.5.1/src/learner.cc:1115: Starting in XGBoost 1.3.0, the default evaluation metric used with the objective 'binary:logistic' was changed from 'error' to 'logloss'. Explicitly set eval_metric if you'd like to restore the old behavior.\n",
      "[10:43:26] WARNING: C:/Users/Administrator/workspace/xgboost-win64_release_1.5.1/src/learner.cc:1115: Starting in XGBoost 1.3.0, the default evaluation metric used with the objective 'binary:logistic' was changed from 'error' to 'logloss'. Explicitly set eval_metric if you'd like to restore the old behavior.\n",
      "[10:43:29] WARNING: C:/Users/Administrator/workspace/xgboost-win64_release_1.5.1/src/learner.cc:1115: Starting in XGBoost 1.3.0, the default evaluation metric used with the objective 'binary:logistic' was changed from 'error' to 'logloss'. Explicitly set eval_metric if you'd like to restore the old behavior.\n",
      "[10:43:32] WARNING: C:/Users/Administrator/workspace/xgboost-win64_release_1.5.1/src/learner.cc:1115: Starting in XGBoost 1.3.0, the default evaluation metric used with the objective 'binary:logistic' was changed from 'error' to 'logloss'. Explicitly set eval_metric if you'd like to restore the old behavior.\n",
      "[10:43:36] WARNING: C:/Users/Administrator/workspace/xgboost-win64_release_1.5.1/src/learner.cc:1115: Starting in XGBoost 1.3.0, the default evaluation metric used with the objective 'binary:logistic' was changed from 'error' to 'logloss'. Explicitly set eval_metric if you'd like to restore the old behavior.\n"
     ]
    },
    {
     "name": "stdout",
     "output_type": "stream",
     "text": [
      "[10:43:39] WARNING: C:/Users/Administrator/workspace/xgboost-win64_release_1.5.1/src/learner.cc:1115: Starting in XGBoost 1.3.0, the default evaluation metric used with the objective 'binary:logistic' was changed from 'error' to 'logloss'. Explicitly set eval_metric if you'd like to restore the old behavior.\n",
      "[10:43:43] WARNING: C:/Users/Administrator/workspace/xgboost-win64_release_1.5.1/src/learner.cc:1115: Starting in XGBoost 1.3.0, the default evaluation metric used with the objective 'binary:logistic' was changed from 'error' to 'logloss'. Explicitly set eval_metric if you'd like to restore the old behavior.\n",
      "[10:43:46] WARNING: C:/Users/Administrator/workspace/xgboost-win64_release_1.5.1/src/learner.cc:1115: Starting in XGBoost 1.3.0, the default evaluation metric used with the objective 'binary:logistic' was changed from 'error' to 'logloss'. Explicitly set eval_metric if you'd like to restore the old behavior.\n",
      "[10:43:50] WARNING: C:/Users/Administrator/workspace/xgboost-win64_release_1.5.1/src/learner.cc:1115: Starting in XGBoost 1.3.0, the default evaluation metric used with the objective 'binary:logistic' was changed from 'error' to 'logloss'. Explicitly set eval_metric if you'd like to restore the old behavior.\n",
      "[10:43:53] WARNING: C:/Users/Administrator/workspace/xgboost-win64_release_1.5.1/src/learner.cc:1115: Starting in XGBoost 1.3.0, the default evaluation metric used with the objective 'binary:logistic' was changed from 'error' to 'logloss'. Explicitly set eval_metric if you'd like to restore the old behavior.\n",
      "[10:43:56] WARNING: C:/Users/Administrator/workspace/xgboost-win64_release_1.5.1/src/learner.cc:1115: Starting in XGBoost 1.3.0, the default evaluation metric used with the objective 'binary:logistic' was changed from 'error' to 'logloss'. Explicitly set eval_metric if you'd like to restore the old behavior.\n",
      "[10:44:00] WARNING: C:/Users/Administrator/workspace/xgboost-win64_release_1.5.1/src/learner.cc:1115: Starting in XGBoost 1.3.0, the default evaluation metric used with the objective 'binary:logistic' was changed from 'error' to 'logloss'. Explicitly set eval_metric if you'd like to restore the old behavior.\n",
      "[10:44:03] WARNING: C:/Users/Administrator/workspace/xgboost-win64_release_1.5.1/src/learner.cc:1115: Starting in XGBoost 1.3.0, the default evaluation metric used with the objective 'binary:logistic' was changed from 'error' to 'logloss'. Explicitly set eval_metric if you'd like to restore the old behavior.\n",
      "[10:44:07] WARNING: C:/Users/Administrator/workspace/xgboost-win64_release_1.5.1/src/learner.cc:1115: Starting in XGBoost 1.3.0, the default evaluation metric used with the objective 'binary:logistic' was changed from 'error' to 'logloss'. Explicitly set eval_metric if you'd like to restore the old behavior.\n",
      "[10:44:10] WARNING: C:/Users/Administrator/workspace/xgboost-win64_release_1.5.1/src/learner.cc:1115: Starting in XGBoost 1.3.0, the default evaluation metric used with the objective 'binary:logistic' was changed from 'error' to 'logloss'. Explicitly set eval_metric if you'd like to restore the old behavior.\n",
      "[10:44:13] WARNING: C:/Users/Administrator/workspace/xgboost-win64_release_1.5.1/src/learner.cc:1115: Starting in XGBoost 1.3.0, the default evaluation metric used with the objective 'binary:logistic' was changed from 'error' to 'logloss'. Explicitly set eval_metric if you'd like to restore the old behavior.\n",
      "[10:44:17] WARNING: C:/Users/Administrator/workspace/xgboost-win64_release_1.5.1/src/learner.cc:1115: Starting in XGBoost 1.3.0, the default evaluation metric used with the objective 'binary:logistic' was changed from 'error' to 'logloss'. Explicitly set eval_metric if you'd like to restore the old behavior.\n",
      "[10:44:20] WARNING: C:/Users/Administrator/workspace/xgboost-win64_release_1.5.1/src/learner.cc:1115: Starting in XGBoost 1.3.0, the default evaluation metric used with the objective 'binary:logistic' was changed from 'error' to 'logloss'. Explicitly set eval_metric if you'd like to restore the old behavior.\n",
      "[10:44:24] WARNING: C:/Users/Administrator/workspace/xgboost-win64_release_1.5.1/src/learner.cc:1115: Starting in XGBoost 1.3.0, the default evaluation metric used with the objective 'binary:logistic' was changed from 'error' to 'logloss'. Explicitly set eval_metric if you'd like to restore the old behavior.\n",
      "[10:44:27] WARNING: C:/Users/Administrator/workspace/xgboost-win64_release_1.5.1/src/learner.cc:1115: Starting in XGBoost 1.3.0, the default evaluation metric used with the objective 'binary:logistic' was changed from 'error' to 'logloss'. Explicitly set eval_metric if you'd like to restore the old behavior.\n",
      "[10:44:31] WARNING: C:/Users/Administrator/workspace/xgboost-win64_release_1.5.1/src/learner.cc:1115: Starting in XGBoost 1.3.0, the default evaluation metric used with the objective 'binary:logistic' was changed from 'error' to 'logloss'. Explicitly set eval_metric if you'd like to restore the old behavior.\n",
      "[10:44:34] WARNING: C:/Users/Administrator/workspace/xgboost-win64_release_1.5.1/src/learner.cc:1115: Starting in XGBoost 1.3.0, the default evaluation metric used with the objective 'binary:logistic' was changed from 'error' to 'logloss'. Explicitly set eval_metric if you'd like to restore the old behavior.\n",
      "[10:44:37] WARNING: C:/Users/Administrator/workspace/xgboost-win64_release_1.5.1/src/learner.cc:1115: Starting in XGBoost 1.3.0, the default evaluation metric used with the objective 'binary:logistic' was changed from 'error' to 'logloss'. Explicitly set eval_metric if you'd like to restore the old behavior.\n",
      "[10:44:41] WARNING: C:/Users/Administrator/workspace/xgboost-win64_release_1.5.1/src/learner.cc:1115: Starting in XGBoost 1.3.0, the default evaluation metric used with the objective 'binary:logistic' was changed from 'error' to 'logloss'. Explicitly set eval_metric if you'd like to restore the old behavior.\n",
      "[10:44:44] WARNING: C:/Users/Administrator/workspace/xgboost-win64_release_1.5.1/src/learner.cc:1115: Starting in XGBoost 1.3.0, the default evaluation metric used with the objective 'binary:logistic' was changed from 'error' to 'logloss'. Explicitly set eval_metric if you'd like to restore the old behavior.\n",
      "[10:44:48] WARNING: C:/Users/Administrator/workspace/xgboost-win64_release_1.5.1/src/learner.cc:1115: Starting in XGBoost 1.3.0, the default evaluation metric used with the objective 'binary:logistic' was changed from 'error' to 'logloss'. Explicitly set eval_metric if you'd like to restore the old behavior.\n",
      "[10:44:51] WARNING: C:/Users/Administrator/workspace/xgboost-win64_release_1.5.1/src/learner.cc:1115: Starting in XGBoost 1.3.0, the default evaluation metric used with the objective 'binary:logistic' was changed from 'error' to 'logloss'. Explicitly set eval_metric if you'd like to restore the old behavior.\n",
      "[10:44:55] WARNING: C:/Users/Administrator/workspace/xgboost-win64_release_1.5.1/src/learner.cc:1115: Starting in XGBoost 1.3.0, the default evaluation metric used with the objective 'binary:logistic' was changed from 'error' to 'logloss'. Explicitly set eval_metric if you'd like to restore the old behavior.\n",
      "[10:44:58] WARNING: C:/Users/Administrator/workspace/xgboost-win64_release_1.5.1/src/learner.cc:1115: Starting in XGBoost 1.3.0, the default evaluation metric used with the objective 'binary:logistic' was changed from 'error' to 'logloss'. Explicitly set eval_metric if you'd like to restore the old behavior.\n",
      "[10:45:02] WARNING: C:/Users/Administrator/workspace/xgboost-win64_release_1.5.1/src/learner.cc:1115: Starting in XGBoost 1.3.0, the default evaluation metric used with the objective 'binary:logistic' was changed from 'error' to 'logloss'. Explicitly set eval_metric if you'd like to restore the old behavior.\n",
      "[10:45:05] WARNING: C:/Users/Administrator/workspace/xgboost-win64_release_1.5.1/src/learner.cc:1115: Starting in XGBoost 1.3.0, the default evaluation metric used with the objective 'binary:logistic' was changed from 'error' to 'logloss'. Explicitly set eval_metric if you'd like to restore the old behavior.\n",
      "[10:45:08] WARNING: C:/Users/Administrator/workspace/xgboost-win64_release_1.5.1/src/learner.cc:1115: Starting in XGBoost 1.3.0, the default evaluation metric used with the objective 'binary:logistic' was changed from 'error' to 'logloss'. Explicitly set eval_metric if you'd like to restore the old behavior.\n"
     ]
    },
    {
     "name": "stdout",
     "output_type": "stream",
     "text": [
      "[10:45:12] WARNING: C:/Users/Administrator/workspace/xgboost-win64_release_1.5.1/src/learner.cc:1115: Starting in XGBoost 1.3.0, the default evaluation metric used with the objective 'binary:logistic' was changed from 'error' to 'logloss'. Explicitly set eval_metric if you'd like to restore the old behavior.\n",
      "[10:45:15] WARNING: C:/Users/Administrator/workspace/xgboost-win64_release_1.5.1/src/learner.cc:1115: Starting in XGBoost 1.3.0, the default evaluation metric used with the objective 'binary:logistic' was changed from 'error' to 'logloss'. Explicitly set eval_metric if you'd like to restore the old behavior.\n",
      "[10:45:19] WARNING: C:/Users/Administrator/workspace/xgboost-win64_release_1.5.1/src/learner.cc:1115: Starting in XGBoost 1.3.0, the default evaluation metric used with the objective 'binary:logistic' was changed from 'error' to 'logloss'. Explicitly set eval_metric if you'd like to restore the old behavior.\n",
      "[10:45:22] WARNING: C:/Users/Administrator/workspace/xgboost-win64_release_1.5.1/src/learner.cc:1115: Starting in XGBoost 1.3.0, the default evaluation metric used with the objective 'binary:logistic' was changed from 'error' to 'logloss'. Explicitly set eval_metric if you'd like to restore the old behavior.\n",
      "[10:45:26] WARNING: C:/Users/Administrator/workspace/xgboost-win64_release_1.5.1/src/learner.cc:1115: Starting in XGBoost 1.3.0, the default evaluation metric used with the objective 'binary:logistic' was changed from 'error' to 'logloss'. Explicitly set eval_metric if you'd like to restore the old behavior.\n",
      "[10:45:29] WARNING: C:/Users/Administrator/workspace/xgboost-win64_release_1.5.1/src/learner.cc:1115: Starting in XGBoost 1.3.0, the default evaluation metric used with the objective 'binary:logistic' was changed from 'error' to 'logloss'. Explicitly set eval_metric if you'd like to restore the old behavior.\n",
      "[10:45:33] WARNING: C:/Users/Administrator/workspace/xgboost-win64_release_1.5.1/src/learner.cc:1115: Starting in XGBoost 1.3.0, the default evaluation metric used with the objective 'binary:logistic' was changed from 'error' to 'logloss'. Explicitly set eval_metric if you'd like to restore the old behavior.\n",
      "[10:45:36] WARNING: C:/Users/Administrator/workspace/xgboost-win64_release_1.5.1/src/learner.cc:1115: Starting in XGBoost 1.3.0, the default evaluation metric used with the objective 'binary:logistic' was changed from 'error' to 'logloss'. Explicitly set eval_metric if you'd like to restore the old behavior.\n",
      "[10:45:39] WARNING: C:/Users/Administrator/workspace/xgboost-win64_release_1.5.1/src/learner.cc:1115: Starting in XGBoost 1.3.0, the default evaluation metric used with the objective 'binary:logistic' was changed from 'error' to 'logloss'. Explicitly set eval_metric if you'd like to restore the old behavior.\n",
      "[10:45:43] WARNING: C:/Users/Administrator/workspace/xgboost-win64_release_1.5.1/src/learner.cc:1115: Starting in XGBoost 1.3.0, the default evaluation metric used with the objective 'binary:logistic' was changed from 'error' to 'logloss'. Explicitly set eval_metric if you'd like to restore the old behavior.\n",
      "[10:45:46] WARNING: C:/Users/Administrator/workspace/xgboost-win64_release_1.5.1/src/learner.cc:1115: Starting in XGBoost 1.3.0, the default evaluation metric used with the objective 'binary:logistic' was changed from 'error' to 'logloss'. Explicitly set eval_metric if you'd like to restore the old behavior.\n",
      "[10:45:49] WARNING: C:/Users/Administrator/workspace/xgboost-win64_release_1.5.1/src/learner.cc:1115: Starting in XGBoost 1.3.0, the default evaluation metric used with the objective 'binary:logistic' was changed from 'error' to 'logloss'. Explicitly set eval_metric if you'd like to restore the old behavior.\n",
      "[10:45:53] WARNING: C:/Users/Administrator/workspace/xgboost-win64_release_1.5.1/src/learner.cc:1115: Starting in XGBoost 1.3.0, the default evaluation metric used with the objective 'binary:logistic' was changed from 'error' to 'logloss'. Explicitly set eval_metric if you'd like to restore the old behavior.\n",
      "[10:45:56] WARNING: C:/Users/Administrator/workspace/xgboost-win64_release_1.5.1/src/learner.cc:1115: Starting in XGBoost 1.3.0, the default evaluation metric used with the objective 'binary:logistic' was changed from 'error' to 'logloss'. Explicitly set eval_metric if you'd like to restore the old behavior.\n",
      "[10:46:00] WARNING: C:/Users/Administrator/workspace/xgboost-win64_release_1.5.1/src/learner.cc:1115: Starting in XGBoost 1.3.0, the default evaluation metric used with the objective 'binary:logistic' was changed from 'error' to 'logloss'. Explicitly set eval_metric if you'd like to restore the old behavior.\n",
      "[10:46:03] WARNING: C:/Users/Administrator/workspace/xgboost-win64_release_1.5.1/src/learner.cc:1115: Starting in XGBoost 1.3.0, the default evaluation metric used with the objective 'binary:logistic' was changed from 'error' to 'logloss'. Explicitly set eval_metric if you'd like to restore the old behavior.\n",
      "[10:46:07] WARNING: C:/Users/Administrator/workspace/xgboost-win64_release_1.5.1/src/learner.cc:1115: Starting in XGBoost 1.3.0, the default evaluation metric used with the objective 'binary:logistic' was changed from 'error' to 'logloss'. Explicitly set eval_metric if you'd like to restore the old behavior.\n",
      "[10:46:10] WARNING: C:/Users/Administrator/workspace/xgboost-win64_release_1.5.1/src/learner.cc:1115: Starting in XGBoost 1.3.0, the default evaluation metric used with the objective 'binary:logistic' was changed from 'error' to 'logloss'. Explicitly set eval_metric if you'd like to restore the old behavior.\n",
      "[10:46:13] WARNING: C:/Users/Administrator/workspace/xgboost-win64_release_1.5.1/src/learner.cc:1115: Starting in XGBoost 1.3.0, the default evaluation metric used with the objective 'binary:logistic' was changed from 'error' to 'logloss'. Explicitly set eval_metric if you'd like to restore the old behavior.\n",
      "[10:46:17] WARNING: C:/Users/Administrator/workspace/xgboost-win64_release_1.5.1/src/learner.cc:1115: Starting in XGBoost 1.3.0, the default evaluation metric used with the objective 'binary:logistic' was changed from 'error' to 'logloss'. Explicitly set eval_metric if you'd like to restore the old behavior.\n",
      "[10:46:21] WARNING: C:/Users/Administrator/workspace/xgboost-win64_release_1.5.1/src/learner.cc:1115: Starting in XGBoost 1.3.0, the default evaluation metric used with the objective 'binary:logistic' was changed from 'error' to 'logloss'. Explicitly set eval_metric if you'd like to restore the old behavior.\n",
      "[10:46:24] WARNING: C:/Users/Administrator/workspace/xgboost-win64_release_1.5.1/src/learner.cc:1115: Starting in XGBoost 1.3.0, the default evaluation metric used with the objective 'binary:logistic' was changed from 'error' to 'logloss'. Explicitly set eval_metric if you'd like to restore the old behavior.\n",
      "[10:46:27] WARNING: C:/Users/Administrator/workspace/xgboost-win64_release_1.5.1/src/learner.cc:1115: Starting in XGBoost 1.3.0, the default evaluation metric used with the objective 'binary:logistic' was changed from 'error' to 'logloss'. Explicitly set eval_metric if you'd like to restore the old behavior.\n",
      "[10:46:31] WARNING: C:/Users/Administrator/workspace/xgboost-win64_release_1.5.1/src/learner.cc:1115: Starting in XGBoost 1.3.0, the default evaluation metric used with the objective 'binary:logistic' was changed from 'error' to 'logloss'. Explicitly set eval_metric if you'd like to restore the old behavior.\n",
      "[10:46:34] WARNING: C:/Users/Administrator/workspace/xgboost-win64_release_1.5.1/src/learner.cc:1115: Starting in XGBoost 1.3.0, the default evaluation metric used with the objective 'binary:logistic' was changed from 'error' to 'logloss'. Explicitly set eval_metric if you'd like to restore the old behavior.\n",
      "[10:46:38] WARNING: C:/Users/Administrator/workspace/xgboost-win64_release_1.5.1/src/learner.cc:1115: Starting in XGBoost 1.3.0, the default evaluation metric used with the objective 'binary:logistic' was changed from 'error' to 'logloss'. Explicitly set eval_metric if you'd like to restore the old behavior.\n",
      "[10:46:41] WARNING: C:/Users/Administrator/workspace/xgboost-win64_release_1.5.1/src/learner.cc:1115: Starting in XGBoost 1.3.0, the default evaluation metric used with the objective 'binary:logistic' was changed from 'error' to 'logloss'. Explicitly set eval_metric if you'd like to restore the old behavior.\n"
     ]
    },
    {
     "name": "stdout",
     "output_type": "stream",
     "text": [
      "[10:46:45] WARNING: C:/Users/Administrator/workspace/xgboost-win64_release_1.5.1/src/learner.cc:1115: Starting in XGBoost 1.3.0, the default evaluation metric used with the objective 'binary:logistic' was changed from 'error' to 'logloss'. Explicitly set eval_metric if you'd like to restore the old behavior.\n",
      "[10:46:48] WARNING: C:/Users/Administrator/workspace/xgboost-win64_release_1.5.1/src/learner.cc:1115: Starting in XGBoost 1.3.0, the default evaluation metric used with the objective 'binary:logistic' was changed from 'error' to 'logloss'. Explicitly set eval_metric if you'd like to restore the old behavior.\n",
      "[10:46:51] WARNING: C:/Users/Administrator/workspace/xgboost-win64_release_1.5.1/src/learner.cc:1115: Starting in XGBoost 1.3.0, the default evaluation metric used with the objective 'binary:logistic' was changed from 'error' to 'logloss'. Explicitly set eval_metric if you'd like to restore the old behavior.\n",
      "[10:46:55] WARNING: C:/Users/Administrator/workspace/xgboost-win64_release_1.5.1/src/learner.cc:1115: Starting in XGBoost 1.3.0, the default evaluation metric used with the objective 'binary:logistic' was changed from 'error' to 'logloss'. Explicitly set eval_metric if you'd like to restore the old behavior.\n",
      "[10:46:58] WARNING: C:/Users/Administrator/workspace/xgboost-win64_release_1.5.1/src/learner.cc:1115: Starting in XGBoost 1.3.0, the default evaluation metric used with the objective 'binary:logistic' was changed from 'error' to 'logloss'. Explicitly set eval_metric if you'd like to restore the old behavior.\n",
      "[10:47:02] WARNING: C:/Users/Administrator/workspace/xgboost-win64_release_1.5.1/src/learner.cc:1115: Starting in XGBoost 1.3.0, the default evaluation metric used with the objective 'binary:logistic' was changed from 'error' to 'logloss'. Explicitly set eval_metric if you'd like to restore the old behavior.\n",
      "[10:47:05] WARNING: C:/Users/Administrator/workspace/xgboost-win64_release_1.5.1/src/learner.cc:1115: Starting in XGBoost 1.3.0, the default evaluation metric used with the objective 'binary:logistic' was changed from 'error' to 'logloss'. Explicitly set eval_metric if you'd like to restore the old behavior.\n",
      "[10:47:08] WARNING: C:/Users/Administrator/workspace/xgboost-win64_release_1.5.1/src/learner.cc:1115: Starting in XGBoost 1.3.0, the default evaluation metric used with the objective 'binary:logistic' was changed from 'error' to 'logloss'. Explicitly set eval_metric if you'd like to restore the old behavior.\n",
      "[10:47:12] WARNING: C:/Users/Administrator/workspace/xgboost-win64_release_1.5.1/src/learner.cc:1115: Starting in XGBoost 1.3.0, the default evaluation metric used with the objective 'binary:logistic' was changed from 'error' to 'logloss'. Explicitly set eval_metric if you'd like to restore the old behavior.\n",
      "[10:47:15] WARNING: C:/Users/Administrator/workspace/xgboost-win64_release_1.5.1/src/learner.cc:1115: Starting in XGBoost 1.3.0, the default evaluation metric used with the objective 'binary:logistic' was changed from 'error' to 'logloss'. Explicitly set eval_metric if you'd like to restore the old behavior.\n",
      "[10:47:19] WARNING: C:/Users/Administrator/workspace/xgboost-win64_release_1.5.1/src/learner.cc:1115: Starting in XGBoost 1.3.0, the default evaluation metric used with the objective 'binary:logistic' was changed from 'error' to 'logloss'. Explicitly set eval_metric if you'd like to restore the old behavior.\n",
      "[10:47:23] WARNING: C:/Users/Administrator/workspace/xgboost-win64_release_1.5.1/src/learner.cc:1115: Starting in XGBoost 1.3.0, the default evaluation metric used with the objective 'binary:logistic' was changed from 'error' to 'logloss'. Explicitly set eval_metric if you'd like to restore the old behavior.\n",
      "[10:47:26] WARNING: C:/Users/Administrator/workspace/xgboost-win64_release_1.5.1/src/learner.cc:1115: Starting in XGBoost 1.3.0, the default evaluation metric used with the objective 'binary:logistic' was changed from 'error' to 'logloss'. Explicitly set eval_metric if you'd like to restore the old behavior.\n",
      "[10:47:30] WARNING: C:/Users/Administrator/workspace/xgboost-win64_release_1.5.1/src/learner.cc:1115: Starting in XGBoost 1.3.0, the default evaluation metric used with the objective 'binary:logistic' was changed from 'error' to 'logloss'. Explicitly set eval_metric if you'd like to restore the old behavior.\n",
      "[10:47:33] WARNING: C:/Users/Administrator/workspace/xgboost-win64_release_1.5.1/src/learner.cc:1115: Starting in XGBoost 1.3.0, the default evaluation metric used with the objective 'binary:logistic' was changed from 'error' to 'logloss'. Explicitly set eval_metric if you'd like to restore the old behavior.\n",
      "[10:47:36] WARNING: C:/Users/Administrator/workspace/xgboost-win64_release_1.5.1/src/learner.cc:1115: Starting in XGBoost 1.3.0, the default evaluation metric used with the objective 'binary:logistic' was changed from 'error' to 'logloss'. Explicitly set eval_metric if you'd like to restore the old behavior.\n",
      "[10:47:40] WARNING: C:/Users/Administrator/workspace/xgboost-win64_release_1.5.1/src/learner.cc:1115: Starting in XGBoost 1.3.0, the default evaluation metric used with the objective 'binary:logistic' was changed from 'error' to 'logloss'. Explicitly set eval_metric if you'd like to restore the old behavior.\n",
      "[10:47:43] WARNING: C:/Users/Administrator/workspace/xgboost-win64_release_1.5.1/src/learner.cc:1115: Starting in XGBoost 1.3.0, the default evaluation metric used with the objective 'binary:logistic' was changed from 'error' to 'logloss'. Explicitly set eval_metric if you'd like to restore the old behavior.\n",
      "[10:47:47] WARNING: C:/Users/Administrator/workspace/xgboost-win64_release_1.5.1/src/learner.cc:1115: Starting in XGBoost 1.3.0, the default evaluation metric used with the objective 'binary:logistic' was changed from 'error' to 'logloss'. Explicitly set eval_metric if you'd like to restore the old behavior.\n",
      "[10:47:50] WARNING: C:/Users/Administrator/workspace/xgboost-win64_release_1.5.1/src/learner.cc:1115: Starting in XGBoost 1.3.0, the default evaluation metric used with the objective 'binary:logistic' was changed from 'error' to 'logloss'. Explicitly set eval_metric if you'd like to restore the old behavior.\n",
      "[10:47:54] WARNING: C:/Users/Administrator/workspace/xgboost-win64_release_1.5.1/src/learner.cc:1115: Starting in XGBoost 1.3.0, the default evaluation metric used with the objective 'binary:logistic' was changed from 'error' to 'logloss'. Explicitly set eval_metric if you'd like to restore the old behavior.\n",
      "[10:47:57] WARNING: C:/Users/Administrator/workspace/xgboost-win64_release_1.5.1/src/learner.cc:1115: Starting in XGBoost 1.3.0, the default evaluation metric used with the objective 'binary:logistic' was changed from 'error' to 'logloss'. Explicitly set eval_metric if you'd like to restore the old behavior.\n",
      "[10:48:01] WARNING: C:/Users/Administrator/workspace/xgboost-win64_release_1.5.1/src/learner.cc:1115: Starting in XGBoost 1.3.0, the default evaluation metric used with the objective 'binary:logistic' was changed from 'error' to 'logloss'. Explicitly set eval_metric if you'd like to restore the old behavior.\n",
      "[10:48:04] WARNING: C:/Users/Administrator/workspace/xgboost-win64_release_1.5.1/src/learner.cc:1115: Starting in XGBoost 1.3.0, the default evaluation metric used with the objective 'binary:logistic' was changed from 'error' to 'logloss'. Explicitly set eval_metric if you'd like to restore the old behavior.\n",
      "[10:48:08] WARNING: C:/Users/Administrator/workspace/xgboost-win64_release_1.5.1/src/learner.cc:1115: Starting in XGBoost 1.3.0, the default evaluation metric used with the objective 'binary:logistic' was changed from 'error' to 'logloss'. Explicitly set eval_metric if you'd like to restore the old behavior.\n",
      "[10:48:11] WARNING: C:/Users/Administrator/workspace/xgboost-win64_release_1.5.1/src/learner.cc:1115: Starting in XGBoost 1.3.0, the default evaluation metric used with the objective 'binary:logistic' was changed from 'error' to 'logloss'. Explicitly set eval_metric if you'd like to restore the old behavior.\n",
      "[10:48:14] WARNING: C:/Users/Administrator/workspace/xgboost-win64_release_1.5.1/src/learner.cc:1115: Starting in XGBoost 1.3.0, the default evaluation metric used with the objective 'binary:logistic' was changed from 'error' to 'logloss'. Explicitly set eval_metric if you'd like to restore the old behavior.\n"
     ]
    },
    {
     "name": "stdout",
     "output_type": "stream",
     "text": [
      "[10:48:18] WARNING: C:/Users/Administrator/workspace/xgboost-win64_release_1.5.1/src/learner.cc:1115: Starting in XGBoost 1.3.0, the default evaluation metric used with the objective 'binary:logistic' was changed from 'error' to 'logloss'. Explicitly set eval_metric if you'd like to restore the old behavior.\n",
      "[10:48:21] WARNING: C:/Users/Administrator/workspace/xgboost-win64_release_1.5.1/src/learner.cc:1115: Starting in XGBoost 1.3.0, the default evaluation metric used with the objective 'binary:logistic' was changed from 'error' to 'logloss'. Explicitly set eval_metric if you'd like to restore the old behavior.\n",
      "[10:48:25] WARNING: C:/Users/Administrator/workspace/xgboost-win64_release_1.5.1/src/learner.cc:1115: Starting in XGBoost 1.3.0, the default evaluation metric used with the objective 'binary:logistic' was changed from 'error' to 'logloss'. Explicitly set eval_metric if you'd like to restore the old behavior.\n",
      "[10:48:28] WARNING: C:/Users/Administrator/workspace/xgboost-win64_release_1.5.1/src/learner.cc:1115: Starting in XGBoost 1.3.0, the default evaluation metric used with the objective 'binary:logistic' was changed from 'error' to 'logloss'. Explicitly set eval_metric if you'd like to restore the old behavior.\n",
      "[10:48:32] WARNING: C:/Users/Administrator/workspace/xgboost-win64_release_1.5.1/src/learner.cc:1115: Starting in XGBoost 1.3.0, the default evaluation metric used with the objective 'binary:logistic' was changed from 'error' to 'logloss'. Explicitly set eval_metric if you'd like to restore the old behavior.\n",
      "[10:48:35] WARNING: C:/Users/Administrator/workspace/xgboost-win64_release_1.5.1/src/learner.cc:1115: Starting in XGBoost 1.3.0, the default evaluation metric used with the objective 'binary:logistic' was changed from 'error' to 'logloss'. Explicitly set eval_metric if you'd like to restore the old behavior.\n",
      "[10:48:39] WARNING: C:/Users/Administrator/workspace/xgboost-win64_release_1.5.1/src/learner.cc:1115: Starting in XGBoost 1.3.0, the default evaluation metric used with the objective 'binary:logistic' was changed from 'error' to 'logloss'. Explicitly set eval_metric if you'd like to restore the old behavior.\n",
      "[10:48:42] WARNING: C:/Users/Administrator/workspace/xgboost-win64_release_1.5.1/src/learner.cc:1115: Starting in XGBoost 1.3.0, the default evaluation metric used with the objective 'binary:logistic' was changed from 'error' to 'logloss'. Explicitly set eval_metric if you'd like to restore the old behavior.\n",
      "[10:48:45] WARNING: C:/Users/Administrator/workspace/xgboost-win64_release_1.5.1/src/learner.cc:1115: Starting in XGBoost 1.3.0, the default evaluation metric used with the objective 'binary:logistic' was changed from 'error' to 'logloss'. Explicitly set eval_metric if you'd like to restore the old behavior.\n",
      "[10:48:49] WARNING: C:/Users/Administrator/workspace/xgboost-win64_release_1.5.1/src/learner.cc:1115: Starting in XGBoost 1.3.0, the default evaluation metric used with the objective 'binary:logistic' was changed from 'error' to 'logloss'. Explicitly set eval_metric if you'd like to restore the old behavior.\n",
      "[10:48:52] WARNING: C:/Users/Administrator/workspace/xgboost-win64_release_1.5.1/src/learner.cc:1115: Starting in XGBoost 1.3.0, the default evaluation metric used with the objective 'binary:logistic' was changed from 'error' to 'logloss'. Explicitly set eval_metric if you'd like to restore the old behavior.\n",
      "[10:48:56] WARNING: C:/Users/Administrator/workspace/xgboost-win64_release_1.5.1/src/learner.cc:1115: Starting in XGBoost 1.3.0, the default evaluation metric used with the objective 'binary:logistic' was changed from 'error' to 'logloss'. Explicitly set eval_metric if you'd like to restore the old behavior.\n",
      "[10:48:59] WARNING: C:/Users/Administrator/workspace/xgboost-win64_release_1.5.1/src/learner.cc:1115: Starting in XGBoost 1.3.0, the default evaluation metric used with the objective 'binary:logistic' was changed from 'error' to 'logloss'. Explicitly set eval_metric if you'd like to restore the old behavior.\n",
      "[10:49:03] WARNING: C:/Users/Administrator/workspace/xgboost-win64_release_1.5.1/src/learner.cc:1115: Starting in XGBoost 1.3.0, the default evaluation metric used with the objective 'binary:logistic' was changed from 'error' to 'logloss'. Explicitly set eval_metric if you'd like to restore the old behavior.\n",
      "[10:49:06] WARNING: C:/Users/Administrator/workspace/xgboost-win64_release_1.5.1/src/learner.cc:1115: Starting in XGBoost 1.3.0, the default evaluation metric used with the objective 'binary:logistic' was changed from 'error' to 'logloss'. Explicitly set eval_metric if you'd like to restore the old behavior.\n",
      "[10:49:09] WARNING: C:/Users/Administrator/workspace/xgboost-win64_release_1.5.1/src/learner.cc:1115: Starting in XGBoost 1.3.0, the default evaluation metric used with the objective 'binary:logistic' was changed from 'error' to 'logloss'. Explicitly set eval_metric if you'd like to restore the old behavior.\n",
      "[10:49:13] WARNING: C:/Users/Administrator/workspace/xgboost-win64_release_1.5.1/src/learner.cc:1115: Starting in XGBoost 1.3.0, the default evaluation metric used with the objective 'binary:logistic' was changed from 'error' to 'logloss'. Explicitly set eval_metric if you'd like to restore the old behavior.\n",
      "[10:49:16] WARNING: C:/Users/Administrator/workspace/xgboost-win64_release_1.5.1/src/learner.cc:1115: Starting in XGBoost 1.3.0, the default evaluation metric used with the objective 'binary:logistic' was changed from 'error' to 'logloss'. Explicitly set eval_metric if you'd like to restore the old behavior.\n",
      "[10:49:20] WARNING: C:/Users/Administrator/workspace/xgboost-win64_release_1.5.1/src/learner.cc:1115: Starting in XGBoost 1.3.0, the default evaluation metric used with the objective 'binary:logistic' was changed from 'error' to 'logloss'. Explicitly set eval_metric if you'd like to restore the old behavior.\n"
     ]
    }
   ],
   "source": [
    "# define the validation scheme\n",
    "cv = KFold(n_splits=4, shuffle=False)\n",
    "scorer = make_scorer(mean_absolute_error, greater_is_better=False)\n",
    "\n",
    "# define the binary target and the features\n",
    "target = \"Target\"\n",
    "features = train_data.loc[:, 'CPM_segment_0300' : 'CR_open_reg_segment_'].columns\n",
    "dataset = Dataset(df=train_data, target=\"Target\", features=features)\n",
    "# define the validation scheme and scorer. The default model is LightGBM\n",
    "lofo_imp = LOFOImportance(dataset, scoring=scorer, model=model, cv=cv)\n",
    "\n",
    "# get the mean and standard deviation of the importances in pandas format\n",
    "importance_df = lofo_imp.get_importance()\n",
    "\n",
    "# plot the means and standard deviations of the importances\n",
    "# plot_importance(importance_df)"
   ]
  },
  {
   "cell_type": "code",
   "execution_count": 39,
   "id": "8d276f6f",
   "metadata": {},
   "outputs": [
    {
     "name": "stdout",
     "output_type": "stream",
     "text": [
      "Fitting 3 folds for each of 27 candidates, totalling 81 fits\n"
     ]
    },
    {
     "name": "stderr",
     "output_type": "stream",
     "text": [
      "C:\\Users\\u1-510\\Anaconda3\\lib\\site-packages\\xgboost\\sklearn.py:1224: UserWarning: The use of label encoder in XGBClassifier is deprecated and will be removed in a future release. To remove this warning, do the following: 1) Pass option use_label_encoder=False when constructing XGBClassifier object; and 2) Encode your labels (y) as integers starting with 0, i.e. 0, 1, 2, ..., [num_class - 1].\n",
      "  warnings.warn(label_encoder_deprecation_msg, UserWarning)\n"
     ]
    },
    {
     "name": "stdout",
     "output_type": "stream",
     "text": [
      "[11:04:18] WARNING: C:/Users/Administrator/workspace/xgboost-win64_release_1.5.1/src/learner.cc:1115: Starting in XGBoost 1.3.0, the default evaluation metric used with the objective 'binary:logistic' was changed from 'error' to 'logloss'. Explicitly set eval_metric if you'd like to restore the old behavior.\n",
      "\n",
      " Best estimator:\n",
      "XGBClassifier(base_score=0.5, booster='gbtree', colsample_bylevel=1,\n",
      "              colsample_bynode=1, colsample_bytree=1, enable_categorical=False,\n",
      "              gamma=0, gpu_id=-1, importance_type=None,\n",
      "              interaction_constraints='', learning_rate=0.15, max_delta_step=0,\n",
      "              max_depth=8, min_child_weight=1, missing=nan,\n",
      "              monotone_constraints='()', n_estimators=1000, n_jobs=6,\n",
      "              num_parallel_tree=1, predictor='auto', random_state=0,\n",
      "              reg_alpha=0, reg_lambda=1, scale_pos_weight=1, subsample=1,\n",
      "              tree_method='exact', validate_parameters=1, verbosity=None)\n",
      "\n",
      " Best score:\n",
      "-0.2777124503149371\n",
      "\n",
      " Best parameters:\n",
      "{'learning_rate': 0.15, 'max_depth': 8, 'n_estimators': 1000}\n"
     ]
    }
   ],
   "source": [
    "# A parameter grid for XGBoost\n",
    "params = {\n",
    "    'n_estimators': [400, 500, 1000],\n",
    "    'learning_rate': [0.05, 0.1, 0.15],\n",
    "    'max_depth': [4, 6, 8]\n",
    "}\n",
    "\n",
    "# define the validation scheme\n",
    "cv = KFold(n_splits=3, shuffle=True, random_state=None)\n",
    "scorer = make_scorer(f1_score, greater_is_better=True)\n",
    "\n",
    "grid = GridSearchCV(estimator=model, \n",
    "                    param_grid=params, \n",
    "                    scoring=scorer, \n",
    "                    n_jobs=-1, \n",
    "                    cv=cv, \n",
    "                    verbose=1 )\n",
    "grid.fit(X, y)\n",
    "print('\\n Best estimator:')\n",
    "print(grid.best_estimator_)\n",
    "print('\\n Best score:')\n",
    "print(grid.best_score_ * 2 - 1)\n",
    "print('\\n Best parameters:')\n",
    "print(grid.best_params_)"
   ]
  },
  {
   "cell_type": "code",
   "execution_count": 40,
   "id": "fc6692c7",
   "metadata": {},
   "outputs": [],
   "source": [
    "def plot_confusion_matrix(cm, classes,\n",
    "                          normalize=False,\n",
    "                          title='Confusion matrix',\n",
    "                          cmap=plt.cm.Blues):\n",
    "    if normalize:\n",
    "        cm = cm.astype('float') / cm.sum(axis=1)[:, np.newaxis]\n",
    "        print(\"Normalized confusion matrix\")\n",
    "    else:\n",
    "        print('Confusion matrix, without normalization')\n",
    "\n",
    "    print(cm)\n",
    "\n",
    "    plt.imshow(cm, interpolation='nearest', cmap=cmap)\n",
    "    plt.title(title)\n",
    "    plt.colorbar()\n",
    "    tick_marks = np.arange(len(classes))\n",
    "    plt.xticks(tick_marks, classes, rotation=45)\n",
    "    plt.yticks(tick_marks, classes)\n",
    "\n",
    "    fmt = '.2f' if normalize else 'd'\n",
    "    thresh = cm.max() / 2.\n",
    "    for i, j in itertools.product(range(cm.shape[0]), range(cm.shape[1])):\n",
    "        plt.text(j, i, format(cm[i, j], fmt),\n",
    "                 horizontalalignment=\"center\",\n",
    "                 color=\"white\" if cm[i, j] > thresh else \"black\")\n",
    "\n",
    "    plt.tight_layout()\n",
    "    plt.ylabel('True label')\n",
    "    plt.xlabel('Predicted label')"
   ]
  },
  {
   "cell_type": "code",
   "execution_count": 41,
   "id": "bbdc11c3",
   "metadata": {},
   "outputs": [
    {
     "name": "stdout",
     "output_type": "stream",
     "text": [
      "[11:05:18] WARNING: C:/Users/Administrator/workspace/xgboost-win64_release_1.5.1/src/learner.cc:1115: Starting in XGBoost 1.3.0, the default evaluation metric used with the objective 'binary:logistic' was changed from 'error' to 'logloss'. Explicitly set eval_metric if you'd like to restore the old behavior.\n",
      "Confusion matrix, without normalization\n",
      "[[12419     0]\n",
      " [    0  1261]]\n",
      "Normalized confusion matrix\n",
      "[[1. 0.]\n",
      " [0. 1.]]\n"
     ]
    },
    {
     "data": {
      "image/png": "[encoded data removed]",
      "text/plain": [
       "<Figure size 432x288 with 2 Axes>"
      ]
     },
     "metadata": {
      "needs_background": "light"
     },
     "output_type": "display_data"
    },
    {
     "data": {
      "image/png": "[encoded data removed]",
      "text/plain": [
       "<Figure size 432x288 with 2 Axes>"
      ]
     },
     "metadata": {
      "needs_background": "light"
     },
     "output_type": "display_data"
    }
   ],
   "source": [
    "new_model = XGBClassifier()\n",
    "new_model.set_params(**grid.best_params_)\n",
    "\n",
    "new_model.fit(X_train, y_train)\n",
    "\n",
    "y_pred = grid.best_estimator_.predict(X)\n",
    "cm = confusion_matrix(train_data['Target'], y_pred)\n",
    "np.set_printoptions(precision=2)\n",
    "\n",
    "class_names = ['0', '1']\n",
    "# Plot non-normalized confusion matrix\n",
    "plt.figure()\n",
    "plot_confusion_matrix(cm, classes=class_names,\n",
    "                      title='Confusion matrix')\n",
    "\n",
    "# Plot normalized confusion matrix\n",
    "plt.figure()\n",
    "plot_confusion_matrix(cm, classes=class_names, normalize=True, \n",
    "                      title='Normalized confusion matrix')"
   ]
  },
  {
   "cell_type": "code",
   "execution_count": 42,
   "id": "6b5f5141",
   "metadata": {},
   "outputs": [
    {
     "name": "stderr",
     "output_type": "stream",
     "text": [
      "\u001b[32m[I 2022-01-26 11:05:39,464]\u001b[0m A new study created in memory with name: no-name-d48e0254-3034-4a36-8de2-8c7d19d0897b\u001b[0m\n",
      "\u001b[32m[I 2022-01-26 11:05:39,508]\u001b[0m Trial 0 finished with value: 0.0 and parameters: {'booster': 'gblinear', 'learning_rate': 0.011424072264122922, 'max_depth': 6, 'subsample': 0.6842228665320398, 'colsample_bytree': 0.616744947707027}. Best is trial 0 with value: 0.0.\u001b[0m\n",
      "\u001b[32m[I 2022-01-26 11:05:39,587]\u001b[0m Trial 1 finished with value: 0.16777041942604856 and parameters: {'booster': 'dart', 'learning_rate': 0.023521843629110407, 'max_depth': 9, 'subsample': 0.287351220447295, 'colsample_bytree': 0.3307567133015624}. Best is trial 1 with value: 0.16777041942604856.\u001b[0m\n",
      "\u001b[32m[I 2022-01-26 11:05:39,663]\u001b[0m Trial 2 finished with value: 0.22964509394572027 and parameters: {'booster': 'gbtree', 'learning_rate': 0.02813783423177772, 'max_depth': 8, 'subsample': 0.36794925220343844, 'colsample_bytree': 0.6898262636772899}. Best is trial 2 with value: 0.22964509394572027.\u001b[0m\n"
     ]
    },
    {
     "name": "stdout",
     "output_type": "stream",
     "text": [
      "[11:05:39] WARNING: C:/Users/Administrator/workspace/xgboost-win64_release_1.5.1/src/learner.cc:576: \n",
      "Parameters: { \"colsample_bytree\", \"max_depth\", \"subsample\" } might not be used.\n",
      "\n",
      "  This could be a false alarm, with some parameters getting used by language bindings but\n",
      "  then being mistakenly passed down to XGBoost core, or some parameter actually being used\n",
      "  but getting flagged wrongly here. Please open an issue if you find any such cases.\n",
      "\n",
      "\n"
     ]
    },
    {
     "name": "stderr",
     "output_type": "stream",
     "text": [
      "\u001b[32m[I 2022-01-26 11:05:39,765]\u001b[0m Trial 3 finished with value: 0.30654205607476637 and parameters: {'booster': 'gbtree', 'learning_rate': 0.01715712084878556, 'max_depth': 8, 'subsample': 0.6852996947914872, 'colsample_bytree': 0.9505483952652417}. Best is trial 3 with value: 0.30654205607476637.\u001b[0m\n",
      "\u001b[32m[I 2022-01-26 11:05:39,796]\u001b[0m Trial 4 finished with value: 0.0 and parameters: {'booster': 'gbtree', 'learning_rate': 0.011983399321254288, 'max_depth': 4, 'subsample': 0.1847157756989567, 'colsample_bytree': 0.28981146536631275}. Best is trial 3 with value: 0.30654205607476637.\u001b[0m\n",
      "\u001b[32m[I 2022-01-26 11:05:39,841]\u001b[0m Trial 5 finished with value: 0.0 and parameters: {'booster': 'gbtree', 'learning_rate': 0.015490511562557504, 'max_depth': 3, 'subsample': 0.7376284935678143, 'colsample_bytree': 0.7584129288094412}. Best is trial 3 with value: 0.30654205607476637.\u001b[0m\n",
      "\u001b[32m[I 2022-01-26 11:05:39,901]\u001b[0m Trial 6 finished with value: 0.0 and parameters: {'booster': 'dart', 'learning_rate': 0.06979154779471769, 'max_depth': 11, 'subsample': 0.5354757365755594, 'colsample_bytree': 0.04957496565687303}. Best is trial 3 with value: 0.30654205607476637.\u001b[0m\n",
      "\u001b[32m[I 2022-01-26 11:05:39,925]\u001b[0m Trial 7 finished with value: 0.0 and parameters: {'booster': 'gblinear', 'learning_rate': 0.061568646011732356, 'max_depth': 5, 'subsample': 0.05294649683758401, 'colsample_bytree': 0.9931794903555188}. Best is trial 3 with value: 0.30654205607476637.\u001b[0m\n",
      "\u001b[32m[I 2022-01-26 11:05:39,960]\u001b[0m Trial 8 finished with value: 0.0 and parameters: {'booster': 'gbtree', 'learning_rate': 0.09823209023959399, 'max_depth': 3, 'subsample': 0.28525217176816164, 'colsample_bytree': 0.5363989862161275}. Best is trial 3 with value: 0.30654205607476637.\u001b[0m\n",
      "\u001b[32m[I 2022-01-26 11:05:40,000]\u001b[0m Trial 9 finished with value: 0.0 and parameters: {'booster': 'gbtree', 'learning_rate': 0.09726471485254132, 'max_depth': 3, 'subsample': 0.9481114453984804, 'colsample_bytree': 0.7843603520711764}. Best is trial 3 with value: 0.30654205607476637.\u001b[0m\n"
     ]
    },
    {
     "name": "stdout",
     "output_type": "stream",
     "text": [
      "[11:05:39] WARNING: C:/Users/Administrator/workspace/xgboost-win64_release_1.5.1/src/learner.cc:576: \n",
      "Parameters: { \"colsample_bytree\", \"max_depth\", \"subsample\" } might not be used.\n",
      "\n",
      "  This could be a false alarm, with some parameters getting used by language bindings but\n",
      "  then being mistakenly passed down to XGBoost core, or some parameter actually being used\n",
      "  but getting flagged wrongly here. Please open an issue if you find any such cases.\n",
      "\n",
      "\n"
     ]
    },
    {
     "name": "stderr",
     "output_type": "stream",
     "text": [
      "\u001b[32m[I 2022-01-26 11:05:40,188]\u001b[0m Trial 10 finished with value: 0.33554817275747506 and parameters: {'booster': 'dart', 'learning_rate': 0.01975597630887862, 'max_depth': 10, 'subsample': 0.9805000586143136, 'colsample_bytree': 0.9822151555662886}. Best is trial 10 with value: 0.33554817275747506.\u001b[0m\n",
      "\u001b[32m[I 2022-01-26 11:05:40,346]\u001b[0m Trial 11 finished with value: 0.3076923076923077 and parameters: {'booster': 'dart', 'learning_rate': 0.019863155002992978, 'max_depth': 10, 'subsample': 0.9769144868072813, 'colsample_bytree': 0.9725643786467553}. Best is trial 10 with value: 0.33554817275747506.\u001b[0m\n",
      "\u001b[32m[I 2022-01-26 11:05:40,517]\u001b[0m Trial 12 finished with value: 0.33722871452420705 and parameters: {'booster': 'dart', 'learning_rate': 0.0400817945309638, 'max_depth': 11, 'subsample': 0.9992317559974925, 'colsample_bytree': 0.8725514110088023}. Best is trial 12 with value: 0.33722871452420705.\u001b[0m\n",
      "\u001b[32m[I 2022-01-26 11:05:40,677]\u001b[0m Trial 13 finished with value: 0.31261101243339257 and parameters: {'booster': 'dart', 'learning_rate': 0.03916952925883841, 'max_depth': 11, 'subsample': 0.8393838776669196, 'colsample_bytree': 0.836512406980914}. Best is trial 12 with value: 0.33722871452420705.\u001b[0m\n",
      "\u001b[32m[I 2022-01-26 11:05:40,830]\u001b[0m Trial 14 finished with value: 0.32280701754385965 and parameters: {'booster': 'dart', 'learning_rate': 0.038853466150721244, 'max_depth': 10, 'subsample': 0.8797613254198309, 'colsample_bytree': 0.8571088702577585}. Best is trial 12 with value: 0.33722871452420705.\u001b[0m\n",
      "\u001b[32m[I 2022-01-26 11:05:40,927]\u001b[0m Trial 15 finished with value: 0.2 and parameters: {'booster': 'dart', 'learning_rate': 0.037991093508751496, 'max_depth': 9, 'subsample': 0.5021607876023568, 'colsample_bytree': 0.3990564239143468}. Best is trial 12 with value: 0.33722871452420705.\u001b[0m\n",
      "\u001b[32m[I 2022-01-26 11:05:41,027]\u001b[0m Trial 16 finished with value: 0.19287211740041926 and parameters: {'booster': 'dart', 'learning_rate': 0.05517181873210088, 'max_depth': 7, 'subsample': 0.9999878536606528, 'colsample_bytree': 0.6335837166928713}. Best is trial 12 with value: 0.33722871452420705.\u001b[0m\n",
      "\u001b[32m[I 2022-01-26 11:05:41,238]\u001b[0m Trial 17 finished with value: 0.31064572425828973 and parameters: {'booster': 'dart', 'learning_rate': 0.026747148869034548, 'max_depth': 11, 'subsample': 0.7996980211070406, 'colsample_bytree': 0.8916729375497241}. Best is trial 12 with value: 0.33722871452420705.\u001b[0m\n",
      "\u001b[32m[I 2022-01-26 11:05:41,271]\u001b[0m Trial 18 finished with value: 0.0 and parameters: {'booster': 'gblinear', 'learning_rate': 0.03361184329678208, 'max_depth': 10, 'subsample': 0.6290042791715822, 'colsample_bytree': 0.045975421958952545}. Best is trial 12 with value: 0.33722871452420705.\u001b[0m\n",
      "\u001b[32m[I 2022-01-26 11:05:41,408]\u001b[0m Trial 19 finished with value: 0.27560521415270023 and parameters: {'booster': 'dart', 'learning_rate': 0.049691454668115816, 'max_depth': 9, 'subsample': 0.8878460858144905, 'colsample_bytree': 0.7471008742296145}. Best is trial 12 with value: 0.33722871452420705.\u001b[0m\n"
     ]
    },
    {
     "name": "stdout",
     "output_type": "stream",
     "text": [
      "[11:05:41] WARNING: C:/Users/Administrator/workspace/xgboost-win64_release_1.5.1/src/learner.cc:576: \n",
      "Parameters: { \"colsample_bytree\", \"max_depth\", \"subsample\" } might not be used.\n",
      "\n",
      "  This could be a false alarm, with some parameters getting used by language bindings but\n",
      "  then being mistakenly passed down to XGBoost core, or some parameter actually being used\n",
      "  but getting flagged wrongly here. Please open an issue if you find any such cases.\n",
      "\n",
      "\n"
     ]
    },
    {
     "name": "stderr",
     "output_type": "stream",
     "text": [
      "\u001b[32m[I 2022-01-26 11:05:41,500]\u001b[0m Trial 20 finished with value: 0.17078651685393256 and parameters: {'booster': 'dart', 'learning_rate': 0.021560448645949165, 'max_depth': 7, 'subsample': 0.7896495467363432, 'colsample_bytree': 0.4675921624423541}. Best is trial 12 with value: 0.33722871452420705.\u001b[0m\n",
      "\u001b[32m[I 2022-01-26 11:05:41,668]\u001b[0m Trial 21 finished with value: 0.3339191564147628 and parameters: {'booster': 'dart', 'learning_rate': 0.04504021397968185, 'max_depth': 10, 'subsample': 0.9016816229889977, 'colsample_bytree': 0.8701047569343918}. Best is trial 12 with value: 0.33722871452420705.\u001b[0m\n",
      "\u001b[32m[I 2022-01-26 11:05:41,842]\u001b[0m Trial 22 finished with value: 0.28371278458844135 and parameters: {'booster': 'dart', 'learning_rate': 0.04958688101634371, 'max_depth': 10, 'subsample': 0.9015499229997285, 'colsample_bytree': 0.9328587066997286}. Best is trial 12 with value: 0.33722871452420705.\u001b[0m\n",
      "\u001b[32m[I 2022-01-26 11:05:42,016]\u001b[0m Trial 23 finished with value: 0.3299319727891156 and parameters: {'booster': 'dart', 'learning_rate': 0.07730819939964853, 'max_depth': 11, 'subsample': 0.9975019908949166, 'colsample_bytree': 0.8640244056671107}. Best is trial 12 with value: 0.33722871452420705.\u001b[0m\n",
      "\u001b[32m[I 2022-01-26 11:05:42,132]\u001b[0m Trial 24 finished with value: 0.26487523992322454 and parameters: {'booster': 'dart', 'learning_rate': 0.04547731254291562, 'max_depth': 8, 'subsample': 0.803998774104143, 'colsample_bytree': 0.7863484092600421}. Best is trial 12 with value: 0.33722871452420705.\u001b[0m\n",
      "\u001b[32m[I 2022-01-26 11:05:42,171]\u001b[0m Trial 25 finished with value: 0.0 and parameters: {'booster': 'gblinear', 'learning_rate': 0.031926538931130254, 'max_depth': 9, 'subsample': 0.9050071137066599, 'colsample_bytree': 0.674769822036839}. Best is trial 12 with value: 0.33722871452420705.\u001b[0m\n",
      "\u001b[32m[I 2022-01-26 11:05:42,267]\u001b[0m Trial 26 finished with value: 0.005249343832020998 and parameters: {'booster': 'dart', 'learning_rate': 0.01478746475484735, 'max_depth': 10, 'subsample': 0.6344366699862811, 'colsample_bytree': 0.15636274557043484}. Best is trial 12 with value: 0.33722871452420705.\u001b[0m\n"
     ]
    },
    {
     "name": "stdout",
     "output_type": "stream",
     "text": [
      "[11:05:42] WARNING: C:/Users/Administrator/workspace/xgboost-win64_release_1.5.1/src/learner.cc:576: \n",
      "Parameters: { \"colsample_bytree\", \"max_depth\", \"subsample\" } might not be used.\n",
      "\n",
      "  This could be a false alarm, with some parameters getting used by language bindings but\n",
      "  then being mistakenly passed down to XGBoost core, or some parameter actually being used\n",
      "  but getting flagged wrongly here. Please open an issue if you find any such cases.\n",
      "\n",
      "\n"
     ]
    },
    {
     "name": "stderr",
     "output_type": "stream",
     "text": [
      "\u001b[32m[I 2022-01-26 11:05:42,448]\u001b[0m Trial 27 finished with value: 0.2830188679245283 and parameters: {'booster': 'dart', 'learning_rate': 0.02786485910171993, 'max_depth': 11, 'subsample': 0.9301749291733941, 'colsample_bytree': 0.5527591780306274}. Best is trial 12 with value: 0.33722871452420705.\u001b[0m\n",
      "\u001b[32m[I 2022-01-26 11:05:42,580]\u001b[0m Trial 28 finished with value: 0.2434077079107505 and parameters: {'booster': 'dart', 'learning_rate': 0.044141751740800705, 'max_depth': 6, 'subsample': 0.5866592325829929, 'colsample_bytree': 0.997053637084155}. Best is trial 12 with value: 0.33722871452420705.\u001b[0m\n",
      "\u001b[32m[I 2022-01-26 11:05:42,616]\u001b[0m Trial 29 finished with value: 0.0 and parameters: {'booster': 'gblinear', 'learning_rate': 0.010312779695166968, 'max_depth': 10, 'subsample': 0.7112526275167537, 'colsample_bytree': 0.8968107563055232}. Best is trial 12 with value: 0.33722871452420705.\u001b[0m\n",
      "\u001b[32m[I 2022-01-26 11:05:42,724]\u001b[0m Trial 30 finished with value: 0.16481069042316257 and parameters: {'booster': 'dart', 'learning_rate': 0.01847778847203959, 'max_depth': 6, 'subsample': 0.44079835087625613, 'colsample_bytree': 0.59858465985059}. Best is trial 12 with value: 0.33722871452420705.\u001b[0m\n"
     ]
    },
    {
     "name": "stdout",
     "output_type": "stream",
     "text": [
      "[11:05:42] WARNING: C:/Users/Administrator/workspace/xgboost-win64_release_1.5.1/src/learner.cc:576: \n",
      "Parameters: { \"colsample_bytree\", \"max_depth\", \"subsample\" } might not be used.\n",
      "\n",
      "  This could be a false alarm, with some parameters getting used by language bindings but\n",
      "  then being mistakenly passed down to XGBoost core, or some parameter actually being used\n",
      "  but getting flagged wrongly here. Please open an issue if you find any such cases.\n",
      "\n",
      "\n"
     ]
    },
    {
     "name": "stderr",
     "output_type": "stream",
     "text": [
      "\u001b[32m[I 2022-01-26 11:05:42,920]\u001b[0m Trial 31 finished with value: 0.3481228668941979 and parameters: {'booster': 'dart', 'learning_rate': 0.07948099804817763, 'max_depth': 11, 'subsample': 0.9888980304515552, 'colsample_bytree': 0.8387093924191594}. Best is trial 31 with value: 0.3481228668941979.\u001b[0m\n",
      "\u001b[32m[I 2022-01-26 11:05:43,085]\u001b[0m Trial 32 finished with value: 0.3217993079584775 and parameters: {'booster': 'dart', 'learning_rate': 0.0748391551791035, 'max_depth': 11, 'subsample': 0.8479683730957969, 'colsample_bytree': 0.8110062795616344}. Best is trial 31 with value: 0.3481228668941979.\u001b[0m\n",
      "\u001b[32m[I 2022-01-26 11:05:43,216]\u001b[0m Trial 33 finished with value: 0.2815356489945155 and parameters: {'booster': 'dart', 'learning_rate': 0.0644030450097683, 'max_depth': 9, 'subsample': 0.963847013411609, 'colsample_bytree': 0.7282924076347685}. Best is trial 31 with value: 0.3481228668941979.\u001b[0m\n",
      "\u001b[32m[I 2022-01-26 11:05:43,396]\u001b[0m Trial 34 finished with value: 0.3402777777777778 and parameters: {'booster': 'dart', 'learning_rate': 0.08472146648834966, 'max_depth': 10, 'subsample': 0.7553946260234626, 'colsample_bytree': 0.9255853074986545}. Best is trial 31 with value: 0.3481228668941979.\u001b[0m\n",
      "\u001b[32m[I 2022-01-26 11:05:43,574]\u001b[0m Trial 35 finished with value: 0.30122591943957966 and parameters: {'booster': 'dart', 'learning_rate': 0.09213689065701519, 'max_depth': 11, 'subsample': 0.7857078484922468, 'colsample_bytree': 0.9322498607030661}. Best is trial 31 with value: 0.3481228668941979.\u001b[0m\n",
      "\u001b[32m[I 2022-01-26 11:05:43,605]\u001b[0m Trial 36 finished with value: 0.0 and parameters: {'booster': 'gblinear', 'learning_rate': 0.08357095726001597, 'max_depth': 9, 'subsample': 0.735898065784169, 'colsample_bytree': 0.9095470389706186}. Best is trial 31 with value: 0.3481228668941979.\u001b[0m\n",
      "\u001b[32m[I 2022-01-26 11:05:43,697]\u001b[0m Trial 37 finished with value: 0.2150101419878296 and parameters: {'booster': 'gbtree', 'learning_rate': 0.024612291995187677, 'max_depth': 8, 'subsample': 0.8557633015648005, 'colsample_bytree': 0.7025490726923275}. Best is trial 31 with value: 0.3481228668941979.\u001b[0m\n"
     ]
    },
    {
     "name": "stdout",
     "output_type": "stream",
     "text": [
      "[11:05:43] WARNING: C:/Users/Administrator/workspace/xgboost-win64_release_1.5.1/src/learner.cc:576: \n",
      "Parameters: { \"colsample_bytree\", \"max_depth\", \"subsample\" } might not be used.\n",
      "\n",
      "  This could be a false alarm, with some parameters getting used by language bindings but\n",
      "  then being mistakenly passed down to XGBoost core, or some parameter actually being used\n",
      "  but getting flagged wrongly here. Please open an issue if you find any such cases.\n",
      "\n",
      "\n"
     ]
    },
    {
     "name": "stderr",
     "output_type": "stream",
     "text": [
      "\u001b[32m[I 2022-01-26 11:05:43,855]\u001b[0m Trial 38 finished with value: 0.27124773960216997 and parameters: {'booster': 'dart', 'learning_rate': 0.013009460996684591, 'max_depth': 11, 'subsample': 0.6637697792804124, 'colsample_bytree': 0.8135841238983139}. Best is trial 31 with value: 0.3481228668941979.\u001b[0m\n",
      "\u001b[32m[I 2022-01-26 11:05:44,012]\u001b[0m Trial 39 finished with value: 0.312280701754386 and parameters: {'booster': 'dart', 'learning_rate': 0.059769468559848805, 'max_depth': 10, 'subsample': 0.9418572199971462, 'colsample_bytree': 0.9459701676905843}. Best is trial 31 with value: 0.3481228668941979.\u001b[0m\n",
      "\u001b[32m[I 2022-01-26 11:05:44,133]\u001b[0m Trial 40 finished with value: 0.29050279329608936 and parameters: {'booster': 'dart', 'learning_rate': 0.08758341177187458, 'max_depth': 8, 'subsample': 0.4112338323639252, 'colsample_bytree': 0.9952702397839119}. Best is trial 31 with value: 0.3481228668941979.\u001b[0m\n",
      "\u001b[32m[I 2022-01-26 11:05:44,282]\u001b[0m Trial 41 finished with value: 0.3221238938053097 and parameters: {'booster': 'dart', 'learning_rate': 0.07299099602570398, 'max_depth': 10, 'subsample': 0.9214669253534132, 'colsample_bytree': 0.8660879620508376}. Best is trial 31 with value: 0.3481228668941979.\u001b[0m\n",
      "\u001b[32m[I 2022-01-26 11:05:44,427]\u001b[0m Trial 42 finished with value: 0.3026086956521739 and parameters: {'booster': 'dart', 'learning_rate': 0.054867409528912, 'max_depth': 9, 'subsample': 0.9998045864615664, 'colsample_bytree': 0.9371820597129344}. Best is trial 31 with value: 0.3481228668941979.\u001b[0m\n",
      "\u001b[32m[I 2022-01-26 11:05:44,567]\u001b[0m Trial 43 finished with value: 0.2990990990990991 and parameters: {'booster': 'gbtree', 'learning_rate': 0.03364608096901615, 'max_depth': 11, 'subsample': 0.8345566718031986, 'colsample_bytree': 0.8347741721721449}. Best is trial 31 with value: 0.3481228668941979.\u001b[0m\n",
      "\u001b[32m[I 2022-01-26 11:05:44,711]\u001b[0m Trial 44 finished with value: 0.2980251346499102 and parameters: {'booster': 'dart', 'learning_rate': 0.023888856758407198, 'max_depth': 10, 'subsample': 0.9471035409686215, 'colsample_bytree': 0.7722228136487085}. Best is trial 31 with value: 0.3481228668941979.\u001b[0m\n",
      "\u001b[32m[I 2022-01-26 11:05:44,790]\u001b[0m Trial 45 finished with value: 0.05513784461152882 and parameters: {'booster': 'dart', 'learning_rate': 0.044453582782647265, 'max_depth': 5, 'subsample': 0.21990367734617133, 'colsample_bytree': 0.8890570270559208}. Best is trial 31 with value: 0.3481228668941979.\u001b[0m\n",
      "\u001b[32m[I 2022-01-26 11:05:44,913]\u001b[0m Trial 46 finished with value: 0.2732447817836812 and parameters: {'booster': 'gbtree', 'learning_rate': 0.06609904138441083, 'max_depth': 11, 'subsample': 0.7502737633651135, 'colsample_bytree': 0.6585010816439564}. Best is trial 31 with value: 0.3481228668941979.\u001b[0m\n",
      "\u001b[32m[I 2022-01-26 11:05:44,994]\u001b[0m Trial 47 finished with value: 0.2201834862385321 and parameters: {'booster': 'dart', 'learning_rate': 0.05737895533340665, 'max_depth': 10, 'subsample': 0.026068153308199504, 'colsample_bytree': 0.9614771157783701}. Best is trial 31 with value: 0.3481228668941979.\u001b[0m\n",
      "\u001b[32m[I 2022-01-26 11:05:45,084]\u001b[0m Trial 48 finished with value: 0.13679245283018865 and parameters: {'booster': 'dart', 'learning_rate': 0.08177573093653906, 'max_depth': 9, 'subsample': 0.8732791211591144, 'colsample_bytree': 0.2916487997754469}. Best is trial 31 with value: 0.3481228668941979.\u001b[0m\n",
      "\u001b[32m[I 2022-01-26 11:05:45,115]\u001b[0m Trial 49 finished with value: 0.0 and parameters: {'booster': 'gblinear', 'learning_rate': 0.03683429388834494, 'max_depth': 11, 'subsample': 0.9582347319326548, 'colsample_bytree': 0.7152412453782899}. Best is trial 31 with value: 0.3481228668941979.\u001b[0m\n",
      "\u001b[32m[I 2022-01-26 11:05:45,263]\u001b[0m Trial 50 finished with value: 0.2942271880819367 and parameters: {'booster': 'dart', 'learning_rate': 0.021189826654670407, 'max_depth': 10, 'subsample': 0.831161719368117, 'colsample_bytree': 0.8407035056697517}. Best is trial 31 with value: 0.3481228668941979.\u001b[0m\n"
     ]
    },
    {
     "name": "stdout",
     "output_type": "stream",
     "text": [
      "[11:05:45] WARNING: C:/Users/Administrator/workspace/xgboost-win64_release_1.5.1/src/learner.cc:576: \n",
      "Parameters: { \"colsample_bytree\", \"max_depth\", \"subsample\" } might not be used.\n",
      "\n",
      "  This could be a false alarm, with some parameters getting used by language bindings but\n",
      "  then being mistakenly passed down to XGBoost core, or some parameter actually being used\n",
      "  but getting flagged wrongly here. Please open an issue if you find any such cases.\n",
      "\n",
      "\n"
     ]
    },
    {
     "name": "stderr",
     "output_type": "stream",
     "text": [
      "\u001b[32m[I 2022-01-26 11:05:45,429]\u001b[0m Trial 51 finished with value: 0.32291666666666663 and parameters: {'booster': 'dart', 'learning_rate': 0.07774223125268484, 'max_depth': 11, 'subsample': 0.9994842489111697, 'colsample_bytree': 0.871416424314411}. Best is trial 31 with value: 0.3481228668941979.\u001b[0m\n",
      "\u001b[32m[I 2022-01-26 11:05:45,586]\u001b[0m Trial 52 finished with value: 0.30985915492957744 and parameters: {'booster': 'dart', 'learning_rate': 0.06973453031264794, 'max_depth': 11, 'subsample': 0.9056996674075197, 'colsample_bytree': 0.7936465732336857}. Best is trial 31 with value: 0.3481228668941979.\u001b[0m\n",
      "\u001b[32m[I 2022-01-26 11:05:45,742]\u001b[0m Trial 53 finished with value: 0.3368421052631579 and parameters: {'booster': 'dart', 'learning_rate': 0.09685659685777795, 'max_depth': 10, 'subsample': 0.9721860444535098, 'colsample_bytree': 0.910706056036009}. Best is trial 31 with value: 0.3481228668941979.\u001b[0m\n",
      "\u001b[32m[I 2022-01-26 11:05:45,894]\u001b[0m Trial 54 finished with value: 0.31150442477876106 and parameters: {'booster': 'dart', 'learning_rate': 0.0955525154782245, 'max_depth': 10, 'subsample': 0.9607404411238586, 'colsample_bytree': 0.9105165954422247}. Best is trial 31 with value: 0.3481228668941979.\u001b[0m\n",
      "\u001b[32m[I 2022-01-26 11:05:46,052]\u001b[0m Trial 55 finished with value: 0.33448275862068966 and parameters: {'booster': 'dart', 'learning_rate': 0.08838916365800269, 'max_depth': 10, 'subsample': 0.8778568766563416, 'colsample_bytree': 0.9652053346264261}. Best is trial 31 with value: 0.3481228668941979.\u001b[0m\n",
      "\u001b[32m[I 2022-01-26 11:05:46,196]\u001b[0m Trial 56 finished with value: 0.2974910394265233 and parameters: {'booster': 'dart', 'learning_rate': 0.09949748397056438, 'max_depth': 9, 'subsample': 0.8860996409004822, 'colsample_bytree': 0.9985620357095824}. Best is trial 31 with value: 0.3481228668941979.\u001b[0m\n",
      "\u001b[32m[I 2022-01-26 11:05:46,256]\u001b[0m Trial 57 finished with value: 0.015748031496062992 and parameters: {'booster': 'gbtree', 'learning_rate': 0.08826533164796437, 'max_depth': 4, 'subsample': 0.9324070672986241, 'colsample_bytree': 0.9587755594695845}. Best is trial 31 with value: 0.3481228668941979.\u001b[0m\n",
      "\u001b[32m[I 2022-01-26 11:05:46,338]\u001b[0m Trial 58 finished with value: 0.030848329048843187 and parameters: {'booster': 'dart', 'learning_rate': 0.016101493653045612, 'max_depth': 10, 'subsample': 0.7738089346470286, 'colsample_bytree': 0.15337916970778342}. Best is trial 31 with value: 0.3481228668941979.\u001b[0m\n",
      "\u001b[32m[I 2022-01-26 11:05:46,478]\u001b[0m Trial 59 finished with value: 0.27807486631016043 and parameters: {'booster': 'dart', 'learning_rate': 0.08522492175730983, 'max_depth': 9, 'subsample': 0.9780090622441965, 'colsample_bytree': 0.9174791130852288}. Best is trial 31 with value: 0.3481228668941979.\u001b[0m\n",
      "\u001b[32m[I 2022-01-26 11:05:46,637]\u001b[0m Trial 60 finished with value: 0.3010752688172043 and parameters: {'booster': 'dart', 'learning_rate': 0.08170673444968951, 'max_depth': 10, 'subsample': 0.8694586960901433, 'colsample_bytree': 0.9691011777226322}. Best is trial 31 with value: 0.3481228668941979.\u001b[0m\n",
      "\u001b[32m[I 2022-01-26 11:05:46,797]\u001b[0m Trial 61 finished with value: 0.3333333333333333 and parameters: {'booster': 'dart', 'learning_rate': 0.029684587976396865, 'max_depth': 11, 'subsample': 0.8154245464402495, 'colsample_bytree': 0.8482489942548657}. Best is trial 31 with value: 0.3481228668941979.\u001b[0m\n",
      "\u001b[32m[I 2022-01-26 11:05:46,913]\u001b[0m Trial 62 finished with value: 0.2565130260521042 and parameters: {'booster': 'dart', 'learning_rate': 0.06633733390818028, 'max_depth': 10, 'subsample': 0.9103039446787007, 'colsample_bytree': 0.44878903948122073}. Best is trial 31 with value: 0.3481228668941979.\u001b[0m\n",
      "\u001b[32m[I 2022-01-26 11:05:47,067]\u001b[0m Trial 63 finished with value: 0.2938053097345133 and parameters: {'booster': 'dart', 'learning_rate': 0.04079339771843228, 'max_depth': 11, 'subsample': 0.9201313188080894, 'colsample_bytree': 0.759309995656104}. Best is trial 31 with value: 0.3481228668941979.\u001b[0m\n",
      "\u001b[32m[I 2022-01-26 11:05:47,219]\u001b[0m Trial 64 finished with value: 0.29965156794425085 and parameters: {'booster': 'dart', 'learning_rate': 0.051756603010252596, 'max_depth': 10, 'subsample': 0.9662047766672317, 'colsample_bytree': 0.8833750243508975}. Best is trial 31 with value: 0.3481228668941979.\u001b[0m\n",
      "\u001b[32m[I 2022-01-26 11:05:47,250]\u001b[0m Trial 65 finished with value: 0.0 and parameters: {'booster': 'gblinear', 'learning_rate': 0.09270537270059502, 'max_depth': 10, 'subsample': 0.8763517948144905, 'colsample_bytree': 0.8085751416953438}. Best is trial 31 with value: 0.3481228668941979.\u001b[0m\n",
      "\u001b[32m[I 2022-01-26 11:05:47,392]\u001b[0m Trial 66 finished with value: 0.3053173241852487 and parameters: {'booster': 'dart', 'learning_rate': 0.03496073339500043, 'max_depth': 9, 'subsample': 0.975100274890778, 'colsample_bytree': 0.96449107161418}. Best is trial 31 with value: 0.3481228668941979.\u001b[0m\n"
     ]
    },
    {
     "name": "stdout",
     "output_type": "stream",
     "text": [
      "[11:05:47] WARNING: C:/Users/Administrator/workspace/xgboost-win64_release_1.5.1/src/learner.cc:576: \n",
      "Parameters: { \"colsample_bytree\", \"max_depth\", \"subsample\" } might not be used.\n",
      "\n",
      "  This could be a false alarm, with some parameters getting used by language bindings but\n",
      "  then being mistakenly passed down to XGBoost core, or some parameter actually being used\n",
      "  but getting flagged wrongly here. Please open an issue if you find any such cases.\n",
      "\n",
      "\n"
     ]
    },
    {
     "name": "stderr",
     "output_type": "stream",
     "text": [
      "\u001b[32m[I 2022-01-26 11:05:47,518]\u001b[0m Trial 67 finished with value: 0.3045112781954887 and parameters: {'booster': 'dart', 'learning_rate': 0.030135915617711544, 'max_depth': 8, 'subsample': 0.5293103783836466, 'colsample_bytree': 0.9215773058441717}. Best is trial 31 with value: 0.3481228668941979.\u001b[0m\n",
      "\u001b[32m[I 2022-01-26 11:05:47,682]\u001b[0m Trial 68 finished with value: 0.2991304347826087 and parameters: {'booster': 'dart', 'learning_rate': 0.07179453353693414, 'max_depth': 11, 'subsample': 0.8515808444341754, 'colsample_bytree': 0.8388826773667799}. Best is trial 31 with value: 0.3481228668941979.\u001b[0m\n",
      "\u001b[32m[I 2022-01-26 11:05:47,782]\u001b[0m Trial 69 finished with value: 0.23600000000000002 and parameters: {'booster': 'dart', 'learning_rate': 0.026287896643670206, 'max_depth': 7, 'subsample': 0.31342303970964547, 'colsample_bytree': 0.9008003834597228}. Best is trial 31 with value: 0.3481228668941979.\u001b[0m\n",
      "\u001b[32m[I 2022-01-26 11:05:47,876]\u001b[0m Trial 70 finished with value: 0.243614931237721 and parameters: {'booster': 'dart', 'learning_rate': 0.041357598957935324, 'max_depth': 10, 'subsample': 0.09617291952252582, 'colsample_bytree': 0.9451604348822515}. Best is trial 31 with value: 0.3481228668941979.\u001b[0m\n",
      "\u001b[32m[I 2022-01-26 11:05:48,038]\u001b[0m Trial 71 finished with value: 0.2857142857142857 and parameters: {'booster': 'dart', 'learning_rate': 0.04742693957988937, 'max_depth': 11, 'subsample': 0.8205549547589085, 'colsample_bytree': 0.8584830575874896}. Best is trial 31 with value: 0.3481228668941979.\u001b[0m\n",
      "\u001b[32m[I 2022-01-26 11:05:48,186]\u001b[0m Trial 72 finished with value: 0.2983425414364641 and parameters: {'booster': 'dart', 'learning_rate': 0.030238277001391364, 'max_depth': 11, 'subsample': 0.7054592387562859, 'colsample_bytree': 0.7493198125952328}. Best is trial 31 with value: 0.3481228668941979.\u001b[0m\n",
      "\u001b[32m[I 2022-01-26 11:05:48,346]\u001b[0m Trial 73 finished with value: 0.3309608540925267 and parameters: {'booster': 'dart', 'learning_rate': 0.013061189316821103, 'max_depth': 11, 'subsample': 0.8134102693725863, 'colsample_bytree': 0.8285575395961922}. Best is trial 31 with value: 0.3481228668941979.\u001b[0m\n",
      "\u001b[32m[I 2022-01-26 11:05:48,505]\u001b[0m Trial 74 finished with value: 0.31652173913043474 and parameters: {'booster': 'dart', 'learning_rate': 0.01762489978615156, 'max_depth': 10, 'subsample': 0.7580973652884548, 'colsample_bytree': 0.9787245876714399}. Best is trial 31 with value: 0.3481228668941979.\u001b[0m\n",
      "\u001b[32m[I 2022-01-26 11:05:48,681]\u001b[0m Trial 75 finished with value: 0.30742659758203794 and parameters: {'booster': 'dart', 'learning_rate': 0.020478792369080012, 'max_depth': 11, 'subsample': 0.9328748121665579, 'colsample_bytree': 0.8761576902129212}. Best is trial 31 with value: 0.3481228668941979.\u001b[0m\n",
      "\u001b[32m[I 2022-01-26 11:05:48,804]\u001b[0m Trial 76 finished with value: 0.2749529190207156 and parameters: {'booster': 'gbtree', 'learning_rate': 0.01913560539739314, 'max_depth': 10, 'subsample': 0.8951589492061666, 'colsample_bytree': 0.7843828082667675}. Best is trial 31 with value: 0.3481228668941979.\u001b[0m\n",
      "\u001b[32m[I 2022-01-26 11:05:48,835]\u001b[0m Trial 77 finished with value: 0.0 and parameters: {'booster': 'gblinear', 'learning_rate': 0.07802923287271882, 'max_depth': 11, 'subsample': 0.5870393789523074, 'colsample_bytree': 0.9298091038301387}. Best is trial 31 with value: 0.3481228668941979.\u001b[0m\n",
      "\u001b[32m[I 2022-01-26 11:05:48,974]\u001b[0m Trial 78 finished with value: 0.2939068100358423 and parameters: {'booster': 'dart', 'learning_rate': 0.022447645123878097, 'max_depth': 9, 'subsample': 0.9869657491351861, 'colsample_bytree': 0.8508129755245395}. Best is trial 31 with value: 0.3481228668941979.\u001b[0m\n"
     ]
    },
    {
     "name": "stdout",
     "output_type": "stream",
     "text": [
      "[11:05:48] WARNING: C:/Users/Administrator/workspace/xgboost-win64_release_1.5.1/src/learner.cc:576: \n",
      "Parameters: { \"colsample_bytree\", \"max_depth\", \"subsample\" } might not be used.\n",
      "\n",
      "  This could be a false alarm, with some parameters getting used by language bindings but\n",
      "  then being mistakenly passed down to XGBoost core, or some parameter actually being used\n",
      "  but getting flagged wrongly here. Please open an issue if you find any such cases.\n",
      "\n",
      "\n"
     ]
    },
    {
     "name": "stderr",
     "output_type": "stream",
     "text": [
      "\u001b[32m[I 2022-01-26 11:05:49,130]\u001b[0m Trial 79 finished with value: 0.30397236614853196 and parameters: {'booster': 'dart', 'learning_rate': 0.0904244124152309, 'max_depth': 10, 'subsample': 0.9512638229189765, 'colsample_bytree': 0.8983216307101751}. Best is trial 31 with value: 0.3481228668941979.\u001b[0m\n",
      "\u001b[32m[I 2022-01-26 11:05:49,286]\u001b[0m Trial 80 finished with value: 0.328042328042328 and parameters: {'booster': 'dart', 'learning_rate': 0.06377362217817292, 'max_depth': 11, 'subsample': 0.7923894985686553, 'colsample_bytree': 0.814083878218128}. Best is trial 31 with value: 0.3481228668941979.\u001b[0m\n",
      "\u001b[32m[I 2022-01-26 11:05:49,448]\u001b[0m Trial 81 finished with value: 0.33212996389891697 and parameters: {'booster': 'dart', 'learning_rate': 0.012160537253200397, 'max_depth': 11, 'subsample': 0.814428508375313, 'colsample_bytree': 0.829979102914661}. Best is trial 31 with value: 0.3481228668941979.\u001b[0m\n",
      "\u001b[32m[I 2022-01-26 11:05:49,622]\u001b[0m Trial 82 finished with value: 0.3121783876500857 and parameters: {'booster': 'dart', 'learning_rate': 0.01150542383419841, 'max_depth': 11, 'subsample': 0.8500479823233629, 'colsample_bytree': 0.9776179969833704}. Best is trial 31 with value: 0.3481228668941979.\u001b[0m\n",
      "\u001b[32m[I 2022-01-26 11:05:49,792]\u001b[0m Trial 83 finished with value: 0.3287671232876712 and parameters: {'booster': 'dart', 'learning_rate': 0.010376578491734002, 'max_depth': 11, 'subsample': 0.8982077342805681, 'colsample_bytree': 0.8809600686146498}. Best is trial 31 with value: 0.3481228668941979.\u001b[0m\n",
      "\u001b[32m[I 2022-01-26 11:05:49,976]\u001b[0m Trial 84 finished with value: 0.3198653198653199 and parameters: {'booster': 'dart', 'learning_rate': 0.014864324829732028, 'max_depth': 10, 'subsample': 0.935231608485269, 'colsample_bytree': 0.9243654565168264}. Best is trial 31 with value: 0.3481228668941979.\u001b[0m\n",
      "\u001b[32m[I 2022-01-26 11:05:50,125]\u001b[0m Trial 85 finished with value: 0.2915129151291513 and parameters: {'booster': 'dart', 'learning_rate': 0.02525604249777418, 'max_depth': 11, 'subsample': 0.7183071598475771, 'colsample_bytree': 0.7297405315891321}. Best is trial 31 with value: 0.3481228668941979.\u001b[0m\n",
      "\u001b[32m[I 2022-01-26 11:05:50,276]\u001b[0m Trial 86 finished with value: 0.23483365949119372 and parameters: {'booster': 'dart', 'learning_rate': 0.01313802270188649, 'max_depth': 10, 'subsample': 0.818730589779949, 'colsample_bytree': 0.560990002781187}. Best is trial 31 with value: 0.3481228668941979.\u001b[0m\n",
      "\u001b[32m[I 2022-01-26 11:05:50,418]\u001b[0m Trial 87 finished with value: 0.3118279569892473 and parameters: {'booster': 'dart', 'learning_rate': 0.09875033173375393, 'max_depth': 9, 'subsample': 0.8738396643199026, 'colsample_bytree': 0.9500603173389932}. Best is trial 31 with value: 0.3481228668941979.\u001b[0m\n",
      "\u001b[32m[I 2022-01-26 11:05:50,582]\u001b[0m Trial 88 finished with value: 0.31150442477876106 and parameters: {'booster': 'dart', 'learning_rate': 0.01625657584592021, 'max_depth': 11, 'subsample': 0.7741316485360957, 'colsample_bytree': 0.8674753742533663}. Best is trial 31 with value: 0.3481228668941979.\u001b[0m\n",
      "\u001b[32m[I 2022-01-26 11:05:50,691]\u001b[0m Trial 89 finished with value: 0.28625954198473286 and parameters: {'booster': 'gbtree', 'learning_rate': 0.03674406288076418, 'max_depth': 10, 'subsample': 0.6598910571517129, 'colsample_bytree': 0.6785074306457577}. Best is trial 31 with value: 0.3481228668941979.\u001b[0m\n",
      "\u001b[32m[I 2022-01-26 11:05:50,855]\u001b[0m Trial 90 finished with value: 0.3198594024604569 and parameters: {'booster': 'dart', 'learning_rate': 0.027975001750508172, 'max_depth': 11, 'subsample': 0.9736177058160723, 'colsample_bytree': 0.8230196782007646}. Best is trial 31 with value: 0.3481228668941979.\u001b[0m\n",
      "\u001b[32m[I 2022-01-26 11:05:51,018]\u001b[0m Trial 91 finished with value: 0.3057553956834532 and parameters: {'booster': 'dart', 'learning_rate': 0.012203072209169788, 'max_depth': 11, 'subsample': 0.8090695131283521, 'colsample_bytree': 0.8438830315697085}. Best is trial 31 with value: 0.3481228668941979.\u001b[0m\n",
      "\u001b[32m[I 2022-01-26 11:05:51,175]\u001b[0m Trial 92 finished with value: 0.3142857142857143 and parameters: {'booster': 'dart', 'learning_rate': 0.012819724354739132, 'max_depth': 11, 'subsample': 0.8363495918172245, 'colsample_bytree': 0.7861076005477486}. Best is trial 31 with value: 0.3481228668941979.\u001b[0m\n",
      "\u001b[32m[I 2022-01-26 11:05:51,333]\u001b[0m Trial 93 finished with value: 0.28522336769759454 and parameters: {'booster': 'dart', 'learning_rate': 0.08151652224013592, 'max_depth': 10, 'subsample': 0.9167277137576213, 'colsample_bytree': 0.9031930615350792}. Best is trial 31 with value: 0.3481228668941979.\u001b[0m\n",
      "\u001b[32m[I 2022-01-26 11:05:51,488]\u001b[0m Trial 94 finished with value: 0.31407942238267145 and parameters: {'booster': 'dart', 'learning_rate': 0.010937512432689955, 'max_depth': 11, 'subsample': 0.7397113447714045, 'colsample_bytree': 0.806336825072192}. Best is trial 31 with value: 0.3481228668941979.\u001b[0m\n",
      "\u001b[32m[I 2022-01-26 11:05:51,631]\u001b[0m Trial 95 finished with value: 0.27889908256880735 and parameters: {'booster': 'dart', 'learning_rate': 0.014488784526503566, 'max_depth': 10, 'subsample': 0.9535109878333577, 'colsample_bytree': 0.7682585239209331}. Best is trial 31 with value: 0.3481228668941979.\u001b[0m\n",
      "\u001b[32m[I 2022-01-26 11:05:51,663]\u001b[0m Trial 96 finished with value: 0.0 and parameters: {'booster': 'gblinear', 'learning_rate': 0.013950404875605657, 'max_depth': 11, 'subsample': 0.857897801938049, 'colsample_bytree': 0.9837275214191161}. Best is trial 31 with value: 0.3481228668941979.\u001b[0m\n",
      "\u001b[32m[I 2022-01-26 11:05:51,811]\u001b[0m Trial 97 finished with value: 0.2802768166089965 and parameters: {'booster': 'dart', 'learning_rate': 0.09342748100319324, 'max_depth': 10, 'subsample': 0.9999565112483254, 'colsample_bytree': 0.8252105207461641}. Best is trial 31 with value: 0.3481228668941979.\u001b[0m\n"
     ]
    },
    {
     "name": "stdout",
     "output_type": "stream",
     "text": [
      "[11:05:51] WARNING: C:/Users/Administrator/workspace/xgboost-win64_release_1.5.1/src/learner.cc:576: \n",
      "Parameters: { \"colsample_bytree\", \"max_depth\", \"subsample\" } might not be used.\n",
      "\n",
      "  This could be a false alarm, with some parameters getting used by language bindings but\n",
      "  then being mistakenly passed down to XGBoost core, or some parameter actually being used\n",
      "  but getting flagged wrongly here. Please open an issue if you find any such cases.\n",
      "\n",
      "\n"
     ]
    },
    {
     "name": "stderr",
     "output_type": "stream",
     "text": [
      "\u001b[32m[I 2022-01-26 11:05:51,955]\u001b[0m Trial 98 finished with value: 0.33797909407665505 and parameters: {'booster': 'dart', 'learning_rate': 0.06901421973141174, 'max_depth': 9, 'subsample': 0.8868057331467887, 'colsample_bytree': 0.9391901392354042}. Best is trial 31 with value: 0.3481228668941979.\u001b[0m\n",
      "\u001b[32m[I 2022-01-26 11:05:52,100]\u001b[0m Trial 99 finished with value: 0.31040564373897706 and parameters: {'booster': 'dart', 'learning_rate': 0.07609631149971371, 'max_depth': 9, 'subsample': 0.8954851604143378, 'colsample_bytree': 0.9502632183108682}. Best is trial 31 with value: 0.3481228668941979.\u001b[0m\n",
      "\u001b[32m[I 2022-01-26 11:05:52,239]\u001b[0m Trial 100 finished with value: 0.3065953654188948 and parameters: {'booster': 'dart', 'learning_rate': 0.086816926365066, 'max_depth': 9, 'subsample': 0.9188432097771118, 'colsample_bytree': 0.889933565356765}. Best is trial 31 with value: 0.3481228668941979.\u001b[0m\n",
      "\u001b[32m[I 2022-01-26 11:05:52,396]\u001b[0m Trial 101 finished with value: 0.3315508021390374 and parameters: {'booster': 'dart', 'learning_rate': 0.052790043924720816, 'max_depth': 10, 'subsample': 0.8093279143137794, 'colsample_bytree': 0.9189221740133808}. Best is trial 31 with value: 0.3481228668941979.\u001b[0m\n",
      "\u001b[32m[I 2022-01-26 11:05:52,552]\u001b[0m Trial 102 finished with value: 0.312829525483304 and parameters: {'booster': 'dart', 'learning_rate': 0.05957402141403657, 'max_depth': 10, 'subsample': 0.7627875979064841, 'colsample_bytree': 0.9332373639408544}. Best is trial 31 with value: 0.3481228668941979.\u001b[0m\n",
      "\u001b[32m[I 2022-01-26 11:05:52,711]\u001b[0m Trial 103 finished with value: 0.3024054982817869 and parameters: {'booster': 'dart', 'learning_rate': 0.04293927961950247, 'max_depth': 10, 'subsample': 0.9478138760474568, 'colsample_bytree': 0.915041736398303}. Best is trial 31 with value: 0.3481228668941979.\u001b[0m\n",
      "\u001b[32m[I 2022-01-26 11:05:52,862]\u001b[0m Trial 104 finished with value: 0.291970802919708 and parameters: {'booster': 'dart', 'learning_rate': 0.05161117729369865, 'max_depth': 10, 'subsample': 0.8691264305702248, 'colsample_bytree': 0.8593420520046002}. Best is trial 31 with value: 0.3481228668941979.\u001b[0m\n",
      "\u001b[32m[I 2022-01-26 11:05:52,917]\u001b[0m Trial 105 finished with value: 0.0 and parameters: {'booster': 'dart', 'learning_rate': 0.054960410357474794, 'max_depth': 10, 'subsample': 0.7971780722145964, 'colsample_bytree': 0.020592984998648867}. Best is trial 31 with value: 0.3481228668941979.\u001b[0m\n",
      "\u001b[32m[I 2022-01-26 11:05:53,063]\u001b[0m Trial 106 finished with value: 0.3060869565217391 and parameters: {'booster': 'dart', 'learning_rate': 0.04641737982451917, 'max_depth': 9, 'subsample': 0.9850344503214234, 'colsample_bytree': 0.9978693012537104}. Best is trial 31 with value: 0.3481228668941979.\u001b[0m\n",
      "\u001b[32m[I 2022-01-26 11:05:53,214]\u001b[0m Trial 107 finished with value: 0.31307550644567217 and parameters: {'booster': 'dart', 'learning_rate': 0.072779946235246, 'max_depth': 8, 'subsample': 0.9379161278856468, 'colsample_bytree': 0.9700206202107936}. Best is trial 31 with value: 0.3481228668941979.\u001b[0m\n",
      "\u001b[32m[I 2022-01-26 11:05:53,345]\u001b[0m Trial 108 finished with value: 0.23284823284823283 and parameters: {'booster': 'dart', 'learning_rate': 0.06861323549500914, 'max_depth': 10, 'subsample': 0.9702556202668153, 'colsample_bytree': 0.37207258694931267}. Best is trial 31 with value: 0.3481228668941979.\u001b[0m\n",
      "\u001b[32m[I 2022-01-26 11:05:53,498]\u001b[0m Trial 109 finished with value: 0.32068965517241377 and parameters: {'booster': 'gbtree', 'learning_rate': 0.04836514486446404, 'max_depth': 11, 'subsample': 0.8415102560651488, 'colsample_bytree': 0.9392968319528737}. Best is trial 31 with value: 0.3481228668941979.\u001b[0m\n",
      "\u001b[32m[I 2022-01-26 11:05:53,650]\u001b[0m Trial 110 finished with value: 0.3118279569892473 and parameters: {'booster': 'dart', 'learning_rate': 0.04047759031027684, 'max_depth': 10, 'subsample': 0.8842631982425118, 'colsample_bytree': 0.8864532161014623}. Best is trial 31 with value: 0.3481228668941979.\u001b[0m\n",
      "\u001b[32m[I 2022-01-26 11:05:53,813]\u001b[0m Trial 111 finished with value: 0.3111888111888112 and parameters: {'booster': 'dart', 'learning_rate': 0.08023742438309263, 'max_depth': 11, 'subsample': 0.8201977032274178, 'colsample_bytree': 0.8436685957924356}. Best is trial 31 with value: 0.3481228668941979.\u001b[0m\n",
      "\u001b[32m[I 2022-01-26 11:05:53,984]\u001b[0m Trial 112 finished with value: 0.30526315789473685 and parameters: {'booster': 'dart', 'learning_rate': 0.05126682432197673, 'max_depth': 11, 'subsample': 0.8033694880585306, 'colsample_bytree': 0.9051427560539951}. Best is trial 31 with value: 0.3481228668941979.\u001b[0m\n",
      "\u001b[32m[I 2022-01-26 11:05:54,155]\u001b[0m Trial 113 finished with value: 0.32638888888888884 and parameters: {'booster': 'dart', 'learning_rate': 0.08949748152359355, 'max_depth': 11, 'subsample': 0.7785487156281246, 'colsample_bytree': 0.9575618998702401}. Best is trial 31 with value: 0.3481228668941979.\u001b[0m\n",
      "\u001b[32m[I 2022-01-26 11:05:54,320]\u001b[0m Trial 114 finished with value: 0.3174603174603175 and parameters: {'booster': 'dart', 'learning_rate': 0.08429221717319504, 'max_depth': 11, 'subsample': 0.8609008042303401, 'colsample_bytree': 0.8696417604429153}. Best is trial 31 with value: 0.3481228668941979.\u001b[0m\n",
      "\u001b[32m[I 2022-01-26 11:05:54,453]\u001b[0m Trial 115 finished with value: 0.29724770642201837 and parameters: {'booster': 'dart', 'learning_rate': 0.03438112867308276, 'max_depth': 10, 'subsample': 0.4719486105393302, 'colsample_bytree': 0.8001991843142563}. Best is trial 31 with value: 0.3481228668941979.\u001b[0m\n",
      "\u001b[32m[I 2022-01-26 11:05:54,485]\u001b[0m Trial 116 finished with value: 0.0 and parameters: {'booster': 'gblinear', 'learning_rate': 0.03871272465958619, 'max_depth': 11, 'subsample': 0.9051966686769213, 'colsample_bytree': 0.914457787229768}. Best is trial 31 with value: 0.3481228668941979.\u001b[0m\n",
      "\u001b[32m[I 2022-01-26 11:05:54,575]\u001b[0m Trial 117 finished with value: 0.12264150943396226 and parameters: {'booster': 'dart', 'learning_rate': 0.04284720896057321, 'max_depth': 5, 'subsample': 0.694190445820296, 'colsample_bytree': 0.8234990204564027}. Best is trial 31 with value: 0.3481228668941979.\u001b[0m\n"
     ]
    },
    {
     "name": "stdout",
     "output_type": "stream",
     "text": [
      "[11:05:54] WARNING: C:/Users/Administrator/workspace/xgboost-win64_release_1.5.1/src/learner.cc:576: \n",
      "Parameters: { \"colsample_bytree\", \"max_depth\", \"subsample\" } might not be used.\n",
      "\n",
      "  This could be a false alarm, with some parameters getting used by language bindings but\n",
      "  then being mistakenly passed down to XGBoost core, or some parameter actually being used\n",
      "  but getting flagged wrongly here. Please open an issue if you find any such cases.\n",
      "\n",
      "\n"
     ]
    },
    {
     "name": "stderr",
     "output_type": "stream",
     "text": [
      "\u001b[32m[I 2022-01-26 11:05:54,744]\u001b[0m Trial 118 finished with value: 0.3177892918825561 and parameters: {'booster': 'dart', 'learning_rate': 0.061106651546446636, 'max_depth': 11, 'subsample': 0.9198119906744069, 'colsample_bytree': 0.8553518890934}. Best is trial 31 with value: 0.3481228668941979.\u001b[0m\n",
      "\u001b[32m[I 2022-01-26 11:05:54,860]\u001b[0m Trial 119 finished with value: 0.2784313725490196 and parameters: {'booster': 'dart', 'learning_rate': 0.09525452209266158, 'max_depth': 7, 'subsample': 0.7230313921831101, 'colsample_bytree': 0.9372875545657442}. Best is trial 31 with value: 0.3481228668941979.\u001b[0m\n",
      "\u001b[32m[I 2022-01-26 11:05:55,023]\u001b[0m Trial 120 finished with value: 0.3069139966273187 and parameters: {'booster': 'dart', 'learning_rate': 0.032260812385808066, 'max_depth': 10, 'subsample': 0.9601750799297816, 'colsample_bytree': 0.9796544318402519}. Best is trial 31 with value: 0.3481228668941979.\u001b[0m\n",
      "\u001b[32m[I 2022-01-26 11:05:55,196]\u001b[0m Trial 121 finished with value: 0.3178807947019867 and parameters: {'booster': 'dart', 'learning_rate': 0.07659127520917895, 'max_depth': 11, 'subsample': 0.9842504583327296, 'colsample_bytree': 0.8914163485724902}. Best is trial 31 with value: 0.3481228668941979.\u001b[0m\n",
      "\u001b[32m[I 2022-01-26 11:05:55,305]\u001b[0m Trial 122 finished with value: 0.13856812933025403 and parameters: {'booster': 'dart', 'learning_rate': 0.06859089262029495, 'max_depth': 11, 'subsample': 0.9911653323418276, 'colsample_bytree': 0.23322326112921277}. Best is trial 31 with value: 0.3481228668941979.\u001b[0m\n",
      "\u001b[32m[I 2022-01-26 11:05:55,458]\u001b[0m Trial 123 finished with value: 0.2841726618705036 and parameters: {'booster': 'dart', 'learning_rate': 0.0998380140814636, 'max_depth': 10, 'subsample': 0.8310296612511742, 'colsample_bytree': 0.8716744197200438}. Best is trial 31 with value: 0.3481228668941979.\u001b[0m\n",
      "\u001b[32m[I 2022-01-26 11:05:55,620]\u001b[0m Trial 124 finished with value: 0.32068965517241377 and parameters: {'booster': 'dart', 'learning_rate': 0.08579919953197832, 'max_depth': 11, 'subsample': 0.9370011459578257, 'colsample_bytree': 0.8364250078424011}. Best is trial 31 with value: 0.3481228668941979.\u001b[0m\n",
      "\u001b[32m[I 2022-01-26 11:05:55,795]\u001b[0m Trial 125 finished with value: 0.342668863261944 and parameters: {'booster': 'dart', 'learning_rate': 0.0573385365614246, 'max_depth': 11, 'subsample': 0.8900935854087287, 'colsample_bytree': 0.9241474639258475}. Best is trial 31 with value: 0.3481228668941979.\u001b[0m\n",
      "\u001b[32m[I 2022-01-26 11:05:55,967]\u001b[0m Trial 126 finished with value: 0.32258064516129037 and parameters: {'booster': 'dart', 'learning_rate': 0.06341234750301998, 'max_depth': 11, 'subsample': 0.8931845261228153, 'colsample_bytree': 0.9190682011337491}. Best is trial 31 with value: 0.3481228668941979.\u001b[0m\n",
      "\u001b[32m[I 2022-01-26 11:05:56,127]\u001b[0m Trial 127 finished with value: 0.3098106712564544 and parameters: {'booster': 'dart', 'learning_rate': 0.01721763449749318, 'max_depth': 10, 'subsample': 0.8677103348721034, 'colsample_bytree': 0.9613105989297981}. Best is trial 31 with value: 0.3481228668941979.\u001b[0m\n",
      "\u001b[32m[I 2022-01-26 11:05:56,267]\u001b[0m Trial 128 finished with value: 0.2830188679245283 and parameters: {'booster': 'dart', 'learning_rate': 0.05719674312339598, 'max_depth': 11, 'subsample': 0.8235982095746603, 'colsample_bytree': 0.6160538897946216}. Best is trial 31 with value: 0.3481228668941979.\u001b[0m\n",
      "\u001b[32m[I 2022-01-26 11:05:56,427]\u001b[0m Trial 129 finished with value: 0.308231173380035 and parameters: {'booster': 'dart', 'learning_rate': 0.045025335541071215, 'max_depth': 10, 'subsample': 0.8499109598023605, 'colsample_bytree': 0.9407748405912856}. Best is trial 31 with value: 0.3481228668941979.\u001b[0m\n",
      "\u001b[32m[I 2022-01-26 11:05:56,546]\u001b[0m Trial 130 finished with value: 0.28102189781021897 and parameters: {'booster': 'gbtree', 'learning_rate': 0.011819359874055625, 'max_depth': 9, 'subsample': 0.9101585321316792, 'colsample_bytree': 0.89697962657632}. Best is trial 31 with value: 0.3481228668941979.\u001b[0m\n",
      "\u001b[32m[I 2022-01-26 11:05:56,712]\u001b[0m Trial 131 finished with value: 0.3150684931506849 and parameters: {'booster': 'dart', 'learning_rate': 0.07927783780673965, 'max_depth': 11, 'subsample': 0.9713762502120882, 'colsample_bytree': 0.858367169447412}. Best is trial 31 with value: 0.3481228668941979.\u001b[0m\n",
      "\u001b[32m[I 2022-01-26 11:05:56,881]\u001b[0m Trial 132 finished with value: 0.3119584055459272 and parameters: {'booster': 'dart', 'learning_rate': 0.06686891688504375, 'max_depth': 11, 'subsample': 0.9588983977600529, 'colsample_bytree': 0.8767321292717601}. Best is trial 31 with value: 0.3481228668941979.\u001b[0m\n",
      "\u001b[32m[I 2022-01-26 11:05:57,055]\u001b[0m Trial 133 finished with value: 0.3204047217537943 and parameters: {'booster': 'dart', 'learning_rate': 0.07404395455461689, 'max_depth': 11, 'subsample': 0.9974123451419824, 'colsample_bytree': 0.9217657891998869}. Best is trial 31 with value: 0.3481228668941979.\u001b[0m\n",
      "\u001b[32m[I 2022-01-26 11:05:57,217]\u001b[0m Trial 134 finished with value: 0.29217391304347823 and parameters: {'booster': 'dart', 'learning_rate': 0.05428451695689067, 'max_depth': 11, 'subsample': 0.8862032450346228, 'colsample_bytree': 0.826206197893522}. Best is trial 31 with value: 0.3481228668941979.\u001b[0m\n",
      "\u001b[32m[I 2022-01-26 11:05:57,341]\u001b[0m Trial 135 finished with value: 0.22314049586776855 and parameters: {'booster': 'dart', 'learning_rate': 0.022466204219421103, 'max_depth': 10, 'subsample': 0.9294091552311605, 'colsample_bytree': 0.5087276528895828}. Best is trial 31 with value: 0.3481228668941979.\u001b[0m\n",
      "\u001b[32m[I 2022-01-26 11:05:57,508]\u001b[0m Trial 136 finished with value: 0.2973451327433628 and parameters: {'booster': 'dart', 'learning_rate': 0.07101598582726826, 'max_depth': 11, 'subsample': 0.8114356594971962, 'colsample_bytree': 0.9043903997886839}. Best is trial 31 with value: 0.3481228668941979.\u001b[0m\n",
      "\u001b[32m[I 2022-01-26 11:05:57,540]\u001b[0m Trial 137 finished with value: 0.0 and parameters: {'booster': 'gblinear', 'learning_rate': 0.010806900065662019, 'max_depth': 10, 'subsample': 0.9461988775826158, 'colsample_bytree': 0.9990345807543192}. Best is trial 31 with value: 0.3481228668941979.\u001b[0m\n",
      "\u001b[32m[I 2022-01-26 11:05:57,695]\u001b[0m Trial 138 finished with value: 0.3041144901610018 and parameters: {'booster': 'dart', 'learning_rate': 0.012407475015592176, 'max_depth': 11, 'subsample': 0.7692859445229214, 'colsample_bytree': 0.7723830597855693}. Best is trial 31 with value: 0.3481228668941979.\u001b[0m\n"
     ]
    },
    {
     "name": "stdout",
     "output_type": "stream",
     "text": [
      "[11:05:57] WARNING: C:/Users/Administrator/workspace/xgboost-win64_release_1.5.1/src/learner.cc:576: \n",
      "Parameters: { \"colsample_bytree\", \"max_depth\", \"subsample\" } might not be used.\n",
      "\n",
      "  This could be a false alarm, with some parameters getting used by language bindings but\n",
      "  then being mistakenly passed down to XGBoost core, or some parameter actually being used\n",
      "  but getting flagged wrongly here. Please open an issue if you find any such cases.\n",
      "\n",
      "\n"
     ]
    },
    {
     "name": "stderr",
     "output_type": "stream",
     "text": [
      "\u001b[32m[I 2022-01-26 11:05:57,856]\u001b[0m Trial 139 finished with value: 0.34103019538188273 and parameters: {'booster': 'dart', 'learning_rate': 0.013555660988004791, 'max_depth': 10, 'subsample': 0.7446775226004391, 'colsample_bytree': 0.9560984376261275}. Best is trial 31 with value: 0.3481228668941979.\u001b[0m\n",
      "\u001b[32m[I 2022-01-26 11:05:58,016]\u001b[0m Trial 140 finished with value: 0.3137254901960784 and parameters: {'booster': 'dart', 'learning_rate': 0.014144706849035123, 'max_depth': 10, 'subsample': 0.7963230204849308, 'colsample_bytree': 0.9577787265006652}. Best is trial 31 with value: 0.3481228668941979.\u001b[0m\n",
      "\u001b[32m[I 2022-01-26 11:05:58,176]\u001b[0m Trial 141 finished with value: 0.336283185840708 and parameters: {'booster': 'dart', 'learning_rate': 0.013209346442006938, 'max_depth': 10, 'subsample': 0.7460837167025646, 'colsample_bytree': 0.9775703512069341}. Best is trial 31 with value: 0.3481228668941979.\u001b[0m\n",
      "\u001b[32m[I 2022-01-26 11:05:58,330]\u001b[0m Trial 142 finished with value: 0.29981718464351004 and parameters: {'booster': 'dart', 'learning_rate': 0.015638310089250703, 'max_depth': 10, 'subsample': 0.6656013603058821, 'colsample_bytree': 0.9386284553902495}. Best is trial 31 with value: 0.3481228668941979.\u001b[0m\n",
      "\u001b[32m[I 2022-01-26 11:05:58,489]\u001b[0m Trial 143 finished with value: 0.34690265486725663 and parameters: {'booster': 'dart', 'learning_rate': 0.013162010222440965, 'max_depth': 10, 'subsample': 0.743847418626427, 'colsample_bytree': 0.9726947280194509}. Best is trial 31 with value: 0.3481228668941979.\u001b[0m\n",
      "\u001b[32m[I 2022-01-26 11:05:58,653]\u001b[0m Trial 144 finished with value: 0.34265734265734266 and parameters: {'booster': 'dart', 'learning_rate': 0.013486877450000226, 'max_depth': 10, 'subsample': 0.7452913317926987, 'colsample_bytree': 0.9794366369873662}. Best is trial 31 with value: 0.3481228668941979.\u001b[0m\n",
      "\u001b[32m[I 2022-01-26 11:05:58,800]\u001b[0m Trial 145 finished with value: 0.3082568807339449 and parameters: {'booster': 'dart', 'learning_rate': 0.013397572505135097, 'max_depth': 9, 'subsample': 0.751104810408917, 'colsample_bytree': 0.9795673631350404}. Best is trial 31 with value: 0.3481228668941979.\u001b[0m\n",
      "\u001b[32m[I 2022-01-26 11:05:58,958]\u001b[0m Trial 146 finished with value: 0.32326820603907636 and parameters: {'booster': 'dart', 'learning_rate': 0.012439755655686063, 'max_depth': 10, 'subsample': 0.7333627483588264, 'colsample_bytree': 0.9737358548765396}. Best is trial 31 with value: 0.3481228668941979.\u001b[0m\n",
      "\u001b[32m[I 2022-01-26 11:05:59,118]\u001b[0m Trial 147 finished with value: 0.31448763250883394 and parameters: {'booster': 'dart', 'learning_rate': 0.01359671990519496, 'max_depth': 10, 'subsample': 0.6823116269353169, 'colsample_bytree': 0.9879602049171194}. Best is trial 31 with value: 0.3481228668941979.\u001b[0m\n",
      "\u001b[32m[I 2022-01-26 11:05:59,261]\u001b[0m Trial 148 finished with value: 0.29038112522686027 and parameters: {'booster': 'dart', 'learning_rate': 0.011376850911964298, 'max_depth': 9, 'subsample': 0.7397643315836165, 'colsample_bytree': 0.9551266667129558}. Best is trial 31 with value: 0.3481228668941979.\u001b[0m\n",
      "\u001b[32m[I 2022-01-26 11:05:59,420]\u001b[0m Trial 149 finished with value: 0.32326820603907636 and parameters: {'booster': 'dart', 'learning_rate': 0.015286038457395934, 'max_depth': 10, 'subsample': 0.720057039106671, 'colsample_bytree': 0.9722782244668878}. Best is trial 31 with value: 0.3481228668941979.\u001b[0m\n",
      "\u001b[32m[I 2022-01-26 11:05:59,575]\u001b[0m Trial 150 finished with value: 0.32702237521514627 and parameters: {'booster': 'dart', 'learning_rate': 0.014678900748995855, 'max_depth': 10, 'subsample': 0.6001608332771691, 'colsample_bytree': 0.9496113182495763}. Best is trial 31 with value: 0.3481228668941979.\u001b[0m\n",
      "\u001b[32m[I 2022-01-26 11:05:59,731]\u001b[0m Trial 151 finished with value: 0.29173989455184535 and parameters: {'booster': 'dart', 'learning_rate': 0.01262621456681191, 'max_depth': 10, 'subsample': 0.7819086192066365, 'colsample_bytree': 0.925270071132444}. Best is trial 31 with value: 0.3481228668941979.\u001b[0m\n",
      "\u001b[32m[I 2022-01-26 11:05:59,889]\u001b[0m Trial 152 finished with value: 0.28725314183123873 and parameters: {'booster': 'dart', 'learning_rate': 0.013922995001663122, 'max_depth': 10, 'subsample': 0.7598457457074053, 'colsample_bytree': 0.9293135122194615}. Best is trial 31 with value: 0.3481228668941979.\u001b[0m\n",
      "\u001b[32m[I 2022-01-26 11:06:00,055]\u001b[0m Trial 153 finished with value: 0.328042328042328 and parameters: {'booster': 'dart', 'learning_rate': 0.016302617714811875, 'max_depth': 10, 'subsample': 0.6854062137803683, 'colsample_bytree': 0.9896213922073945}. Best is trial 31 with value: 0.3481228668941979.\u001b[0m\n",
      "\u001b[32m[I 2022-01-26 11:06:00,240]\u001b[0m Trial 154 finished with value: 0.3498233215547703 and parameters: {'booster': 'dart', 'learning_rate': 0.011630935489107671, 'max_depth': 10, 'subsample': 0.7100452901869614, 'colsample_bytree': 0.9999783047508155}. Best is trial 154 with value: 0.3498233215547703.\u001b[0m\n",
      "\u001b[32m[I 2022-01-26 11:06:00,399]\u001b[0m Trial 155 finished with value: 0.3188405797101449 and parameters: {'booster': 'dart', 'learning_rate': 0.010992689527480868, 'max_depth': 10, 'subsample': 0.7077637514021026, 'colsample_bytree': 0.9972745565774297}. Best is trial 154 with value: 0.3498233215547703.\u001b[0m\n",
      "\u001b[32m[I 2022-01-26 11:06:00,543]\u001b[0m Trial 156 finished with value: 0.28835489833641403 and parameters: {'booster': 'dart', 'learning_rate': 0.012203006671167131, 'max_depth': 9, 'subsample': 0.6471936487813017, 'colsample_bytree': 0.9589894162922078}. Best is trial 154 with value: 0.3498233215547703.\u001b[0m\n",
      "\u001b[32m[I 2022-01-26 11:06:00,702]\u001b[0m Trial 157 finished with value: 0.3093145869947276 and parameters: {'booster': 'dart', 'learning_rate': 0.011887486701417864, 'max_depth': 10, 'subsample': 0.7531034015029557, 'colsample_bytree': 0.9599534608727647}. Best is trial 154 with value: 0.3498233215547703.\u001b[0m\n",
      "\u001b[32m[I 2022-01-26 11:06:00,862]\u001b[0m Trial 158 finished with value: 0.31802120141342755 and parameters: {'booster': 'dart', 'learning_rate': 0.010267119525670778, 'max_depth': 10, 'subsample': 0.7346973351265365, 'colsample_bytree': 0.9747546650045732}. Best is trial 154 with value: 0.3498233215547703.\u001b[0m\n",
      "\u001b[32m[I 2022-01-26 11:06:00,918]\u001b[0m Trial 159 finished with value: 0.0 and parameters: {'booster': 'gbtree', 'learning_rate': 0.018369633430117292, 'max_depth': 3, 'subsample': 0.787024116129282, 'colsample_bytree': 0.9036160362159698}. Best is trial 154 with value: 0.3498233215547703.\u001b[0m\n",
      "\u001b[32m[I 2022-01-26 11:06:01,076]\u001b[0m Trial 160 finished with value: 0.2809611829944547 and parameters: {'booster': 'dart', 'learning_rate': 0.03048546514603293, 'max_depth': 10, 'subsample': 0.7001759613771154, 'colsample_bytree': 0.9385557326397761}. Best is trial 154 with value: 0.3498233215547703.\u001b[0m\n",
      "\u001b[32m[I 2022-01-26 11:06:01,232]\u001b[0m Trial 161 finished with value: 0.2815884476534296 and parameters: {'booster': 'dart', 'learning_rate': 0.013165539081241481, 'max_depth': 10, 'subsample': 0.774150238609701, 'colsample_bytree': 0.9122959877554159}. Best is trial 154 with value: 0.3498233215547703.\u001b[0m\n",
      "\u001b[32m[I 2022-01-26 11:06:01,365]\u001b[0m Trial 162 finished with value: 0.2954954954954955 and parameters: {'booster': 'dart', 'learning_rate': 0.049048597613296455, 'max_depth': 10, 'subsample': 0.3796994911628311, 'colsample_bytree': 0.8893723290672053}. Best is trial 154 with value: 0.3498233215547703.\u001b[0m\n",
      "\u001b[32m[I 2022-01-26 11:06:01,527]\u001b[0m Trial 163 finished with value: 0.30715532286212915 and parameters: {'booster': 'dart', 'learning_rate': 0.011273068067255481, 'max_depth': 10, 'subsample': 0.8385605038527537, 'colsample_bytree': 0.9993647215521454}. Best is trial 154 with value: 0.3498233215547703.\u001b[0m\n",
      "\u001b[32m[I 2022-01-26 11:06:01,690]\u001b[0m Trial 164 finished with value: 0.3074204946996466 and parameters: {'booster': 'dart', 'learning_rate': 0.09204116705484958, 'max_depth': 10, 'subsample': 0.8082316952161791, 'colsample_bytree': 0.946079492968361}. Best is trial 154 with value: 0.3498233215547703.\u001b[0m\n",
      "\u001b[32m[I 2022-01-26 11:06:01,833]\u001b[0m Trial 165 finished with value: 0.287292817679558 and parameters: {'booster': 'dart', 'learning_rate': 0.058236720759130896, 'max_depth': 9, 'subsample': 0.7406266569468721, 'colsample_bytree': 0.9210245734857031}. Best is trial 154 with value: 0.3498233215547703.\u001b[0m\n"
     ]
    },
    {
     "name": "stderr",
     "output_type": "stream",
     "text": [
      "\u001b[32m[I 2022-01-26 11:06:01,991]\u001b[0m Trial 166 finished with value: 0.32974910394265233 and parameters: {'booster': 'dart', 'learning_rate': 0.08906658753800809, 'max_depth': 10, 'subsample': 0.7904606535295403, 'colsample_bytree': 0.9729727494562528}. Best is trial 154 with value: 0.3498233215547703.\u001b[0m\n",
      "\u001b[32m[I 2022-01-26 11:06:02,146]\u001b[0m Trial 167 finished with value: 0.2877442273534636 and parameters: {'booster': 'dart', 'learning_rate': 0.03738908722516443, 'max_depth': 10, 'subsample': 0.8634760799488866, 'colsample_bytree': 0.8792158156362828}. Best is trial 154 with value: 0.3498233215547703.\u001b[0m\n",
      "\u001b[32m[I 2022-01-26 11:06:02,299]\u001b[0m Trial 168 finished with value: 0.3018181818181818 and parameters: {'booster': 'dart', 'learning_rate': 0.05345885157269113, 'max_depth': 10, 'subsample': 0.7173669022402294, 'colsample_bytree': 0.9304121983251377}. Best is trial 154 with value: 0.3498233215547703.\u001b[0m\n",
      "\u001b[32m[I 2022-01-26 11:06:02,332]\u001b[0m Trial 169 finished with value: 0.0 and parameters: {'booster': 'gblinear', 'learning_rate': 0.08378589960310366, 'max_depth': 11, 'subsample': 0.7620997001624181, 'colsample_bytree': 0.953856820490001}. Best is trial 154 with value: 0.3498233215547703.\u001b[0m\n"
     ]
    },
    {
     "name": "stdout",
     "output_type": "stream",
     "text": [
      "[11:06:02] WARNING: C:/Users/Administrator/workspace/xgboost-win64_release_1.5.1/src/learner.cc:576: \n",
      "Parameters: { \"colsample_bytree\", \"max_depth\", \"subsample\" } might not be used.\n",
      "\n",
      "  This could be a false alarm, with some parameters getting used by language bindings but\n",
      "  then being mistakenly passed down to XGBoost core, or some parameter actually being used\n",
      "  but getting flagged wrongly here. Please open an issue if you find any such cases.\n",
      "\n",
      "\n"
     ]
    },
    {
     "name": "stderr",
     "output_type": "stream",
     "text": [
      "\u001b[32m[I 2022-01-26 11:06:02,496]\u001b[0m Trial 170 finished with value: 0.313588850174216 and parameters: {'booster': 'dart', 'learning_rate': 0.013519522583896326, 'max_depth': 10, 'subsample': 0.8323975724144405, 'colsample_bytree': 0.980199031388242}. Best is trial 154 with value: 0.3498233215547703.\u001b[0m\n",
      "\u001b[32m[I 2022-01-26 11:06:02,660]\u001b[0m Trial 171 finished with value: 0.3527336860670193 and parameters: {'booster': 'dart', 'learning_rate': 0.013166673635867881, 'max_depth': 11, 'subsample': 0.8168318418208207, 'colsample_bytree': 0.8503182704149526}. Best is trial 171 with value: 0.3527336860670193.\u001b[0m\n",
      "\u001b[32m[I 2022-01-26 11:06:02,829]\u001b[0m Trial 172 finished with value: 0.3018181818181818 and parameters: {'booster': 'dart', 'learning_rate': 0.012948644102209689, 'max_depth': 11, 'subsample': 0.8049580252563902, 'colsample_bytree': 0.8471600988835493}. Best is trial 171 with value: 0.3527336860670193.\u001b[0m\n",
      "\u001b[32m[I 2022-01-26 11:06:02,998]\u001b[0m Trial 173 finished with value: 0.3350427350427351 and parameters: {'booster': 'dart', 'learning_rate': 0.012822397871907481, 'max_depth': 11, 'subsample': 0.8792057079656644, 'colsample_bytree': 0.8935247624396077}. Best is trial 171 with value: 0.3527336860670193.\u001b[0m\n",
      "\u001b[32m[I 2022-01-26 11:06:03,164]\u001b[0m Trial 174 finished with value: 0.32302405498281783 and parameters: {'booster': 'dart', 'learning_rate': 0.011708317059383225, 'max_depth': 11, 'subsample': 0.8833797678524622, 'colsample_bytree': 0.8663079938666963}. Best is trial 171 with value: 0.3527336860670193.\u001b[0m\n",
      "\u001b[32m[I 2022-01-26 11:06:03,331]\u001b[0m Trial 175 finished with value: 0.32291666666666663 and parameters: {'booster': 'dart', 'learning_rate': 0.01421576177818606, 'max_depth': 11, 'subsample': 0.9164361986633964, 'colsample_bytree': 0.8811304497922652}. Best is trial 171 with value: 0.3527336860670193.\u001b[0m\n",
      "\u001b[32m[I 2022-01-26 11:06:03,502]\u001b[0m Trial 176 finished with value: 0.3316412859560067 and parameters: {'booster': 'dart', 'learning_rate': 0.012652289985500926, 'max_depth': 11, 'subsample': 0.8532811737126019, 'colsample_bytree': 0.9013913409876473}. Best is trial 171 with value: 0.3527336860670193.\u001b[0m\n",
      "\u001b[32m[I 2022-01-26 11:06:03,665]\u001b[0m Trial 177 finished with value: 0.312829525483304 and parameters: {'booster': 'dart', 'learning_rate': 0.011970101792020222, 'max_depth': 11, 'subsample': 0.9769718225047718, 'colsample_bytree': 0.8045898266217764}. Best is trial 171 with value: 0.3527336860670193.\u001b[0m\n",
      "\u001b[32m[I 2022-01-26 11:06:03,841]\u001b[0m Trial 178 finished with value: 0.31472081218274106 and parameters: {'booster': 'dart', 'learning_rate': 0.013657639294061231, 'max_depth': 11, 'subsample': 0.895693134844262, 'colsample_bytree': 0.9424661069278504}. Best is trial 171 with value: 0.3527336860670193.\u001b[0m\n",
      "\u001b[32m[I 2022-01-26 11:06:04,022]\u001b[0m Trial 179 finished with value: 0.30127041742286753 and parameters: {'booster': 'dart', 'learning_rate': 0.015119550387539347, 'max_depth': 11, 'subsample': 0.9379762484367966, 'colsample_bytree': 0.8433573340586693}. Best is trial 171 with value: 0.3527336860670193.\u001b[0m\n",
      "\u001b[32m[I 2022-01-26 11:06:04,186]\u001b[0m Trial 180 finished with value: 0.3198594024604569 and parameters: {'booster': 'dart', 'learning_rate': 0.010649672485893855, 'max_depth': 8, 'subsample': 0.8758550642569916, 'colsample_bytree': 0.9645600094457815}. Best is trial 171 with value: 0.3527336860670193.\u001b[0m\n",
      "\u001b[32m[I 2022-01-26 11:06:04,354]\u001b[0m Trial 181 finished with value: 0.30220713073005095 and parameters: {'booster': 'dart', 'learning_rate': 0.012692814659043239, 'max_depth': 11, 'subsample': 0.8513483861327782, 'colsample_bytree': 0.8979746346563184}. Best is trial 171 with value: 0.3527336860670193.\u001b[0m\n",
      "\u001b[32m[I 2022-01-26 11:06:04,525]\u001b[0m Trial 182 finished with value: 0.325503355704698 and parameters: {'booster': 'dart', 'learning_rate': 0.012838343083901523, 'max_depth': 11, 'subsample': 0.8421702214891614, 'colsample_bytree': 0.9027534382426957}. Best is trial 171 with value: 0.3527336860670193.\u001b[0m\n",
      "\u001b[32m[I 2022-01-26 11:06:04,705]\u001b[0m Trial 183 finished with value: 0.3159722222222222 and parameters: {'booster': 'dart', 'learning_rate': 0.012352313335282828, 'max_depth': 11, 'subsample': 0.8549746546214336, 'colsample_bytree': 0.8588372000147524}. Best is trial 171 with value: 0.3527336860670193.\u001b[0m\n",
      "\u001b[32m[I 2022-01-26 11:06:04,815]\u001b[0m Trial 184 finished with value: 0.28089887640449435 and parameters: {'booster': 'dart', 'learning_rate': 0.014479819055396902, 'max_depth': 11, 'subsample': 0.14349868493545292, 'colsample_bytree': 0.9183201814752875}. Best is trial 171 with value: 0.3527336860670193.\u001b[0m\n",
      "\u001b[32m[I 2022-01-26 11:06:04,982]\u001b[0m Trial 185 finished with value: 0.3451776649746192 and parameters: {'booster': 'dart', 'learning_rate': 0.013709428929782266, 'max_depth': 11, 'subsample': 0.8986271502894434, 'colsample_bytree': 0.8810991312459929}. Best is trial 171 with value: 0.3527336860670193.\u001b[0m\n",
      "\u001b[32m[I 2022-01-26 11:06:05,157]\u001b[0m Trial 186 finished with value: 0.30689655172413793 and parameters: {'booster': 'dart', 'learning_rate': 0.09591165373047363, 'max_depth': 11, 'subsample': 0.9564259985695223, 'colsample_bytree': 0.8701306286735446}. Best is trial 171 with value: 0.3527336860670193.\u001b[0m\n",
      "\u001b[32m[I 2022-01-26 11:06:05,312]\u001b[0m Trial 187 finished with value: 0.2289156626506024 and parameters: {'booster': 'dart', 'learning_rate': 0.013816782809672598, 'max_depth': 11, 'subsample': 0.904085199786126, 'colsample_bytree': 0.4286470746294474}. Best is trial 171 with value: 0.3527336860670193.\u001b[0m\n",
      "\u001b[32m[I 2022-01-26 11:06:05,397]\u001b[0m Trial 188 finished with value: 0.0 and parameters: {'booster': 'dart', 'learning_rate': 0.026763657917719588, 'max_depth': 4, 'subsample': 0.9247585117710355, 'colsample_bytree': 0.999851743195384}. Best is trial 171 with value: 0.3527336860670193.\u001b[0m\n",
      "\u001b[32m[I 2022-01-26 11:06:05,521]\u001b[0m Trial 189 finished with value: 0.2774566473988439 and parameters: {'booster': 'dart', 'learning_rate': 0.011518364396668118, 'max_depth': 10, 'subsample': 0.2522714754368593, 'colsample_bytree': 0.9373403330698088}. Best is trial 171 with value: 0.3527336860670193.\u001b[0m\n",
      "\u001b[32m[I 2022-01-26 11:06:05,678]\u001b[0m Trial 190 finished with value: 0.3071428571428571 and parameters: {'booster': 'dart', 'learning_rate': 0.020116546162249494, 'max_depth': 11, 'subsample': 0.5456396237753854, 'colsample_bytree': 0.8853198649764632}. Best is trial 171 with value: 0.3527336860670193.\u001b[0m\n",
      "\u001b[32m[I 2022-01-26 11:06:05,850]\u001b[0m Trial 191 finished with value: 0.3416252072968491 and parameters: {'booster': 'dart', 'learning_rate': 0.013146287727568028, 'max_depth': 11, 'subsample': 0.8770037530893079, 'colsample_bytree': 0.9029341140538191}. Best is trial 171 with value: 0.3527336860670193.\u001b[0m\n",
      "\u001b[32m[I 2022-01-26 11:06:06,025]\u001b[0m Trial 192 finished with value: 0.32695652173913037 and parameters: {'booster': 'dart', 'learning_rate': 0.013228754183827381, 'max_depth': 11, 'subsample': 0.8856097468397738, 'colsample_bytree': 0.8362332313815287}. Best is trial 171 with value: 0.3527336860670193.\u001b[0m\n",
      "\u001b[32m[I 2022-01-26 11:06:06,205]\u001b[0m Trial 193 finished with value: 0.3051409618573797 and parameters: {'booster': 'dart', 'learning_rate': 0.035465296125898896, 'max_depth': 11, 'subsample': 0.9062033593519928, 'colsample_bytree': 0.9668925986720068}. Best is trial 171 with value: 0.3527336860670193.\u001b[0m\n",
      "\u001b[32m[I 2022-01-26 11:06:06,373]\u001b[0m Trial 194 finished with value: 0.3275261324041812 and parameters: {'booster': 'dart', 'learning_rate': 0.014393106037630408, 'max_depth': 11, 'subsample': 0.979367948566794, 'colsample_bytree': 0.8581861043822984}. Best is trial 171 with value: 0.3527336860670193.\u001b[0m\n",
      "\u001b[32m[I 2022-01-26 11:06:06,509]\u001b[0m Trial 195 finished with value: 0.3046594982078853 and parameters: {'booster': 'gbtree', 'learning_rate': 0.015882891673293407, 'max_depth': 10, 'subsample': 0.8253448609010892, 'colsample_bytree': 0.9261198168626474}. Best is trial 171 with value: 0.3527336860670193.\u001b[0m\n",
      "\u001b[32m[I 2022-01-26 11:06:06,674]\u001b[0m Trial 196 finished with value: 0.3197278911564626 and parameters: {'booster': 'dart', 'learning_rate': 0.012123584073328345, 'max_depth': 10, 'subsample': 0.8800208626317595, 'colsample_bytree': 0.9811628846082433}. Best is trial 171 with value: 0.3527336860670193.\u001b[0m\n"
     ]
    },
    {
     "name": "stderr",
     "output_type": "stream",
     "text": [
      "\u001b[32m[I 2022-01-26 11:06:06,853]\u001b[0m Trial 197 finished with value: 0.333843797856049 and parameters: {'booster': 'dart', 'learning_rate': 0.013274706775473629, 'max_depth': 11, 'subsample': 0.9971433797576239, 'colsample_bytree': 0.9548489279693334}. Best is trial 171 with value: 0.3527336860670193.\u001b[0m\n",
      "\u001b[32m[I 2022-01-26 11:06:07,033]\u001b[0m Trial 198 finished with value: 0.3220858895705521 and parameters: {'booster': 'dart', 'learning_rate': 0.013392504165912159, 'max_depth': 11, 'subsample': 0.9995928587570918, 'colsample_bytree': 0.9426567112095209}. Best is trial 171 with value: 0.3527336860670193.\u001b[0m\n",
      "\u001b[32m[I 2022-01-26 11:06:07,234]\u001b[0m Trial 199 finished with value: 0.3142389525368249 and parameters: {'booster': 'dart', 'learning_rate': 0.014031967954628693, 'max_depth': 11, 'subsample': 0.9610034822137284, 'colsample_bytree': 0.9568253286809626}. Best is trial 171 with value: 0.3527336860670193.\u001b[0m\n"
     ]
    }
   ],
   "source": [
    "import xgboost as xgb\n",
    "dtrain = xgb.DMatrix(X_train, label=y_train)\n",
    "dvalid = xgb.DMatrix(X_test, label=y_test)\n",
    "\n",
    "def objective(trial):\n",
    "    params = {\n",
    "        'booster':trial.suggest_categorical('booster', ['gbtree', 'dart', 'gblinear']),\n",
    "        'learning_rate':trial.suggest_loguniform(\"learning_rate\", 0.01, 0.1),\n",
    "        'max_depth':trial.suggest_int(\"max_depth\", 3, 11),\n",
    "        'subsample':trial.suggest_uniform(\"subsample\", 0.0, 1.0),\n",
    "        'colsample_bytree':trial.suggest_uniform(\"colsample_bytree\", 0.0, 1.0),\n",
    "    }\n",
    "    \n",
    "    bst = xgb.train(params, dtrain)\n",
    "    preds = bst.predict(dvalid)\n",
    "    pred_labels = np.rint(preds)\n",
    "    # accuracy = accuracy_score(y_test, pred_labels)\n",
    "    f1_scores = f1_score(y_test, pred_labels)\n",
    "    return f1_scores\n",
    "\n",
    "\n",
    "study = optuna.create_study(direction=\"maximize\")\n",
    "study.optimize(objective, n_trials=200, timeout=600)"
   ]
  },
  {
   "cell_type": "code",
   "execution_count": 43,
   "id": "2577b8dd",
   "metadata": {},
   "outputs": [
    {
     "name": "stderr",
     "output_type": "stream",
     "text": [
      "C:\\Users\\u1-510\\Anaconda3\\lib\\site-packages\\xgboost\\sklearn.py:1224: UserWarning: The use of label encoder in XGBClassifier is deprecated and will be removed in a future release. To remove this warning, do the following: 1) Pass option use_label_encoder=False when constructing XGBClassifier object; and 2) Encode your labels (y) as integers starting with 0, i.e. 0, 1, 2, ..., [num_class - 1].\n",
      "  warnings.warn(label_encoder_deprecation_msg, UserWarning)\n"
     ]
    },
    {
     "name": "stdout",
     "output_type": "stream",
     "text": [
      "[11:06:13] WARNING: C:/Users/Administrator/workspace/xgboost-win64_release_1.5.1/src/learner.cc:1115: Starting in XGBoost 1.3.0, the default evaluation metric used with the objective 'binary:logistic' was changed from 'error' to 'logloss'. Explicitly set eval_metric if you'd like to restore the old behavior.\n",
      "Optimized SuperLearner accuracy:  0.9546783625730995\n",
      "Optimized SuperLearner f1-score:  0.6858108108108109\n",
      "Number of finished trials:  200\n",
      "Best trial:\n",
      "  Value: 0.3527336860670193\n",
      "  Params: \n",
      "    booster: dart\n",
      "    learning_rate: 0.013166673635867881\n",
      "    max_depth: 11\n",
      "    subsample: 0.8168318418208207\n",
      "    colsample_bytree: 0.8503182704149526\n"
     ]
    }
   ],
   "source": [
    "new_params = study.best_params\n",
    "\n",
    "new_model2 = XGBClassifier(**new_params)\n",
    "new_model2.fit(X, y)\n",
    "preds = new_model2.predict(X_test)\n",
    "\n",
    "print('Optimized SuperLearner accuracy: ', accuracy_score(y_test, preds))\n",
    "print('Optimized SuperLearner f1-score: ', f1_score(y_test, preds))\n",
    "\n",
    "print(\"Number of finished trials: \", len(study.trials))\n",
    "print(\"Best trial:\")\n",
    "trial = study.best_trial\n",
    "\n",
    "print(\"  Value: {}\".format(trial.value))\n",
    "print(\"  Params: \")\n",
    "for key, value in trial.params.items():\n",
    "    print(\"    {}: {}\".format(key, value))"
   ]
  },
  {
   "cell_type": "code",
   "execution_count": 44,
   "id": "2d189505",
   "metadata": {},
   "outputs": [
    {
     "name": "stderr",
     "output_type": "stream",
     "text": [
      "C:\\Users\\u1-510\\Anaconda3\\lib\\site-packages\\xgboost\\sklearn.py:1224: UserWarning: The use of label encoder in XGBClassifier is deprecated and will be removed in a future release. To remove this warning, do the following: 1) Pass option use_label_encoder=False when constructing XGBClassifier object; and 2) Encode your labels (y) as integers starting with 0, i.e. 0, 1, 2, ..., [num_class - 1].\n",
      "  warnings.warn(label_encoder_deprecation_msg, UserWarning)\n"
     ]
    },
    {
     "name": "stdout",
     "output_type": "stream",
     "text": [
      "[11:06:43] WARNING: C:/Users/Administrator/workspace/xgboost-win64_release_1.5.1/src/learner.cc:1115: Starting in XGBoost 1.3.0, the default evaluation metric used with the objective 'binary:logistic' was changed from 'error' to 'logloss'. Explicitly set eval_metric if you'd like to restore the old behavior.\n"
     ]
    },
    {
     "name": "stderr",
     "output_type": "stream",
     "text": [
      "C:\\Users\\u1-510\\Anaconda3\\lib\\site-packages\\xgboost\\sklearn.py:1224: UserWarning: The use of label encoder in XGBClassifier is deprecated and will be removed in a future release. To remove this warning, do the following: 1) Pass option use_label_encoder=False when constructing XGBClassifier object; and 2) Encode your labels (y) as integers starting with 0, i.e. 0, 1, 2, ..., [num_class - 1].\n",
      "  warnings.warn(label_encoder_deprecation_msg, UserWarning)\n"
     ]
    },
    {
     "name": "stdout",
     "output_type": "stream",
     "text": [
      "[11:06:48] WARNING: C:/Users/Administrator/workspace/xgboost-win64_release_1.5.1/src/learner.cc:1115: Starting in XGBoost 1.3.0, the default evaluation metric used with the objective 'binary:logistic' was changed from 'error' to 'logloss'. Explicitly set eval_metric if you'd like to restore the old behavior.\n"
     ]
    },
    {
     "name": "stderr",
     "output_type": "stream",
     "text": [
      "C:\\Users\\u1-510\\Anaconda3\\lib\\site-packages\\xgboost\\sklearn.py:1224: UserWarning: The use of label encoder in XGBClassifier is deprecated and will be removed in a future release. To remove this warning, do the following: 1) Pass option use_label_encoder=False when constructing XGBClassifier object; and 2) Encode your labels (y) as integers starting with 0, i.e. 0, 1, 2, ..., [num_class - 1].\n",
      "  warnings.warn(label_encoder_deprecation_msg, UserWarning)\n"
     ]
    },
    {
     "name": "stdout",
     "output_type": "stream",
     "text": [
      "[11:06:54] WARNING: C:/Users/Administrator/workspace/xgboost-win64_release_1.5.1/src/learner.cc:1115: Starting in XGBoost 1.3.0, the default evaluation metric used with the objective 'binary:logistic' was changed from 'error' to 'logloss'. Explicitly set eval_metric if you'd like to restore the old behavior.\n",
      "\n",
      "\n",
      "Accuracy is the measure of how often the model is correct.\n",
      "\n",
      "All of accuracies are \n",
      " [0.91 0.9  0.91]\n",
      "\n",
      "Mean of accuracies \n",
      " 0.904030910609858\n",
      "\n",
      "Standart deviation of accuracies \n",
      " % 0.30517208012118596\n"
     ]
    }
   ],
   "source": [
    "all_accuracies = cross_val_score(estimator=new_model, X=X_train, y=y_train, cv=3)\n",
    "\n",
    "print(\"\\n\\nAccuracy is the measure of how often the model is correct.\\n\")\n",
    "\n",
    "print(\"All of accuracies are \\n\", all_accuracies)\n",
    "print(\"\\nMean of accuracies \\n\", all_accuracies.mean())\n",
    "print(\"\\nStandart deviation of accuracies \\n %\", ( all_accuracies.std() * 100))"
   ]
  },
  {
   "cell_type": "code",
   "execution_count": 45,
   "id": "19d95057",
   "metadata": {},
   "outputs": [
    {
     "data": {
      "image/png": "[encoded data removed]",
      "text/plain": [
       "<Figure size 360x360 with 1 Axes>"
      ]
     },
     "metadata": {},
     "output_type": "display_data"
    }
   ],
   "source": [
    "# Use predict_proba to predict probability of the class\n",
    "y_pred = new_model.predict_proba(X_test)[:,1]\n",
    "\n",
    "from plot_metric.functions import BinaryClassification\n",
    "# Visualisation with plot_metric\n",
    "bc = BinaryClassification(y_test, y_pred, labels=[\"Class 1\", \"Class 2\"])\n",
    "\n",
    "# Figures\n",
    "plt.figure(figsize=(5,5))\n",
    "bc.plot_roc_curve()\n",
    "plt.show()"
   ]
  },
  {
   "cell_type": "code",
   "execution_count": 48,
   "id": "4ed37702",
   "metadata": {},
   "outputs": [
    {
     "data": {
      "text/html": [
       "<div>\n",
       "<style scoped>\n",
       "    .dataframe tbody tr th:only-of-type {\n",
       "        vertical-align: middle;\n",
       "    }\n",
       "\n",
       "    .dataframe tbody tr th {\n",
       "        vertical-align: top;\n",
       "    }\n",
       "\n",
       "    .dataframe thead th {\n",
       "        text-align: right;\n",
       "    }\n",
       "</style>\n",
       "<table border=\"1\" class=\"dataframe\">\n",
       "  <thead>\n",
       "    <tr style=\"text-align: right;\">\n",
       "      <th></th>\n",
       "      <th>columns</th>\n",
       "      <th>importances</th>\n",
       "    </tr>\n",
       "  </thead>\n",
       "  <tbody>\n",
       "    <tr>\n",
       "      <th>78</th>\n",
       "      <td>CR_inst_open_segment_101150</td>\n",
       "      <td>0.047350</td>\n",
       "    </tr>\n",
       "    <tr>\n",
       "      <th>9</th>\n",
       "      <td>CR_open_reg</td>\n",
       "      <td>0.035215</td>\n",
       "    </tr>\n",
       "    <tr>\n",
       "      <th>23</th>\n",
       "      <td>CPC_segment_081090</td>\n",
       "      <td>0.034821</td>\n",
       "    </tr>\n",
       "    <tr>\n",
       "      <th>6</th>\n",
       "      <td>Reg_cost</td>\n",
       "      <td>0.030327</td>\n",
       "    </tr>\n",
       "    <tr>\n",
       "      <th>77</th>\n",
       "      <td>CR_inst_open_segment_000100</td>\n",
       "      <td>0.030180</td>\n",
       "    </tr>\n",
       "    <tr>\n",
       "      <th>65</th>\n",
       "      <td>CTR_cost_segment_141150</td>\n",
       "      <td>0.025934</td>\n",
       "    </tr>\n",
       "    <tr>\n",
       "      <th>54</th>\n",
       "      <td>CTR_cost_segment_031040</td>\n",
       "      <td>0.024297</td>\n",
       "    </tr>\n",
       "    <tr>\n",
       "      <th>79</th>\n",
       "      <td>CR_inst_open_segment_151200</td>\n",
       "      <td>0.024222</td>\n",
       "    </tr>\n",
       "    <tr>\n",
       "      <th>45</th>\n",
       "      <td>Reg_cost_segment_501601</td>\n",
       "      <td>0.022773</td>\n",
       "    </tr>\n",
       "    <tr>\n",
       "      <th>64</th>\n",
       "      <td>CTR_cost_segment_131140</td>\n",
       "      <td>0.022705</td>\n",
       "    </tr>\n",
       "    <tr>\n",
       "      <th>47</th>\n",
       "      <td>Reg_cost_segment_801900</td>\n",
       "      <td>0.021098</td>\n",
       "    </tr>\n",
       "    <tr>\n",
       "      <th>29</th>\n",
       "      <td>Inst_cost_segment_151200</td>\n",
       "      <td>0.020841</td>\n",
       "    </tr>\n",
       "    <tr>\n",
       "      <th>46</th>\n",
       "      <td>Reg_cost_segment_701800</td>\n",
       "      <td>0.018241</td>\n",
       "    </tr>\n",
       "    <tr>\n",
       "      <th>61</th>\n",
       "      <td>CTR_cost_segment_101110</td>\n",
       "      <td>0.017651</td>\n",
       "    </tr>\n",
       "    <tr>\n",
       "      <th>56</th>\n",
       "      <td>CTR_cost_segment_051060</td>\n",
       "      <td>0.016417</td>\n",
       "    </tr>\n",
       "    <tr>\n",
       "      <th>48</th>\n",
       "      <td>Reg_cost_segment_9011000</td>\n",
       "      <td>0.016165</td>\n",
       "    </tr>\n",
       "    <tr>\n",
       "      <th>20</th>\n",
       "      <td>CPC_segment_041050</td>\n",
       "      <td>0.016073</td>\n",
       "    </tr>\n",
       "    <tr>\n",
       "      <th>24</th>\n",
       "      <td>CPC_segment_091100</td>\n",
       "      <td>0.015217</td>\n",
       "    </tr>\n",
       "    <tr>\n",
       "      <th>53</th>\n",
       "      <td>CTR_cost_segment_021030</td>\n",
       "      <td>0.015124</td>\n",
       "    </tr>\n",
       "    <tr>\n",
       "      <th>58</th>\n",
       "      <td>CTR_cost_segment_071080</td>\n",
       "      <td>0.015074</td>\n",
       "    </tr>\n",
       "  </tbody>\n",
       "</table>\n",
       "</div>"
      ],
      "text/plain": [
       "                        columns  importances\n",
       "78  CR_inst_open_segment_101150     0.047350\n",
       "9                   CR_open_reg     0.035215\n",
       "23           CPC_segment_081090     0.034821\n",
       "6                      Reg_cost     0.030327\n",
       "77  CR_inst_open_segment_000100     0.030180\n",
       "65      CTR_cost_segment_141150     0.025934\n",
       "54      CTR_cost_segment_031040     0.024297\n",
       "79  CR_inst_open_segment_151200     0.024222\n",
       "45      Reg_cost_segment_501601     0.022773\n",
       "64      CTR_cost_segment_131140     0.022705\n",
       "47      Reg_cost_segment_801900     0.021098\n",
       "29     Inst_cost_segment_151200     0.020841\n",
       "46      Reg_cost_segment_701800     0.018241\n",
       "61      CTR_cost_segment_101110     0.017651\n",
       "56      CTR_cost_segment_051060     0.016417\n",
       "48     Reg_cost_segment_9011000     0.016165\n",
       "20           CPC_segment_041050     0.016073\n",
       "24           CPC_segment_091100     0.015217\n",
       "53      CTR_cost_segment_021030     0.015124\n",
       "58      CTR_cost_segment_071080     0.015074"
      ]
     },
     "execution_count": 48,
     "metadata": {},
     "output_type": "execute_result"
    }
   ],
   "source": [
    "results=pd.DataFrame()\n",
    "results['columns']=X.columns\n",
    "results['importances'] = new_model.feature_importances_\n",
    "results.sort_values(by='importances',ascending=False,inplace=True)\n",
    "\n",
    "results[:20]"
   ]
  },
  {
   "cell_type": "code",
   "execution_count": 85,
   "id": "8455d5f1",
   "metadata": {},
   "outputs": [],
   "source": [
    "# save in JSON format\n",
    "new_model.save_model(\"model_sklearn.json\")"
   ]
  },
  {
   "cell_type": "code",
   "execution_count": 87,
   "id": "8d1f01f9",
   "metadata": {},
   "outputs": [],
   "source": [
    "model2 = xgb.XGBClassifier()\n",
    "model2.load_model(\"model_sklearn.json\")"
   ]
  },
  {
   "cell_type": "code",
   "execution_count": 88,
   "id": "6d9bbd06",
   "metadata": {},
   "outputs": [
    {
     "data": {
      "image/png": "[encoded data removed]",
      "text/plain": [
       "<Figure size 360x360 with 1 Axes>"
      ]
     },
     "metadata": {},
     "output_type": "display_data"
    }
   ],
   "source": [
    "# Use predict_proba to predict probability of the class\n",
    "y_pred = model2.predict_proba(X_test)[:,1]\n",
    "\n",
    "from plot_metric.functions import BinaryClassification\n",
    "# Visualisation with plot_metric\n",
    "bc = BinaryClassification(y_test, y_pred, labels=[\"Class 1\", \"Class 2\"])\n",
    "\n",
    "# Figures\n",
    "plt.figure(figsize=(5,5))\n",
    "bc.plot_roc_curve()\n",
    "plt.show()"
   ]
  },
  {
   "cell_type": "code",
   "execution_count": 90,
   "id": "81a3ce95",
   "metadata": {},
   "outputs": [
    {
     "name": "stdout",
     "output_type": "stream",
     "text": [
      "0.9546783625730995\n",
      "[[3715   11]\n",
      " [ 175  203]]\n"
     ]
    }
   ],
   "source": [
    "print(accuracy_score(y_test,preds))\n",
    "print(confusion_matrix(y_test,preds))"
   ]
  }
 ],
 "metadata": {
  "kernelspec": {
   "display_name": "Python 3",
   "language": "python",
   "name": "python3"
  },
  "language_info": {
   "codemirror_mode": {
    "name": "ipython",
    "version": 3
   },
   "file_extension": ".py",
   "mimetype": "text/x-python",
   "name": "python",
   "nbconvert_exporter": "python",
   "pygments_lexer": "ipython3",
   "version": "3.8.8"
  }
 },
 "nbformat": 4,
 "nbformat_minor": 5
}
