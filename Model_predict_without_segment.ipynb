{
 "cells": [
  {
   "cell_type": "code",
   "execution_count": 59,
   "id": "ee74e785",
   "metadata": {},
   "outputs": [],
   "source": [
    "# data analysis and wrangling\n",
    "import pandas as pd\n",
    "import numpy as np\n",
    "import re\n",
    "import datetime as dt\n",
    "\n",
    "# # visualization\n",
    "# import seaborn as sns\n",
    "# import matplotlib.pyplot as plt\n",
    "# %matplotlib inline\n",
    "\n",
    "# Writing multiple dataframes to worksheets using Pandas and XlsxWriter\n",
    "import xlsxwriter\n",
    "import glob\n",
    "\n",
    "# !pip install xlsxwriter\n",
    "# !pip install glob"
   ]
  },
  {
   "cell_type": "code",
   "execution_count": 60,
   "id": "d931a20c",
   "metadata": {},
   "outputs": [],
   "source": [
    "xls = pd.ExcelFile(r'C:\\Users\\u1-510\\Desktop\\Python\\Untitled Folder\\Analysis_Сonversion.xlsx')\n",
    "df = pd.read_excel(xls, 'Segment')"
   ]
  },
  {
   "cell_type": "code",
   "execution_count": 3,
   "id": "211fb064",
   "metadata": {},
   "outputs": [],
   "source": [
    "import re\n",
    "df = df.rename(columns = lambda x:re.sub('[^A-Za-z0-9_]+', '', x))"
   ]
  },
  {
   "cell_type": "code",
   "execution_count": 4,
   "id": "ee3896ad",
   "metadata": {},
   "outputs": [],
   "source": [
    "df = df.query(\"(Geo=='KZ') | (Geo=='RU') | (Geo=='UA')\")"
   ]
  },
  {
   "cell_type": "code",
   "execution_count": 5,
   "id": "023e78e1",
   "metadata": {},
   "outputs": [],
   "source": [
    "df = df.query(\"Network=='Видео на YouTube'\")"
   ]
  },
  {
   "cell_type": "code",
   "execution_count": 6,
   "id": "74779049",
   "metadata": {},
   "outputs": [],
   "source": [
    "# Только номер креатива\n",
    "df['Creo_group'] = df['Creo'].str.split('(\\d+)([A-Za-z]+)', expand=True).loc[:,[1]]"
   ]
  },
  {
   "cell_type": "code",
   "execution_count": 7,
   "id": "861c9005",
   "metadata": {},
   "outputs": [],
   "source": [
    "def ftd_target(el):\n",
    "    if el > 0:\n",
    "        return 1\n",
    "    else:\n",
    "        return 0"
   ]
  },
  {
   "cell_type": "code",
   "execution_count": 8,
   "id": "6fb26e4c",
   "metadata": {},
   "outputs": [],
   "source": [
    "df['Target'] = df['FTD'].map(ftd_target)"
   ]
  },
  {
   "cell_type": "code",
   "execution_count": 9,
   "id": "c2e1d5ac",
   "metadata": {},
   "outputs": [
    {
     "data": {
      "text/plain": [
       "<AxesSubplot:>"
      ]
     },
     "execution_count": 9,
     "metadata": {},
     "output_type": "execute_result"
    },
    {
     "data": {
      "image/png": "[encoded data removed]",
      "text/plain": [
       "<Figure size 432x288 with 1 Axes>"
      ]
     },
     "metadata": {
      "needs_background": "light"
     },
     "output_type": "display_data"
    }
   ],
   "source": [
    "df['Target'].hist()"
   ]
  },
  {
   "cell_type": "code",
   "execution_count": 10,
   "id": "cefd619b",
   "metadata": {},
   "outputs": [
    {
     "data": {
      "text/html": [
       "<div>\n",
       "<style scoped>\n",
       "    .dataframe tbody tr th:only-of-type {\n",
       "        vertical-align: middle;\n",
       "    }\n",
       "\n",
       "    .dataframe tbody tr th {\n",
       "        vertical-align: top;\n",
       "    }\n",
       "\n",
       "    .dataframe thead th {\n",
       "        text-align: right;\n",
       "    }\n",
       "</style>\n",
       "<table border=\"1\" class=\"dataframe\">\n",
       "  <thead>\n",
       "    <tr style=\"text-align: right;\">\n",
       "      <th></th>\n",
       "      <th>index</th>\n",
       "      <th>Target</th>\n",
       "    </tr>\n",
       "  </thead>\n",
       "  <tbody>\n",
       "    <tr>\n",
       "      <th>0</th>\n",
       "      <td>0</td>\n",
       "      <td>12419</td>\n",
       "    </tr>\n",
       "    <tr>\n",
       "      <th>1</th>\n",
       "      <td>1</td>\n",
       "      <td>1261</td>\n",
       "    </tr>\n",
       "  </tbody>\n",
       "</table>\n",
       "</div>"
      ],
      "text/plain": [
       "   index  Target\n",
       "0      0   12419\n",
       "1      1    1261"
      ]
     },
     "execution_count": 10,
     "metadata": {},
     "output_type": "execute_result"
    }
   ],
   "source": [
    "df.Target.value_counts().reset_index()"
   ]
  },
  {
   "cell_type": "code",
   "execution_count": 11,
   "id": "e31559b2",
   "metadata": {},
   "outputs": [],
   "source": [
    "tgt_train = df.copy()"
   ]
  },
  {
   "cell_type": "code",
   "execution_count": 12,
   "id": "3ff30ba4",
   "metadata": {},
   "outputs": [],
   "source": [
    "tgt_train['Campaign'] = tgt_train['ADS'].astype(str) + ' ' +  tgt_train['Camp'].astype(str) + ' ' + tgt_train['Ad_group'].astype(str) + ' ' + tgt_train['Date'].astype(str)"
   ]
  },
  {
   "cell_type": "code",
   "execution_count": 13,
   "id": "3176b2b9",
   "metadata": {},
   "outputs": [],
   "source": [
    "tgt_train = tgt_train.reset_index(drop=True)"
   ]
  },
  {
   "cell_type": "code",
   "execution_count": 14,
   "id": "d041f97b",
   "metadata": {},
   "outputs": [],
   "source": [
    "# # Словарь класификации\n",
    "# codes_cats = tgt_train.Campaign.astype('category')\n",
    "# dict_cats = dict(enumerate(codes_cats.cat.categories))"
   ]
  },
  {
   "cell_type": "code",
   "execution_count": 15,
   "id": "a3171df4",
   "metadata": {},
   "outputs": [],
   "source": [
    "# # Присвоенные cat.codes\n",
    "# tgt_train['ID'] = tgt_train.Campaign.astype('category').cat.codes\n",
    "\n",
    "# # Розшифровка\n",
    "# #df_group['level_back'] = df_group['ID'].map(dict_cats)"
   ]
  },
  {
   "cell_type": "code",
   "execution_count": 16,
   "id": "07589143",
   "metadata": {},
   "outputs": [
    {
     "data": {
      "text/plain": [
       "Index(['Geo', 'Network', 'Optimization', 'Creo', 'Brand',\n",
       "       'Ad_group_target_CPA', 'ADS', 'Camp', 'Ad_group', 'App', 'Date',\n",
       "       'Cost_USD', 'Cost', 'Show', 'Clicks', 'Install', 'Firstopen',\n",
       "       'Registration', 'FTD', 'CPM', 'CPM_segment', 'CPC', 'CPC_segment',\n",
       "       'Inst_cost', 'Inst_cost_segment', 'Inst_cost_segment_AU_DE',\n",
       "       'Open_cost', 'Open_cost_segment', 'Open_cost_segment_AU_DE', 'Reg_cost',\n",
       "       'Reg_cost_segment', 'Reg_cost_segment_AU_DE', 'FTD_cost', 'CTR',\n",
       "       'CTR_cost_segment', 'CR_click_inst', 'CR_click_inst_segment',\n",
       "       'CR_inst_open', 'CR_inst_open_segment', 'CR_open_reg',\n",
       "       'CR_open_reg_segment', 'CR_reg_ftd', 'CR_reg_ftd_segment',\n",
       "       'CPA_segment', 'Creo_group', 'Target', 'Campaign'],\n",
       "      dtype='object')"
      ]
     },
     "execution_count": 16,
     "metadata": {},
     "output_type": "execute_result"
    }
   ],
   "source": [
    "tgt_train.columns"
   ]
  },
  {
   "cell_type": "code",
   "execution_count": 17,
   "id": "e2710394",
   "metadata": {},
   "outputs": [],
   "source": [
    "tgt_train.drop(['Geo', 'Network', 'Optimization', 'Creo', 'Brand', 'App', 'Date', 'ADS', 'Camp', 'Ad_group',\n",
    "       'Ad_group_target_CPA', 'Cost_USD', 'Cost', 'Show', 'Clicks', 'Install', 'Firstopen',\n",
    "       'Registration', 'FTD', 'Inst_cost_segment_AU_DE', 'Open_cost_segment_AU_DE', \n",
    "                'Reg_cost_segment_AU_DE', 'FTD_cost', 'CR_reg_ftd', 'CR_reg_ftd_segment', 'Campaign', 'CPA_segment'], axis=1, inplace=True)"
   ]
  },
  {
   "cell_type": "code",
   "execution_count": 18,
   "id": "262ffbea",
   "metadata": {},
   "outputs": [
    {
     "data": {
      "text/plain": [
       "Index(['CPM', 'CPM_segment', 'CPC', 'CPC_segment', 'Inst_cost',\n",
       "       'Inst_cost_segment', 'Open_cost', 'Open_cost_segment', 'Reg_cost',\n",
       "       'Reg_cost_segment', 'CTR', 'CTR_cost_segment', 'CR_click_inst',\n",
       "       'CR_click_inst_segment', 'CR_inst_open', 'CR_inst_open_segment',\n",
       "       'CR_open_reg', 'CR_open_reg_segment', 'Creo_group', 'Target'],\n",
       "      dtype='object')"
      ]
     },
     "execution_count": 18,
     "metadata": {},
     "output_type": "execute_result"
    }
   ],
   "source": [
    "tgt_train.columns"
   ]
  },
  {
   "cell_type": "code",
   "execution_count": 19,
   "id": "436b5425",
   "metadata": {
    "scrolled": true
   },
   "outputs": [
    {
     "data": {
      "text/plain": [
       "count    13680.000000\n",
       "mean         0.810386\n",
       "std          1.176064\n",
       "min          0.000000\n",
       "25%          0.000000\n",
       "50%          0.000000\n",
       "75%          1.400000\n",
       "max         25.000000\n",
       "Name: CR_inst_open, dtype: float64"
      ]
     },
     "execution_count": 19,
     "metadata": {},
     "output_type": "execute_result"
    }
   ],
   "source": [
    "tgt_train.CR_inst_open.describe()"
   ]
  },
  {
   "cell_type": "code",
   "execution_count": 20,
   "id": "122b082f",
   "metadata": {},
   "outputs": [
    {
     "data": {
      "text/plain": [
       "count    13680.000000\n",
       "mean         2.123319\n",
       "std          4.937910\n",
       "min          0.000000\n",
       "25%          0.000000\n",
       "50%          0.000000\n",
       "75%          2.510000\n",
       "max        161.710000\n",
       "Name: Reg_cost, dtype: float64"
      ]
     },
     "execution_count": 20,
     "metadata": {},
     "output_type": "execute_result"
    }
   ],
   "source": [
    "tgt_train.Reg_cost.describe()"
   ]
  },
  {
   "cell_type": "code",
   "execution_count": 21,
   "id": "dba48176",
   "metadata": {},
   "outputs": [
    {
     "data": {
      "text/plain": [
       "count    13680.000000\n",
       "mean         0.756950\n",
       "std          1.234538\n",
       "min          0.000000\n",
       "25%          0.000000\n",
       "50%          0.240000\n",
       "75%          1.140000\n",
       "max         23.450000\n",
       "Name: Inst_cost, dtype: float64"
      ]
     },
     "execution_count": 21,
     "metadata": {},
     "output_type": "execute_result"
    }
   ],
   "source": [
    "tgt_train.Inst_cost.describe()"
   ]
  },
  {
   "cell_type": "markdown",
   "id": "c3a3fa29",
   "metadata": {},
   "source": [
    "## Categorical variable encoding"
   ]
  },
  {
   "cell_type": "code",
   "execution_count": 22,
   "id": "aef778a5",
   "metadata": {},
   "outputs": [],
   "source": [
    "from sklearn.preprocessing import OneHotEncoder"
   ]
  },
  {
   "cell_type": "code",
   "execution_count": 23,
   "id": "59df5c81",
   "metadata": {},
   "outputs": [],
   "source": [
    "cat = ['CPM_segment', 'CPC_segment', 'Inst_cost_segment',  'Open_cost_segment',  'Reg_cost_segment', \n",
    "                       'CTR_cost_segment', 'CR_click_inst_segment',  'CR_inst_open_segment', 'CR_open_reg_segment']"
   ]
  },
  {
   "cell_type": "code",
   "execution_count": 24,
   "id": "3debb714",
   "metadata": {},
   "outputs": [],
   "source": [
    "x_cat = pd.get_dummies(tgt_train[cat])"
   ]
  },
  {
   "cell_type": "markdown",
   "id": "6248fce3",
   "metadata": {},
   "source": [
    "## Standardization"
   ]
  },
  {
   "cell_type": "code",
   "execution_count": 25,
   "id": "bcceeadf",
   "metadata": {},
   "outputs": [],
   "source": [
    "from sklearn.preprocessing import StandardScaler\n",
    "attrs_num = ['CPM', 'CPC', 'CTR', 'Inst_cost', 'Open_cost', 'Reg_cost', 'CR_click_inst', 'CR_inst_open', 'CR_open_reg']\n",
    "scl = StandardScaler()\n",
    "x_num = pd.DataFrame(scl.fit_transform(tgt_train[attrs_num]), columns=attrs_num)"
   ]
  },
  {
   "cell_type": "code",
   "execution_count": 26,
   "id": "87964473",
   "metadata": {},
   "outputs": [],
   "source": [
    "train_data = pd.concat([tgt_train[['Target']], x_num], axis=1)"
   ]
  },
  {
   "cell_type": "code",
   "execution_count": 27,
   "id": "1d557e0e",
   "metadata": {},
   "outputs": [],
   "source": [
    "# train_data = tgt_train[['Target', 'CPM', 'CPC', 'CTR', 'Inst_cost', 'Open_cost', 'Reg_cost', 'CR_click_inst', 'CR_inst_open', 'CR_open_reg']]"
   ]
  },
  {
   "cell_type": "markdown",
   "id": "3e91bf82",
   "metadata": {},
   "source": [
    "## Modeling"
   ]
  },
  {
   "cell_type": "code",
   "execution_count": 28,
   "id": "9dce82ee",
   "metadata": {},
   "outputs": [
    {
     "name": "stderr",
     "output_type": "stream",
     "text": [
      "C:\\Users\\u1-510\\Anaconda3\\lib\\site-packages\\lofo\\lofo_importance.py:3: TqdmExperimentalWarning: Using `tqdm.autonotebook.tqdm` in notebook mode. Use `tqdm.tqdm` instead to force console mode (e.g. in jupyter console)\n",
      "  from tqdm.autonotebook import tqdm\n"
     ]
    }
   ],
   "source": [
    "import matplotlib.pyplot as plt\n",
    "import seaborn as sns\n",
    "from xgboost import XGBClassifier\n",
    "import xgboost as xgb\n",
    "import lightgbm as lgb\n",
    "from lofo import LOFOImportance, Dataset, plot_importance # to install !pip install lofo-importance\n",
    "%matplotlib inline\n",
    "from sklearn.metrics import make_scorer, mean_absolute_error, f1_score, accuracy_score, confusion_matrix\n",
    "from sklearn.model_selection import train_test_split, StratifiedKFold, KFold, GridSearchCV, cross_val_score\n",
    "import itertools\n",
    "import optuna"
   ]
  },
  {
   "cell_type": "code",
   "execution_count": 29,
   "id": "8b04ac96",
   "metadata": {},
   "outputs": [],
   "source": [
    "from sklearn.metrics import confusion_matrix, classification_report, roc_auc_score , accuracy_score, precision_score"
   ]
  },
  {
   "cell_type": "code",
   "execution_count": 30,
   "id": "f8ca3b91",
   "metadata": {},
   "outputs": [],
   "source": [
    "from sklearn.model_selection import train_test_split"
   ]
  },
  {
   "cell_type": "code",
   "execution_count": 31,
   "id": "6ff3d7bf",
   "metadata": {},
   "outputs": [
    {
     "name": "stdout",
     "output_type": "stream",
     "text": [
      "(13680, 9) (13680,) (13680, 10)\n"
     ]
    }
   ],
   "source": [
    "# test_df = train_data.sample(n=199, random_state=7)\n",
    "# id_test = test_df['ID']\n",
    "# train = train_data.query(\"ID not in @id_test\")\n",
    "\n",
    "X = train_data.drop(\"Target\",axis=1)\n",
    "y = train_data['Target']\n",
    "\n",
    "print(X.shape, y.shape, train_data.shape)"
   ]
  },
  {
   "cell_type": "code",
   "execution_count": 32,
   "id": "cf881406",
   "metadata": {},
   "outputs": [],
   "source": [
    "X_train, X_test, y_train, y_test = train_test_split(X, y, \n",
    "                                                    test_size = .3,\n",
    "                                                    random_state = 31,\n",
    "                                                    stratify = y)"
   ]
  },
  {
   "cell_type": "code",
   "execution_count": 33,
   "id": "fcb5d5ed",
   "metadata": {},
   "outputs": [],
   "source": [
    "model = XGBClassifier(n_estimators=1000, learning_rate=0.11, max_depth = 5)"
   ]
  },
  {
   "cell_type": "code",
   "execution_count": 34,
   "id": "ec540952",
   "metadata": {},
   "outputs": [],
   "source": [
    "#Using kfold cross validation\n",
    "from sklearn.model_selection import KFold, cross_val_predict\n",
    "kf = KFold(shuffle=True, random_state=42, n_splits=3)\n",
    "for train_index, test_index in kf.split(X):\n",
    "    X_train, X_test, y_train, y_test = (X.iloc[train_index, :], \n",
    "                                        X.iloc[test_index, :], \n",
    "                                        y[train_index], \n",
    "                                        y[test_index])"
   ]
  },
  {
   "cell_type": "code",
   "execution_count": 35,
   "id": "2ba1884c",
   "metadata": {
    "scrolled": true
   },
   "outputs": [
    {
     "name": "stdout",
     "output_type": "stream",
     "text": [
      "[11:59:30] WARNING: C:/Users/Administrator/workspace/xgboost-win64_release_1.5.1/src/learner.cc:1115: Starting in XGBoost 1.3.0, the default evaluation metric used with the objective 'binary:logistic' was changed from 'error' to 'logloss'. Explicitly set eval_metric if you'd like to restore the old behavior.\n"
     ]
    },
    {
     "name": "stderr",
     "output_type": "stream",
     "text": [
      "C:\\Users\\u1-510\\Anaconda3\\lib\\site-packages\\xgboost\\sklearn.py:1224: UserWarning: The use of label encoder in XGBClassifier is deprecated and will be removed in a future release. To remove this warning, do the following: 1) Pass option use_label_encoder=False when constructing XGBClassifier object; and 2) Encode your labels (y) as integers starting with 0, i.e. 0, 1, 2, ..., [num_class - 1].\n",
      "  warnings.warn(label_encoder_deprecation_msg, UserWarning)\n"
     ]
    }
   ],
   "source": [
    "from xgboost.sklearn import XGBClassifier\n",
    "\n",
    "new_model =XGBClassifier(base_score=0.5, booster='gbtree', colsample_bylevel=1,\n",
    "              colsample_bynode=1, colsample_bytree=1, enable_categorical=False,\n",
    "              gamma=0, gpu_id=-1, importance_type=None,\n",
    "              interaction_constraints='', learning_rate=0.10, max_delta_step=0,\n",
    "              max_depth=5, min_child_weight=1,\n",
    "              monotone_constraints='()', n_estimators=1000, n_jobs=6,\n",
    "              num_parallel_tree=1, predictor='auto', random_state=0,\n",
    "              reg_alpha=0, reg_lambda=1, scale_pos_weight=1, subsample=1,\n",
    "              tree_method='exact', validate_parameters=1, verbosity=None)\n",
    "\n",
    "new_model.fit(X_train,y_train)\n",
    "predict_12=new_model.predict(X_test)"
   ]
  },
  {
   "cell_type": "code",
   "execution_count": 36,
   "id": "0c7b4e86",
   "metadata": {
    "scrolled": true
   },
   "outputs": [
    {
     "name": "stdout",
     "output_type": "stream",
     "text": [
      "0.9087719298245615\n",
      "[[4028  118]\n",
      " [ 298  116]]\n",
      "              precision    recall  f1-score   support\n",
      "\n",
      "           0       0.93      0.97      0.95      4146\n",
      "           1       0.50      0.28      0.36       414\n",
      "\n",
      "    accuracy                           0.91      4560\n",
      "   macro avg       0.71      0.63      0.65      4560\n",
      "weighted avg       0.89      0.91      0.90      4560\n",
      "\n"
     ]
    }
   ],
   "source": [
    "print(accuracy_score(y_test,predict_12))\n",
    "print(confusion_matrix(y_test,predict_12))\n",
    "print(classification_report(y_test,predict_12))"
   ]
  },
  {
   "cell_type": "code",
   "execution_count": 37,
   "id": "04b826e9",
   "metadata": {},
   "outputs": [
    {
     "data": {
      "image/png": "[encoded data removed]",
      "text/plain": [
       "<Figure size 360x360 with 1 Axes>"
      ]
     },
     "metadata": {},
     "output_type": "display_data"
    }
   ],
   "source": [
    "# Use predict_proba to predict probability of the class\n",
    "y_pred = new_model.predict_proba(X_test)[:,1]\n",
    "\n",
    "from plot_metric.functions import BinaryClassification\n",
    "# Visualisation with plot_metric\n",
    "bc = BinaryClassification(y_test, y_pred, labels=[\"Class 1\", \"Class 2\"])\n",
    "\n",
    "# Figures\n",
    "plt.figure(figsize=(5,5))\n",
    "bc.plot_roc_curve()\n",
    "plt.show()"
   ]
  },
  {
   "cell_type": "code",
   "execution_count": 38,
   "id": "7fc41fad",
   "metadata": {
    "scrolled": false
   },
   "outputs": [
    {
     "data": {
      "text/html": [
       "<div>\n",
       "<style scoped>\n",
       "    .dataframe tbody tr th:only-of-type {\n",
       "        vertical-align: middle;\n",
       "    }\n",
       "\n",
       "    .dataframe tbody tr th {\n",
       "        vertical-align: top;\n",
       "    }\n",
       "\n",
       "    .dataframe thead th {\n",
       "        text-align: right;\n",
       "    }\n",
       "</style>\n",
       "<table border=\"1\" class=\"dataframe\">\n",
       "  <thead>\n",
       "    <tr style=\"text-align: right;\">\n",
       "      <th></th>\n",
       "      <th>columns</th>\n",
       "      <th>importances</th>\n",
       "    </tr>\n",
       "  </thead>\n",
       "  <tbody>\n",
       "    <tr>\n",
       "      <th>8</th>\n",
       "      <td>CR_open_reg</td>\n",
       "      <td>0.335358</td>\n",
       "    </tr>\n",
       "    <tr>\n",
       "      <th>5</th>\n",
       "      <td>Reg_cost</td>\n",
       "      <td>0.152043</td>\n",
       "    </tr>\n",
       "    <tr>\n",
       "      <th>7</th>\n",
       "      <td>CR_inst_open</td>\n",
       "      <td>0.093659</td>\n",
       "    </tr>\n",
       "    <tr>\n",
       "      <th>6</th>\n",
       "      <td>CR_click_inst</td>\n",
       "      <td>0.076554</td>\n",
       "    </tr>\n",
       "    <tr>\n",
       "      <th>2</th>\n",
       "      <td>CTR</td>\n",
       "      <td>0.074069</td>\n",
       "    </tr>\n",
       "    <tr>\n",
       "      <th>4</th>\n",
       "      <td>Open_cost</td>\n",
       "      <td>0.071553</td>\n",
       "    </tr>\n",
       "    <tr>\n",
       "      <th>0</th>\n",
       "      <td>CPM</td>\n",
       "      <td>0.067129</td>\n",
       "    </tr>\n",
       "    <tr>\n",
       "      <th>3</th>\n",
       "      <td>Inst_cost</td>\n",
       "      <td>0.064932</td>\n",
       "    </tr>\n",
       "    <tr>\n",
       "      <th>1</th>\n",
       "      <td>CPC</td>\n",
       "      <td>0.064703</td>\n",
       "    </tr>\n",
       "  </tbody>\n",
       "</table>\n",
       "</div>"
      ],
      "text/plain": [
       "         columns  importances\n",
       "8    CR_open_reg     0.335358\n",
       "5       Reg_cost     0.152043\n",
       "7   CR_inst_open     0.093659\n",
       "6  CR_click_inst     0.076554\n",
       "2            CTR     0.074069\n",
       "4      Open_cost     0.071553\n",
       "0            CPM     0.067129\n",
       "3      Inst_cost     0.064932\n",
       "1            CPC     0.064703"
      ]
     },
     "execution_count": 38,
     "metadata": {},
     "output_type": "execute_result"
    }
   ],
   "source": [
    "results=pd.DataFrame()\n",
    "results['columns']=X.columns\n",
    "results['importances'] = new_model.feature_importances_\n",
    "results.sort_values(by='importances',ascending=False,inplace=True)\n",
    "\n",
    "results[:20]"
   ]
  },
  {
   "cell_type": "code",
   "execution_count": 40,
   "id": "bdc96cce",
   "metadata": {},
   "outputs": [
    {
     "name": "stderr",
     "output_type": "stream",
     "text": [
      "C:\\Users\\u1-510\\Anaconda3\\lib\\site-packages\\xgboost\\sklearn.py:1224: UserWarning: The use of label encoder in XGBClassifier is deprecated and will be removed in a future release. To remove this warning, do the following: 1) Pass option use_label_encoder=False when constructing XGBClassifier object; and 2) Encode your labels (y) as integers starting with 0, i.e. 0, 1, 2, ..., [num_class - 1].\n",
      "  warnings.warn(label_encoder_deprecation_msg, UserWarning)\n"
     ]
    }
   ],
   "source": [
    "new_model2 = XGBClassifier(base_score=0.5, booster='gbtree', colsample_bylevel=1,\n",
    "              colsample_bynode=1, colsample_bytree=1, enable_categorical=False,\n",
    "              gamma=0, gpu_id=-1, importance_type=None,\n",
    "              interaction_constraints='', learning_rate=0.12, max_delta_step=0,\n",
    "              max_depth=5, min_child_weight=7,\n",
    "              monotone_constraints='()', n_estimators=600, n_jobs=6,\n",
    "              num_parallel_tree=1, predictor='auto', random_state=0,\n",
    "              reg_alpha=0, reg_lambda=1, scale_pos_weight=1, subsample=0.8,\n",
    "              tree_method='exact', validate_parameters=1, verbosity=None, nthread=4, eval_metric='logloss')\n",
    "\n",
    "new_model2.fit(X_train,y_train)\n",
    "predict_12=new_model2.predict(X_test)"
   ]
  },
  {
   "cell_type": "code",
   "execution_count": 41,
   "id": "16008d00",
   "metadata": {},
   "outputs": [
    {
     "name": "stdout",
     "output_type": "stream",
     "text": [
      "0.9089912280701754\n",
      "[[4017  129]\n",
      " [ 286  128]]\n",
      "              precision    recall  f1-score   support\n",
      "\n",
      "           0       0.93      0.97      0.95      4146\n",
      "           1       0.50      0.31      0.38       414\n",
      "\n",
      "    accuracy                           0.91      4560\n",
      "   macro avg       0.72      0.64      0.67      4560\n",
      "weighted avg       0.89      0.91      0.90      4560\n",
      "\n"
     ]
    }
   ],
   "source": [
    "print(accuracy_score(y_test,predict_12))\n",
    "print(confusion_matrix(y_test,predict_12))\n",
    "print(classification_report(y_test,predict_12))"
   ]
  },
  {
   "cell_type": "code",
   "execution_count": 46,
   "id": "1f435862",
   "metadata": {},
   "outputs": [
    {
     "name": "stderr",
     "output_type": "stream",
     "text": [
      "C:\\Users\\u1-510\\Anaconda3\\lib\\site-packages\\xgboost\\sklearn.py:1224: UserWarning: The use of label encoder in XGBClassifier is deprecated and will be removed in a future release. To remove this warning, do the following: 1) Pass option use_label_encoder=False when constructing XGBClassifier object; and 2) Encode your labels (y) as integers starting with 0, i.e. 0, 1, 2, ..., [num_class - 1].\n",
      "  warnings.warn(label_encoder_deprecation_msg, UserWarning)\n"
     ]
    }
   ],
   "source": [
    "new_mode3 = XGBClassifier(base_score=0.4, booster='gbtree', colsample_bylevel=1,\n",
    "              colsample_bynode=1, colsample_bytree=1, enable_categorical=False,\n",
    "              gamma=0.016, gpu_id=-1, importance_type=None,\n",
    "              interaction_constraints='', learning_rate=0.121, max_delta_step=0,\n",
    "              max_depth=5, min_child_weight=7,\n",
    "              monotone_constraints='()', n_estimators=600, n_jobs=6,\n",
    "              num_parallel_tree=1, predictor='auto', random_state=0,\n",
    "              reg_alpha=0, reg_lambda=1, scale_pos_weight=1, subsample=0.8,\n",
    "              tree_method='exact', validate_parameters=1, verbosity=None, nthread=4, eval_metric='logloss')\n",
    "\n",
    "new_mode3.fit(X_train,y_train)\n",
    "predict_12=new_mode3.predict(X_test)"
   ]
  },
  {
   "cell_type": "code",
   "execution_count": 47,
   "id": "95b7e098",
   "metadata": {
    "scrolled": true
   },
   "outputs": [
    {
     "name": "stdout",
     "output_type": "stream",
     "text": [
      "0.9098684210526315\n",
      "[[4022  124]\n",
      " [ 287  127]]\n",
      "              precision    recall  f1-score   support\n",
      "\n",
      "           0       0.93      0.97      0.95      4146\n",
      "           1       0.51      0.31      0.38       414\n",
      "\n",
      "    accuracy                           0.91      4560\n",
      "   macro avg       0.72      0.64      0.67      4560\n",
      "weighted avg       0.89      0.91      0.90      4560\n",
      "\n"
     ]
    }
   ],
   "source": [
    "print(accuracy_score(y_test,predict_12))\n",
    "print(confusion_matrix(y_test,predict_12))\n",
    "print(classification_report(y_test,predict_12))"
   ]
  },
  {
   "cell_type": "code",
   "execution_count": 55,
   "id": "68fbed5c",
   "metadata": {
    "scrolled": false
   },
   "outputs": [
    {
     "name": "stderr",
     "output_type": "stream",
     "text": [
      "C:\\Users\\u1-510\\Anaconda3\\lib\\site-packages\\xgboost\\sklearn.py:1224: UserWarning: The use of label encoder in XGBClassifier is deprecated and will be removed in a future release. To remove this warning, do the following: 1) Pass option use_label_encoder=False when constructing XGBClassifier object; and 2) Encode your labels (y) as integers starting with 0, i.e. 0, 1, 2, ..., [num_class - 1].\n",
      "  warnings.warn(label_encoder_deprecation_msg, UserWarning)\n"
     ]
    },
    {
     "data": {
      "text/plain": [
       "XGBClassifier(base_score=0.4, booster='gbtree', colsample_bylevel=1,\n",
       "              colsample_bynode=1, colsample_bytree=1, enable_categorical=False,\n",
       "              eval_metric='logloss', gamma=0.016, gpu_id=-1,\n",
       "              importance_type=None, interaction_constraints='',\n",
       "              learning_rate=0.121, max_delta_step=0, max_depth=5,\n",
       "              min_child_weight=7, missing=nan, monotone_constraints='()',\n",
       "              n_estimators=600, n_jobs=6, nthread=4, num_parallel_tree=1,\n",
       "              predictor='auto', random_state=0, reg_alpha=0, reg_lambda=1,\n",
       "              scale_pos_weight=1, subsample=0.8, tree_method='exact',\n",
       "              validate_parameters=1, verbosity=None)"
      ]
     },
     "execution_count": 55,
     "metadata": {},
     "output_type": "execute_result"
    }
   ],
   "source": [
    "new_mode3.fit(X, y)"
   ]
  },
  {
   "cell_type": "code",
   "execution_count": 58,
   "id": "176a7687",
   "metadata": {},
   "outputs": [],
   "source": [
    "# # save in JSON format\n",
    "new_mode3.save_model(\"model_sklearn.json\")"
   ]
  }
 ],
 "metadata": {
  "kernelspec": {
   "display_name": "Python 3",
   "language": "python",
   "name": "python3"
  },
  "language_info": {
   "codemirror_mode": {
    "name": "ipython",
    "version": 3
   },
   "file_extension": ".py",
   "mimetype": "text/x-python",
   "name": "python",
   "nbconvert_exporter": "python",
   "pygments_lexer": "ipython3",
   "version": "3.8.8"
  }
 },
 "nbformat": 4,
 "nbformat_minor": 5
}
