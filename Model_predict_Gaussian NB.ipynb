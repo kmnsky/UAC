{
 "cells": [
  {
   "cell_type": "code",
   "execution_count": 1,
   "id": "ee74e785",
   "metadata": {},
   "outputs": [],
   "source": [
    "# data analysis and wrangling\n",
    "import pandas as pd\n",
    "import numpy as np\n",
    "import re\n",
    "import datetime as dt\n",
    "\n",
    "# # visualization\n",
    "# import seaborn as sns\n",
    "# import matplotlib.pyplot as plt\n",
    "# %matplotlib inline\n",
    "\n",
    "# Writing multiple dataframes to worksheets using Pandas and XlsxWriter\n",
    "import xlsxwriter\n",
    "import glob\n",
    "\n",
    "# !pip install xlsxwriter\n",
    "# !pip install glob"
   ]
  },
  {
   "cell_type": "code",
   "execution_count": 2,
   "id": "d931a20c",
   "metadata": {},
   "outputs": [],
   "source": [
    "xls = pd.ExcelFile(r'C:\\Users\\u1-510\\Desktop\\Python\\Untitled Folder\\Analysis_Сonversion.xlsx')\n",
    "df = pd.read_excel(xls, 'Segment')"
   ]
  },
  {
   "cell_type": "code",
   "execution_count": 3,
   "id": "211fb064",
   "metadata": {},
   "outputs": [],
   "source": [
    "import re\n",
    "df = df.rename(columns = lambda x:re.sub('[^A-Za-z0-9_]+', '', x))"
   ]
  },
  {
   "cell_type": "code",
   "execution_count": 4,
   "id": "ee3896ad",
   "metadata": {},
   "outputs": [],
   "source": [
    "df = df.query(\"(Geo=='KZ') | (Geo=='RU') | (Geo=='UA')\")"
   ]
  },
  {
   "cell_type": "code",
   "execution_count": 5,
   "id": "023e78e1",
   "metadata": {},
   "outputs": [],
   "source": [
    "df = df.query(\"Network=='Видео на YouTube'\")"
   ]
  },
  {
   "cell_type": "code",
   "execution_count": 6,
   "id": "74779049",
   "metadata": {},
   "outputs": [],
   "source": [
    "# Только номер креатива\n",
    "df['Creo_group'] = df['Creo'].str.split('(\\d+)([A-Za-z]+)', expand=True).loc[:,[1]]"
   ]
  },
  {
   "cell_type": "code",
   "execution_count": 7,
   "id": "861c9005",
   "metadata": {},
   "outputs": [],
   "source": [
    "def ftd_target(el):\n",
    "    if el > 0:\n",
    "        return 1\n",
    "    else:\n",
    "        return 0"
   ]
  },
  {
   "cell_type": "code",
   "execution_count": 8,
   "id": "6fb26e4c",
   "metadata": {},
   "outputs": [],
   "source": [
    "df['Target'] = df['FTD'].map(ftd_target)"
   ]
  },
  {
   "cell_type": "code",
   "execution_count": 9,
   "id": "c2e1d5ac",
   "metadata": {},
   "outputs": [
    {
     "data": {
      "text/plain": [
       "<AxesSubplot:>"
      ]
     },
     "execution_count": 9,
     "metadata": {},
     "output_type": "execute_result"
    },
    {
     "data": {
      "image/png": "[encoded data removed]",
      "text/plain": [
       "<Figure size 432x288 with 1 Axes>"
      ]
     },
     "metadata": {
      "needs_background": "light"
     },
     "output_type": "display_data"
    }
   ],
   "source": [
    "df['Target'].hist()"
   ]
  },
  {
   "cell_type": "code",
   "execution_count": 10,
   "id": "cefd619b",
   "metadata": {},
   "outputs": [
    {
     "data": {
      "text/html": [
       "<div>\n",
       "<style scoped>\n",
       "    .dataframe tbody tr th:only-of-type {\n",
       "        vertical-align: middle;\n",
       "    }\n",
       "\n",
       "    .dataframe tbody tr th {\n",
       "        vertical-align: top;\n",
       "    }\n",
       "\n",
       "    .dataframe thead th {\n",
       "        text-align: right;\n",
       "    }\n",
       "</style>\n",
       "<table border=\"1\" class=\"dataframe\">\n",
       "  <thead>\n",
       "    <tr style=\"text-align: right;\">\n",
       "      <th></th>\n",
       "      <th>index</th>\n",
       "      <th>Target</th>\n",
       "    </tr>\n",
       "  </thead>\n",
       "  <tbody>\n",
       "    <tr>\n",
       "      <th>0</th>\n",
       "      <td>0</td>\n",
       "      <td>12419</td>\n",
       "    </tr>\n",
       "    <tr>\n",
       "      <th>1</th>\n",
       "      <td>1</td>\n",
       "      <td>1261</td>\n",
       "    </tr>\n",
       "  </tbody>\n",
       "</table>\n",
       "</div>"
      ],
      "text/plain": [
       "   index  Target\n",
       "0      0   12419\n",
       "1      1    1261"
      ]
     },
     "execution_count": 10,
     "metadata": {},
     "output_type": "execute_result"
    }
   ],
   "source": [
    "df.Target.value_counts().reset_index()"
   ]
  },
  {
   "cell_type": "code",
   "execution_count": 11,
   "id": "e31559b2",
   "metadata": {},
   "outputs": [],
   "source": [
    "tgt_train = df.copy()"
   ]
  },
  {
   "cell_type": "code",
   "execution_count": 12,
   "id": "3ff30ba4",
   "metadata": {},
   "outputs": [],
   "source": [
    "tgt_train['Campaign'] = tgt_train['ADS'].astype(str) + ' ' +  tgt_train['Camp'].astype(str) + ' ' + tgt_train['Ad_group'].astype(str) + ' ' + tgt_train['Date'].astype(str)"
   ]
  },
  {
   "cell_type": "code",
   "execution_count": 13,
   "id": "3176b2b9",
   "metadata": {},
   "outputs": [],
   "source": [
    "tgt_train = tgt_train.reset_index(drop=True)"
   ]
  },
  {
   "cell_type": "code",
   "execution_count": 14,
   "id": "d041f97b",
   "metadata": {},
   "outputs": [],
   "source": [
    "# # Словарь класификации\n",
    "# codes_cats = tgt_train.Campaign.astype('category')\n",
    "# dict_cats = dict(enumerate(codes_cats.cat.categories))"
   ]
  },
  {
   "cell_type": "code",
   "execution_count": 15,
   "id": "a3171df4",
   "metadata": {},
   "outputs": [],
   "source": [
    "# # Присвоенные cat.codes\n",
    "# tgt_train['ID'] = tgt_train.Campaign.astype('category').cat.codes\n",
    "\n",
    "# # Розшифровка\n",
    "# #df_group['level_back'] = df_group['ID'].map(dict_cats)"
   ]
  },
  {
   "cell_type": "code",
   "execution_count": 16,
   "id": "07589143",
   "metadata": {},
   "outputs": [
    {
     "data": {
      "text/plain": [
       "Index(['Geo', 'Network', 'Optimization', 'Creo', 'Brand',\n",
       "       'Ad_group_target_CPA', 'ADS', 'Camp', 'Ad_group', 'App', 'Date',\n",
       "       'Cost_USD', 'Cost', 'Show', 'Clicks', 'Install', 'Firstopen',\n",
       "       'Registration', 'FTD', 'CPM', 'CPM_segment', 'CPC', 'CPC_segment',\n",
       "       'Inst_cost', 'Inst_cost_segment', 'Inst_cost_segment_AU_DE',\n",
       "       'Open_cost', 'Open_cost_segment', 'Open_cost_segment_AU_DE', 'Reg_cost',\n",
       "       'Reg_cost_segment', 'Reg_cost_segment_AU_DE', 'FTD_cost', 'CTR',\n",
       "       'CTR_cost_segment', 'CR_click_inst', 'CR_click_inst_segment',\n",
       "       'CR_inst_open', 'CR_inst_open_segment', 'CR_open_reg',\n",
       "       'CR_open_reg_segment', 'CR_reg_ftd', 'CR_reg_ftd_segment',\n",
       "       'CPA_segment', 'Creo_group', 'Target', 'Campaign'],\n",
       "      dtype='object')"
      ]
     },
     "execution_count": 16,
     "metadata": {},
     "output_type": "execute_result"
    }
   ],
   "source": [
    "tgt_train.columns"
   ]
  },
  {
   "cell_type": "code",
   "execution_count": 17,
   "id": "e2710394",
   "metadata": {},
   "outputs": [],
   "source": [
    "tgt_train.drop(['Geo', 'Network', 'Optimization', 'Creo', 'Brand', 'App', 'Date', 'ADS', 'Camp', 'Ad_group',\n",
    "       'Ad_group_target_CPA', 'Cost_USD', 'Cost', 'Show', 'Clicks', 'Install', 'Firstopen',\n",
    "       'Registration', 'FTD', 'Inst_cost_segment_AU_DE', 'Open_cost_segment_AU_DE', \n",
    "                'Reg_cost_segment_AU_DE', 'FTD_cost', 'CR_reg_ftd', 'CR_reg_ftd_segment', 'Campaign', 'CPA_segment'], axis=1, inplace=True)"
   ]
  },
  {
   "cell_type": "code",
   "execution_count": 18,
   "id": "262ffbea",
   "metadata": {},
   "outputs": [
    {
     "data": {
      "text/plain": [
       "Index(['CPM', 'CPM_segment', 'CPC', 'CPC_segment', 'Inst_cost',\n",
       "       'Inst_cost_segment', 'Open_cost', 'Open_cost_segment', 'Reg_cost',\n",
       "       'Reg_cost_segment', 'CTR', 'CTR_cost_segment', 'CR_click_inst',\n",
       "       'CR_click_inst_segment', 'CR_inst_open', 'CR_inst_open_segment',\n",
       "       'CR_open_reg', 'CR_open_reg_segment', 'Creo_group', 'Target'],\n",
       "      dtype='object')"
      ]
     },
     "execution_count": 18,
     "metadata": {},
     "output_type": "execute_result"
    }
   ],
   "source": [
    "tgt_train.columns"
   ]
  },
  {
   "cell_type": "code",
   "execution_count": 19,
   "id": "436b5425",
   "metadata": {
    "scrolled": true
   },
   "outputs": [
    {
     "data": {
      "text/plain": [
       "count    13680.000000\n",
       "mean         0.810386\n",
       "std          1.176064\n",
       "min          0.000000\n",
       "25%          0.000000\n",
       "50%          0.000000\n",
       "75%          1.400000\n",
       "max         25.000000\n",
       "Name: CR_inst_open, dtype: float64"
      ]
     },
     "execution_count": 19,
     "metadata": {},
     "output_type": "execute_result"
    }
   ],
   "source": [
    "tgt_train.CR_inst_open.describe()"
   ]
  },
  {
   "cell_type": "code",
   "execution_count": 20,
   "id": "122b082f",
   "metadata": {},
   "outputs": [
    {
     "data": {
      "text/plain": [
       "count    13680.000000\n",
       "mean         2.123319\n",
       "std          4.937910\n",
       "min          0.000000\n",
       "25%          0.000000\n",
       "50%          0.000000\n",
       "75%          2.510000\n",
       "max        161.710000\n",
       "Name: Reg_cost, dtype: float64"
      ]
     },
     "execution_count": 20,
     "metadata": {},
     "output_type": "execute_result"
    }
   ],
   "source": [
    "tgt_train.Reg_cost.describe()"
   ]
  },
  {
   "cell_type": "code",
   "execution_count": 21,
   "id": "dba48176",
   "metadata": {},
   "outputs": [
    {
     "data": {
      "text/plain": [
       "count    13680.000000\n",
       "mean         0.756950\n",
       "std          1.234538\n",
       "min          0.000000\n",
       "25%          0.000000\n",
       "50%          0.240000\n",
       "75%          1.140000\n",
       "max         23.450000\n",
       "Name: Inst_cost, dtype: float64"
      ]
     },
     "execution_count": 21,
     "metadata": {},
     "output_type": "execute_result"
    }
   ],
   "source": [
    "tgt_train.Inst_cost.describe()"
   ]
  },
  {
   "cell_type": "markdown",
   "id": "c3a3fa29",
   "metadata": {},
   "source": [
    "## Categorical variable encoding"
   ]
  },
  {
   "cell_type": "code",
   "execution_count": 22,
   "id": "aef778a5",
   "metadata": {},
   "outputs": [],
   "source": [
    "from sklearn.preprocessing import OneHotEncoder"
   ]
  },
  {
   "cell_type": "code",
   "execution_count": 23,
   "id": "59df5c81",
   "metadata": {},
   "outputs": [],
   "source": [
    "cat = ['CPM_segment', 'CPC_segment', 'Inst_cost_segment',  'Open_cost_segment',  'Reg_cost_segment', \n",
    "                       'CTR_cost_segment', 'CR_click_inst_segment',  'CR_inst_open_segment', 'CR_open_reg_segment']"
   ]
  },
  {
   "cell_type": "code",
   "execution_count": 24,
   "id": "3debb714",
   "metadata": {},
   "outputs": [],
   "source": [
    "x_cat = pd.get_dummies(tgt_train[cat])"
   ]
  },
  {
   "cell_type": "markdown",
   "id": "6248fce3",
   "metadata": {},
   "source": [
    "## Standardization"
   ]
  },
  {
   "cell_type": "code",
   "execution_count": 25,
   "id": "bcceeadf",
   "metadata": {},
   "outputs": [],
   "source": [
    "from sklearn.preprocessing import StandardScaler\n",
    "attrs_num = ['CPM', 'CPC', 'CTR', 'Inst_cost', 'Open_cost', 'Reg_cost', 'CR_click_inst', 'CR_inst_open', 'CR_open_reg']\n",
    "scl = StandardScaler()\n",
    "x_num = pd.DataFrame(scl.fit_transform(tgt_train[attrs_num]), columns=attrs_num)"
   ]
  },
  {
   "cell_type": "code",
   "execution_count": 26,
   "id": "87964473",
   "metadata": {},
   "outputs": [],
   "source": [
    "train_data = pd.concat([tgt_train[['Target']], x_num], axis=1)"
   ]
  },
  {
   "cell_type": "code",
   "execution_count": 27,
   "id": "1d557e0e",
   "metadata": {},
   "outputs": [],
   "source": [
    "# train_data = tgt_train[['Target', 'CPM', 'CPC', 'CTR', 'Inst_cost', 'Open_cost', 'Reg_cost', 'CR_click_inst', 'CR_inst_open', 'CR_open_reg']]"
   ]
  },
  {
   "cell_type": "markdown",
   "id": "3e91bf82",
   "metadata": {},
   "source": [
    "## Modeling"
   ]
  },
  {
   "cell_type": "code",
   "execution_count": 33,
   "id": "d1b40ef6",
   "metadata": {},
   "outputs": [],
   "source": [
    "from sklearn.metrics import confusion_matrix, classification_report, roc_auc_score , accuracy_score, precision_score"
   ]
  },
  {
   "cell_type": "code",
   "execution_count": 28,
   "id": "8a3a6f8e",
   "metadata": {},
   "outputs": [
    {
     "name": "stdout",
     "output_type": "stream",
     "text": [
      "(13680, 9) (13680,) (13680, 10)\n"
     ]
    }
   ],
   "source": [
    "X = train_data.drop(\"Target\",axis=1)\n",
    "y = train_data['Target']\n",
    "\n",
    "print(X.shape, y.shape, train_data.shape)"
   ]
  },
  {
   "cell_type": "code",
   "execution_count": 30,
   "id": "842fd9d2",
   "metadata": {},
   "outputs": [],
   "source": [
    "from sklearn.model_selection import train_test_split\n",
    "X_train, X_test, y_train, y_test = train_test_split(X, y, test_size=0.3,random_state=31)"
   ]
  },
  {
   "cell_type": "code",
   "execution_count": 35,
   "id": "9d6d88d4",
   "metadata": {},
   "outputs": [],
   "source": [
    "from sklearn.linear_model import LogisticRegression\n",
    "from sklearn.naive_bayes import GaussianNB"
   ]
  },
  {
   "cell_type": "code",
   "execution_count": 96,
   "id": "56dfd394",
   "metadata": {},
   "outputs": [],
   "source": [
    "model = GaussianNB(priors=[0.9, 0.1])"
   ]
  },
  {
   "cell_type": "code",
   "execution_count": 97,
   "id": "b2ae2405",
   "metadata": {},
   "outputs": [],
   "source": [
    "model.fit(X_train,y_train)\n",
    "predict=model.predict(X_test)"
   ]
  },
  {
   "cell_type": "code",
   "execution_count": 98,
   "id": "b632ba10",
   "metadata": {},
   "outputs": [
    {
     "name": "stdout",
     "output_type": "stream",
     "text": [
      "0.7509746588693957\n",
      "[[2767  952]\n",
      " [  70  315]]\n",
      "              precision    recall  f1-score   support\n",
      "\n",
      "           0       0.98      0.74      0.84      3719\n",
      "           1       0.25      0.82      0.38       385\n",
      "\n",
      "    accuracy                           0.75      4104\n",
      "   macro avg       0.61      0.78      0.61      4104\n",
      "weighted avg       0.91      0.75      0.80      4104\n",
      "\n"
     ]
    }
   ],
   "source": [
    "print(accuracy_score(y_test,predict))\n",
    "print(confusion_matrix(y_test,predict))\n",
    "print(classification_report(y_test,predict))"
   ]
  },
  {
   "cell_type": "code",
   "execution_count": 100,
   "id": "99348808",
   "metadata": {},
   "outputs": [],
   "source": [
    "model2 = GaussianNB(priors=[0.9, 0.1])"
   ]
  },
  {
   "cell_type": "code",
   "execution_count": 101,
   "id": "7a9bdb27",
   "metadata": {},
   "outputs": [
    {
     "data": {
      "text/plain": [
       "GaussianNB(priors=[0.9, 0.1])"
      ]
     },
     "execution_count": 101,
     "metadata": {},
     "output_type": "execute_result"
    }
   ],
   "source": [
    "model2.fit(X,y)"
   ]
  },
  {
   "cell_type": "code",
   "execution_count": 105,
   "id": "61957607",
   "metadata": {},
   "outputs": [],
   "source": [
    "import pickle"
   ]
  },
  {
   "cell_type": "code",
   "execution_count": 106,
   "id": "a30b5c1f",
   "metadata": {},
   "outputs": [],
   "source": [
    "file_name = \"GaussianNB.pkl\"\n",
    "with open(file_name, \"wb\") as open_file:\n",
    "    pickle.dump(model2, open_file)"
   ]
  },
  {
   "cell_type": "code",
   "execution_count": 107,
   "id": "78f4d54b",
   "metadata": {},
   "outputs": [
    {
     "name": "stdout",
     "output_type": "stream",
     "text": [
      "GaussianNB(priors=[0.9, 0.1])\n"
     ]
    }
   ],
   "source": [
    "with open(\"GaussianNB.pkl\", 'rb') as open_file:\n",
    "    loaded_classifier = pickle.load(open_file)\n",
    "\n",
    "print(loaded_classifier)"
   ]
  }
 ],
 "metadata": {
  "kernelspec": {
   "display_name": "Python 3",
   "language": "python",
   "name": "python3"
  },
  "language_info": {
   "codemirror_mode": {
    "name": "ipython",
    "version": 3
   },
   "file_extension": ".py",
   "mimetype": "text/x-python",
   "name": "python",
   "nbconvert_exporter": "python",
   "pygments_lexer": "ipython3",
   "version": "3.8.8"
  }
 },
 "nbformat": 4,
 "nbformat_minor": 5
}
